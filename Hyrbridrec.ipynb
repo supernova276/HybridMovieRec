{
  "cells": [
    {
      "cell_type": "markdown",
      "metadata": {
        "id": "view-in-github",
        "colab_type": "text"
      },
      "source": [
        "<a href=\"https://colab.research.google.com/github/supernova276/HybridMovieRec/blob/main/Hyrbridrec.ipynb\" target=\"_parent\"><img src=\"https://colab.research.google.com/assets/colab-badge.svg\" alt=\"Open In Colab\"/></a>"
      ]
    },
    {
      "cell_type": "code",
      "execution_count": null,
      "metadata": {
        "colab": {
          "base_uri": "https://localhost:8080/"
        },
        "id": "AH081a28quHP",
        "outputId": "5038bcbc-326a-4360-f518-49fe92e7445a"
      },
      "outputs": [
        {
          "output_type": "stream",
          "name": "stdout",
          "text": [
            "Looking in indexes: https://pypi.org/simple, https://us-python.pkg.dev/colab-wheels/public/simple/\n",
            "Requirement already satisfied: fuzzywuzzy in /usr/local/lib/python3.8/dist-packages (0.18.0)\n"
          ]
        }
      ],
      "source": [
        "!pip install fuzzywuzzy #used to calculate the similarity between strings"
      ]
    },
    {
      "cell_type": "code",
      "execution_count": null,
      "metadata": {
        "colab": {
          "base_uri": "https://localhost:8080/"
        },
        "id": "5Gp37X3QrDYJ",
        "outputId": "8bd52d21-96f8-4919-9131-1aee468da43e"
      },
      "outputs": [
        {
          "output_type": "stream",
          "name": "stdout",
          "text": [
            "Looking in indexes: https://pypi.org/simple, https://us-python.pkg.dev/colab-wheels/public/simple/\n",
            "Requirement already satisfied: surprise in /usr/local/lib/python3.8/dist-packages (0.1)\n",
            "Requirement already satisfied: scikit-surprise in /usr/local/lib/python3.8/dist-packages (from surprise) (1.1.3)\n",
            "Requirement already satisfied: joblib>=1.0.0 in /usr/local/lib/python3.8/dist-packages (from scikit-surprise->surprise) (1.2.0)\n",
            "Requirement already satisfied: numpy>=1.17.3 in /usr/local/lib/python3.8/dist-packages (from scikit-surprise->surprise) (1.21.6)\n",
            "Requirement already satisfied: scipy>=1.3.2 in /usr/local/lib/python3.8/dist-packages (from scikit-surprise->surprise) (1.7.3)\n"
          ]
        }
      ],
      "source": [
        "!pip install surprise #module for recommender systems ,provides ready touse pred algo like svd"
      ]
    },
    {
      "cell_type": "markdown",
      "source": [
        "#installing required librairies"
      ],
      "metadata": {
        "id": "99EhjwfP82l2"
      }
    },
    {
      "cell_type": "code",
      "execution_count": null,
      "metadata": {
        "colab": {
          "base_uri": "https://localhost:8080/"
        },
        "id": "GwzAHxAarwjf",
        "outputId": "24c7bd4f-2cff-4eeb-c0ef-577dc037af37"
      },
      "outputs": [
        {
          "output_type": "stream",
          "name": "stderr",
          "text": [
            "[nltk_data] Downloading package stopwords to /root/nltk_data...\n",
            "[nltk_data]   Package stopwords is already up-to-date!\n",
            "[nltk_data] Downloading package wordnet to /root/nltk_data...\n",
            "[nltk_data]   Package wordnet is already up-to-date!\n",
            "[nltk_data] Downloading package omw-1.4 to /root/nltk_data...\n",
            "[nltk_data]   Package omw-1.4 is already up-to-date!\n"
          ]
        },
        {
          "output_type": "execute_result",
          "data": {
            "text/plain": [
              "True"
            ]
          },
          "metadata": {},
          "execution_count": 19
        }
      ],
      "source": [
        "import pandas as pd\n",
        "import numpy as np\n",
        "from sklearn.metrics.pairwise import cosine_similarity\n",
        "from surprise import SVD, SVDpp, KNNBasic\n",
        "import re \n",
        "import nltk\n",
        "from sklearn.feature_extraction.text import TfidfVectorizer\n",
        "from fuzzywuzzy import fuzz\n",
        "\n",
        "from surprise import Dataset\n",
        "from surprise.model_selection import cross_validate,train_test_split, GridSearchCV\n",
        "from surprise import NormalPredictor\n",
        "from surprise import Reader\n",
        "\n",
        "from matplotlib import pyplot as plt\n",
        "\n",
        "from nltk.corpus import stopwords\n",
        "from nltk.stem import WordNetLemmatizer\n",
        "from IPython.display import display\n",
        "nltk.download('stopwords')\n",
        "nltk.download('wordnet')\n",
        "nltk.download('omw-1.4')"
      ]
    },
    {
      "cell_type": "markdown",
      "source": [
        "#exploratory data analysis"
      ],
      "metadata": {
        "id": "H9nI8s7j8925"
      }
    },
    {
      "cell_type": "code",
      "execution_count": null,
      "metadata": {
        "id": "6_5hfgKesO2P"
      },
      "outputs": [],
      "source": [
        "movies=pd.read_csv('/content/movies.csv')\n",
        "ratings=pd.read_csv('/content/ratings.csv')\n"
      ]
    },
    {
      "cell_type": "code",
      "execution_count": null,
      "metadata": {
        "colab": {
          "base_uri": "https://localhost:8080/",
          "height": 206
        },
        "id": "6OMDRDrass_4",
        "outputId": "35db78e6-5bde-427c-8ded-7133321d9862"
      },
      "outputs": [
        {
          "output_type": "execute_result",
          "data": {
            "text/plain": [
              "   movieId                               title  \\\n",
              "0        1                    Toy Story (1995)   \n",
              "1        2                      Jumanji (1995)   \n",
              "2        3             Grumpier Old Men (1995)   \n",
              "3        4            Waiting to Exhale (1995)   \n",
              "4        5  Father of the Bride Part II (1995)   \n",
              "\n",
              "                                        genres  \n",
              "0  Adventure|Animation|Children|Comedy|Fantasy  \n",
              "1                   Adventure|Children|Fantasy  \n",
              "2                               Comedy|Romance  \n",
              "3                         Comedy|Drama|Romance  \n",
              "4                                       Comedy  "
            ],
            "text/html": [
              "\n",
              "  <div id=\"df-9020a216-f5d6-43a5-869a-a2926af26aa1\">\n",
              "    <div class=\"colab-df-container\">\n",
              "      <div>\n",
              "<style scoped>\n",
              "    .dataframe tbody tr th:only-of-type {\n",
              "        vertical-align: middle;\n",
              "    }\n",
              "\n",
              "    .dataframe tbody tr th {\n",
              "        vertical-align: top;\n",
              "    }\n",
              "\n",
              "    .dataframe thead th {\n",
              "        text-align: right;\n",
              "    }\n",
              "</style>\n",
              "<table border=\"1\" class=\"dataframe\">\n",
              "  <thead>\n",
              "    <tr style=\"text-align: right;\">\n",
              "      <th></th>\n",
              "      <th>movieId</th>\n",
              "      <th>title</th>\n",
              "      <th>genres</th>\n",
              "    </tr>\n",
              "  </thead>\n",
              "  <tbody>\n",
              "    <tr>\n",
              "      <th>0</th>\n",
              "      <td>1</td>\n",
              "      <td>Toy Story (1995)</td>\n",
              "      <td>Adventure|Animation|Children|Comedy|Fantasy</td>\n",
              "    </tr>\n",
              "    <tr>\n",
              "      <th>1</th>\n",
              "      <td>2</td>\n",
              "      <td>Jumanji (1995)</td>\n",
              "      <td>Adventure|Children|Fantasy</td>\n",
              "    </tr>\n",
              "    <tr>\n",
              "      <th>2</th>\n",
              "      <td>3</td>\n",
              "      <td>Grumpier Old Men (1995)</td>\n",
              "      <td>Comedy|Romance</td>\n",
              "    </tr>\n",
              "    <tr>\n",
              "      <th>3</th>\n",
              "      <td>4</td>\n",
              "      <td>Waiting to Exhale (1995)</td>\n",
              "      <td>Comedy|Drama|Romance</td>\n",
              "    </tr>\n",
              "    <tr>\n",
              "      <th>4</th>\n",
              "      <td>5</td>\n",
              "      <td>Father of the Bride Part II (1995)</td>\n",
              "      <td>Comedy</td>\n",
              "    </tr>\n",
              "  </tbody>\n",
              "</table>\n",
              "</div>\n",
              "      <button class=\"colab-df-convert\" onclick=\"convertToInteractive('df-9020a216-f5d6-43a5-869a-a2926af26aa1')\"\n",
              "              title=\"Convert this dataframe to an interactive table.\"\n",
              "              style=\"display:none;\">\n",
              "        \n",
              "  <svg xmlns=\"http://www.w3.org/2000/svg\" height=\"24px\"viewBox=\"0 0 24 24\"\n",
              "       width=\"24px\">\n",
              "    <path d=\"M0 0h24v24H0V0z\" fill=\"none\"/>\n",
              "    <path d=\"M18.56 5.44l.94 2.06.94-2.06 2.06-.94-2.06-.94-.94-2.06-.94 2.06-2.06.94zm-11 1L8.5 8.5l.94-2.06 2.06-.94-2.06-.94L8.5 2.5l-.94 2.06-2.06.94zm10 10l.94 2.06.94-2.06 2.06-.94-2.06-.94-.94-2.06-.94 2.06-2.06.94z\"/><path d=\"M17.41 7.96l-1.37-1.37c-.4-.4-.92-.59-1.43-.59-.52 0-1.04.2-1.43.59L10.3 9.45l-7.72 7.72c-.78.78-.78 2.05 0 2.83L4 21.41c.39.39.9.59 1.41.59.51 0 1.02-.2 1.41-.59l7.78-7.78 2.81-2.81c.8-.78.8-2.07 0-2.86zM5.41 20L4 18.59l7.72-7.72 1.47 1.35L5.41 20z\"/>\n",
              "  </svg>\n",
              "      </button>\n",
              "      \n",
              "  <style>\n",
              "    .colab-df-container {\n",
              "      display:flex;\n",
              "      flex-wrap:wrap;\n",
              "      gap: 12px;\n",
              "    }\n",
              "\n",
              "    .colab-df-convert {\n",
              "      background-color: #E8F0FE;\n",
              "      border: none;\n",
              "      border-radius: 50%;\n",
              "      cursor: pointer;\n",
              "      display: none;\n",
              "      fill: #1967D2;\n",
              "      height: 32px;\n",
              "      padding: 0 0 0 0;\n",
              "      width: 32px;\n",
              "    }\n",
              "\n",
              "    .colab-df-convert:hover {\n",
              "      background-color: #E2EBFA;\n",
              "      box-shadow: 0px 1px 2px rgba(60, 64, 67, 0.3), 0px 1px 3px 1px rgba(60, 64, 67, 0.15);\n",
              "      fill: #174EA6;\n",
              "    }\n",
              "\n",
              "    [theme=dark] .colab-df-convert {\n",
              "      background-color: #3B4455;\n",
              "      fill: #D2E3FC;\n",
              "    }\n",
              "\n",
              "    [theme=dark] .colab-df-convert:hover {\n",
              "      background-color: #434B5C;\n",
              "      box-shadow: 0px 1px 3px 1px rgba(0, 0, 0, 0.15);\n",
              "      filter: drop-shadow(0px 1px 2px rgba(0, 0, 0, 0.3));\n",
              "      fill: #FFFFFF;\n",
              "    }\n",
              "  </style>\n",
              "\n",
              "      <script>\n",
              "        const buttonEl =\n",
              "          document.querySelector('#df-9020a216-f5d6-43a5-869a-a2926af26aa1 button.colab-df-convert');\n",
              "        buttonEl.style.display =\n",
              "          google.colab.kernel.accessAllowed ? 'block' : 'none';\n",
              "\n",
              "        async function convertToInteractive(key) {\n",
              "          const element = document.querySelector('#df-9020a216-f5d6-43a5-869a-a2926af26aa1');\n",
              "          const dataTable =\n",
              "            await google.colab.kernel.invokeFunction('convertToInteractive',\n",
              "                                                     [key], {});\n",
              "          if (!dataTable) return;\n",
              "\n",
              "          const docLinkHtml = 'Like what you see? Visit the ' +\n",
              "            '<a target=\"_blank\" href=https://colab.research.google.com/notebooks/data_table.ipynb>data table notebook</a>'\n",
              "            + ' to learn more about interactive tables.';\n",
              "          element.innerHTML = '';\n",
              "          dataTable['output_type'] = 'display_data';\n",
              "          await google.colab.output.renderOutput(dataTable, element);\n",
              "          const docLink = document.createElement('div');\n",
              "          docLink.innerHTML = docLinkHtml;\n",
              "          element.appendChild(docLink);\n",
              "        }\n",
              "      </script>\n",
              "    </div>\n",
              "  </div>\n",
              "  "
            ]
          },
          "metadata": {},
          "execution_count": 22
        }
      ],
      "source": [
        "movies.head(5)"
      ]
    },
    {
      "cell_type": "code",
      "source": [
        "movies['title']"
      ],
      "metadata": {
        "colab": {
          "base_uri": "https://localhost:8080/"
        },
        "id": "EUKf-EGsPtlN",
        "outputId": "e347e6c9-58e6-41fe-8c31-6b8031f66ce4"
      },
      "execution_count": null,
      "outputs": [
        {
          "output_type": "execute_result",
          "data": {
            "text/plain": [
              "0                                Toy Story (1995)\n",
              "1                                  Jumanji (1995)\n",
              "2                         Grumpier Old Men (1995)\n",
              "3                        Waiting to Exhale (1995)\n",
              "4              Father of the Bride Part II (1995)\n",
              "                          ...                    \n",
              "9737    Black Butler: Book of the Atlantic (2017)\n",
              "9738                 No Game No Life: Zero (2017)\n",
              "9739                                 Flint (2017)\n",
              "9740          Bungo Stray Dogs: Dead Apple (2018)\n",
              "9741          Andrew Dice Clay: Dice Rules (1991)\n",
              "Name: title, Length: 9742, dtype: object"
            ]
          },
          "metadata": {},
          "execution_count": 23
        }
      ]
    },
    {
      "cell_type": "code",
      "execution_count": null,
      "metadata": {
        "colab": {
          "base_uri": "https://localhost:8080/",
          "height": 206
        },
        "id": "vR21kFV9yH6o",
        "outputId": "16dbcd2e-4c1a-4bb0-8928-b01b9ac5215d"
      },
      "outputs": [
        {
          "output_type": "execute_result",
          "data": {
            "text/plain": [
              "   userId  movieId  rating  timestamp\n",
              "0       1        1     4.0  964982703\n",
              "1       1        3     4.0  964981247\n",
              "2       1        6     4.0  964982224\n",
              "3       1       47     5.0  964983815\n",
              "4       1       50     5.0  964982931"
            ],
            "text/html": [
              "\n",
              "  <div id=\"df-cc1a3fba-f8da-42b2-a3d6-f9793fa0713a\">\n",
              "    <div class=\"colab-df-container\">\n",
              "      <div>\n",
              "<style scoped>\n",
              "    .dataframe tbody tr th:only-of-type {\n",
              "        vertical-align: middle;\n",
              "    }\n",
              "\n",
              "    .dataframe tbody tr th {\n",
              "        vertical-align: top;\n",
              "    }\n",
              "\n",
              "    .dataframe thead th {\n",
              "        text-align: right;\n",
              "    }\n",
              "</style>\n",
              "<table border=\"1\" class=\"dataframe\">\n",
              "  <thead>\n",
              "    <tr style=\"text-align: right;\">\n",
              "      <th></th>\n",
              "      <th>userId</th>\n",
              "      <th>movieId</th>\n",
              "      <th>rating</th>\n",
              "      <th>timestamp</th>\n",
              "    </tr>\n",
              "  </thead>\n",
              "  <tbody>\n",
              "    <tr>\n",
              "      <th>0</th>\n",
              "      <td>1</td>\n",
              "      <td>1</td>\n",
              "      <td>4.0</td>\n",
              "      <td>964982703</td>\n",
              "    </tr>\n",
              "    <tr>\n",
              "      <th>1</th>\n",
              "      <td>1</td>\n",
              "      <td>3</td>\n",
              "      <td>4.0</td>\n",
              "      <td>964981247</td>\n",
              "    </tr>\n",
              "    <tr>\n",
              "      <th>2</th>\n",
              "      <td>1</td>\n",
              "      <td>6</td>\n",
              "      <td>4.0</td>\n",
              "      <td>964982224</td>\n",
              "    </tr>\n",
              "    <tr>\n",
              "      <th>3</th>\n",
              "      <td>1</td>\n",
              "      <td>47</td>\n",
              "      <td>5.0</td>\n",
              "      <td>964983815</td>\n",
              "    </tr>\n",
              "    <tr>\n",
              "      <th>4</th>\n",
              "      <td>1</td>\n",
              "      <td>50</td>\n",
              "      <td>5.0</td>\n",
              "      <td>964982931</td>\n",
              "    </tr>\n",
              "  </tbody>\n",
              "</table>\n",
              "</div>\n",
              "      <button class=\"colab-df-convert\" onclick=\"convertToInteractive('df-cc1a3fba-f8da-42b2-a3d6-f9793fa0713a')\"\n",
              "              title=\"Convert this dataframe to an interactive table.\"\n",
              "              style=\"display:none;\">\n",
              "        \n",
              "  <svg xmlns=\"http://www.w3.org/2000/svg\" height=\"24px\"viewBox=\"0 0 24 24\"\n",
              "       width=\"24px\">\n",
              "    <path d=\"M0 0h24v24H0V0z\" fill=\"none\"/>\n",
              "    <path d=\"M18.56 5.44l.94 2.06.94-2.06 2.06-.94-2.06-.94-.94-2.06-.94 2.06-2.06.94zm-11 1L8.5 8.5l.94-2.06 2.06-.94-2.06-.94L8.5 2.5l-.94 2.06-2.06.94zm10 10l.94 2.06.94-2.06 2.06-.94-2.06-.94-.94-2.06-.94 2.06-2.06.94z\"/><path d=\"M17.41 7.96l-1.37-1.37c-.4-.4-.92-.59-1.43-.59-.52 0-1.04.2-1.43.59L10.3 9.45l-7.72 7.72c-.78.78-.78 2.05 0 2.83L4 21.41c.39.39.9.59 1.41.59.51 0 1.02-.2 1.41-.59l7.78-7.78 2.81-2.81c.8-.78.8-2.07 0-2.86zM5.41 20L4 18.59l7.72-7.72 1.47 1.35L5.41 20z\"/>\n",
              "  </svg>\n",
              "      </button>\n",
              "      \n",
              "  <style>\n",
              "    .colab-df-container {\n",
              "      display:flex;\n",
              "      flex-wrap:wrap;\n",
              "      gap: 12px;\n",
              "    }\n",
              "\n",
              "    .colab-df-convert {\n",
              "      background-color: #E8F0FE;\n",
              "      border: none;\n",
              "      border-radius: 50%;\n",
              "      cursor: pointer;\n",
              "      display: none;\n",
              "      fill: #1967D2;\n",
              "      height: 32px;\n",
              "      padding: 0 0 0 0;\n",
              "      width: 32px;\n",
              "    }\n",
              "\n",
              "    .colab-df-convert:hover {\n",
              "      background-color: #E2EBFA;\n",
              "      box-shadow: 0px 1px 2px rgba(60, 64, 67, 0.3), 0px 1px 3px 1px rgba(60, 64, 67, 0.15);\n",
              "      fill: #174EA6;\n",
              "    }\n",
              "\n",
              "    [theme=dark] .colab-df-convert {\n",
              "      background-color: #3B4455;\n",
              "      fill: #D2E3FC;\n",
              "    }\n",
              "\n",
              "    [theme=dark] .colab-df-convert:hover {\n",
              "      background-color: #434B5C;\n",
              "      box-shadow: 0px 1px 3px 1px rgba(0, 0, 0, 0.15);\n",
              "      filter: drop-shadow(0px 1px 2px rgba(0, 0, 0, 0.3));\n",
              "      fill: #FFFFFF;\n",
              "    }\n",
              "  </style>\n",
              "\n",
              "      <script>\n",
              "        const buttonEl =\n",
              "          document.querySelector('#df-cc1a3fba-f8da-42b2-a3d6-f9793fa0713a button.colab-df-convert');\n",
              "        buttonEl.style.display =\n",
              "          google.colab.kernel.accessAllowed ? 'block' : 'none';\n",
              "\n",
              "        async function convertToInteractive(key) {\n",
              "          const element = document.querySelector('#df-cc1a3fba-f8da-42b2-a3d6-f9793fa0713a');\n",
              "          const dataTable =\n",
              "            await google.colab.kernel.invokeFunction('convertToInteractive',\n",
              "                                                     [key], {});\n",
              "          if (!dataTable) return;\n",
              "\n",
              "          const docLinkHtml = 'Like what you see? Visit the ' +\n",
              "            '<a target=\"_blank\" href=https://colab.research.google.com/notebooks/data_table.ipynb>data table notebook</a>'\n",
              "            + ' to learn more about interactive tables.';\n",
              "          element.innerHTML = '';\n",
              "          dataTable['output_type'] = 'display_data';\n",
              "          await google.colab.output.renderOutput(dataTable, element);\n",
              "          const docLink = document.createElement('div');\n",
              "          docLink.innerHTML = docLinkHtml;\n",
              "          element.appendChild(docLink);\n",
              "        }\n",
              "      </script>\n",
              "    </div>\n",
              "  </div>\n",
              "  "
            ]
          },
          "metadata": {},
          "execution_count": 24
        }
      ],
      "source": [
        "ratings.head(5)"
      ]
    },
    {
      "cell_type": "code",
      "execution_count": null,
      "metadata": {
        "colab": {
          "base_uri": "https://localhost:8080/"
        },
        "id": "EPgOMRfXeg1D",
        "outputId": "ce0066c9-e7e2-49f2-df96-5cf5ee24837f"
      },
      "outputs": [
        {
          "output_type": "execute_result",
          "data": {
            "text/plain": [
              "(9742, 3)"
            ]
          },
          "metadata": {},
          "execution_count": 25
        }
      ],
      "source": [
        "movies.shape"
      ]
    },
    {
      "cell_type": "code",
      "execution_count": null,
      "metadata": {
        "colab": {
          "base_uri": "https://localhost:8080/"
        },
        "id": "pkpD2Tk7ekQJ",
        "outputId": "eb130bb4-7f50-473d-c671-e3af14d2521c"
      },
      "outputs": [
        {
          "output_type": "execute_result",
          "data": {
            "text/plain": [
              "(100836, 4)"
            ]
          },
          "metadata": {},
          "execution_count": 26
        }
      ],
      "source": [
        "ratings.shape"
      ]
    },
    {
      "cell_type": "code",
      "execution_count": null,
      "metadata": {
        "colab": {
          "base_uri": "https://localhost:8080/"
        },
        "id": "xpojzUpq9__E",
        "outputId": "fb409418-0882-480a-9917-9d6c8a245b03"
      },
      "outputs": [
        {
          "output_type": "execute_result",
          "data": {
            "text/plain": [
              "movieId    0\n",
              "title      0\n",
              "genres     0\n",
              "dtype: int64"
            ]
          },
          "metadata": {},
          "execution_count": 27
        }
      ],
      "source": [
        "movies.isnull().sum()"
      ]
    },
    {
      "cell_type": "code",
      "execution_count": null,
      "metadata": {
        "colab": {
          "base_uri": "https://localhost:8080/"
        },
        "id": "cNiN_6U1-n_o",
        "outputId": "085af782-1b41-4119-88d7-8effcad164a3"
      },
      "outputs": [
        {
          "output_type": "execute_result",
          "data": {
            "text/plain": [
              "userId       0\n",
              "movieId      0\n",
              "rating       0\n",
              "timestamp    0\n",
              "dtype: int64"
            ]
          },
          "metadata": {},
          "execution_count": 28
        }
      ],
      "source": [
        "ratings.isnull().sum()"
      ]
    },
    {
      "cell_type": "code",
      "execution_count": null,
      "metadata": {
        "colab": {
          "base_uri": "https://localhost:8080/",
          "height": 300
        },
        "id": "MtHAwz6__ibP",
        "outputId": "a5efcfda-3c2a-43d0-aed7-ab82c0de3e67"
      },
      "outputs": [
        {
          "output_type": "execute_result",
          "data": {
            "text/plain": [
              "              userId        movieId         rating     timestamp\n",
              "count  100836.000000  100836.000000  100836.000000  1.008360e+05\n",
              "mean      326.127564   19435.295718       3.501557  1.205946e+09\n",
              "std       182.618491   35530.987199       1.042529  2.162610e+08\n",
              "min         1.000000       1.000000       0.500000  8.281246e+08\n",
              "25%       177.000000    1199.000000       3.000000  1.019124e+09\n",
              "50%       325.000000    2991.000000       3.500000  1.186087e+09\n",
              "75%       477.000000    8122.000000       4.000000  1.435994e+09\n",
              "max       610.000000  193609.000000       5.000000  1.537799e+09"
            ],
            "text/html": [
              "\n",
              "  <div id=\"df-72ace643-a747-4956-86a4-07ca8f3546e2\">\n",
              "    <div class=\"colab-df-container\">\n",
              "      <div>\n",
              "<style scoped>\n",
              "    .dataframe tbody tr th:only-of-type {\n",
              "        vertical-align: middle;\n",
              "    }\n",
              "\n",
              "    .dataframe tbody tr th {\n",
              "        vertical-align: top;\n",
              "    }\n",
              "\n",
              "    .dataframe thead th {\n",
              "        text-align: right;\n",
              "    }\n",
              "</style>\n",
              "<table border=\"1\" class=\"dataframe\">\n",
              "  <thead>\n",
              "    <tr style=\"text-align: right;\">\n",
              "      <th></th>\n",
              "      <th>userId</th>\n",
              "      <th>movieId</th>\n",
              "      <th>rating</th>\n",
              "      <th>timestamp</th>\n",
              "    </tr>\n",
              "  </thead>\n",
              "  <tbody>\n",
              "    <tr>\n",
              "      <th>count</th>\n",
              "      <td>100836.000000</td>\n",
              "      <td>100836.000000</td>\n",
              "      <td>100836.000000</td>\n",
              "      <td>1.008360e+05</td>\n",
              "    </tr>\n",
              "    <tr>\n",
              "      <th>mean</th>\n",
              "      <td>326.127564</td>\n",
              "      <td>19435.295718</td>\n",
              "      <td>3.501557</td>\n",
              "      <td>1.205946e+09</td>\n",
              "    </tr>\n",
              "    <tr>\n",
              "      <th>std</th>\n",
              "      <td>182.618491</td>\n",
              "      <td>35530.987199</td>\n",
              "      <td>1.042529</td>\n",
              "      <td>2.162610e+08</td>\n",
              "    </tr>\n",
              "    <tr>\n",
              "      <th>min</th>\n",
              "      <td>1.000000</td>\n",
              "      <td>1.000000</td>\n",
              "      <td>0.500000</td>\n",
              "      <td>8.281246e+08</td>\n",
              "    </tr>\n",
              "    <tr>\n",
              "      <th>25%</th>\n",
              "      <td>177.000000</td>\n",
              "      <td>1199.000000</td>\n",
              "      <td>3.000000</td>\n",
              "      <td>1.019124e+09</td>\n",
              "    </tr>\n",
              "    <tr>\n",
              "      <th>50%</th>\n",
              "      <td>325.000000</td>\n",
              "      <td>2991.000000</td>\n",
              "      <td>3.500000</td>\n",
              "      <td>1.186087e+09</td>\n",
              "    </tr>\n",
              "    <tr>\n",
              "      <th>75%</th>\n",
              "      <td>477.000000</td>\n",
              "      <td>8122.000000</td>\n",
              "      <td>4.000000</td>\n",
              "      <td>1.435994e+09</td>\n",
              "    </tr>\n",
              "    <tr>\n",
              "      <th>max</th>\n",
              "      <td>610.000000</td>\n",
              "      <td>193609.000000</td>\n",
              "      <td>5.000000</td>\n",
              "      <td>1.537799e+09</td>\n",
              "    </tr>\n",
              "  </tbody>\n",
              "</table>\n",
              "</div>\n",
              "      <button class=\"colab-df-convert\" onclick=\"convertToInteractive('df-72ace643-a747-4956-86a4-07ca8f3546e2')\"\n",
              "              title=\"Convert this dataframe to an interactive table.\"\n",
              "              style=\"display:none;\">\n",
              "        \n",
              "  <svg xmlns=\"http://www.w3.org/2000/svg\" height=\"24px\"viewBox=\"0 0 24 24\"\n",
              "       width=\"24px\">\n",
              "    <path d=\"M0 0h24v24H0V0z\" fill=\"none\"/>\n",
              "    <path d=\"M18.56 5.44l.94 2.06.94-2.06 2.06-.94-2.06-.94-.94-2.06-.94 2.06-2.06.94zm-11 1L8.5 8.5l.94-2.06 2.06-.94-2.06-.94L8.5 2.5l-.94 2.06-2.06.94zm10 10l.94 2.06.94-2.06 2.06-.94-2.06-.94-.94-2.06-.94 2.06-2.06.94z\"/><path d=\"M17.41 7.96l-1.37-1.37c-.4-.4-.92-.59-1.43-.59-.52 0-1.04.2-1.43.59L10.3 9.45l-7.72 7.72c-.78.78-.78 2.05 0 2.83L4 21.41c.39.39.9.59 1.41.59.51 0 1.02-.2 1.41-.59l7.78-7.78 2.81-2.81c.8-.78.8-2.07 0-2.86zM5.41 20L4 18.59l7.72-7.72 1.47 1.35L5.41 20z\"/>\n",
              "  </svg>\n",
              "      </button>\n",
              "      \n",
              "  <style>\n",
              "    .colab-df-container {\n",
              "      display:flex;\n",
              "      flex-wrap:wrap;\n",
              "      gap: 12px;\n",
              "    }\n",
              "\n",
              "    .colab-df-convert {\n",
              "      background-color: #E8F0FE;\n",
              "      border: none;\n",
              "      border-radius: 50%;\n",
              "      cursor: pointer;\n",
              "      display: none;\n",
              "      fill: #1967D2;\n",
              "      height: 32px;\n",
              "      padding: 0 0 0 0;\n",
              "      width: 32px;\n",
              "    }\n",
              "\n",
              "    .colab-df-convert:hover {\n",
              "      background-color: #E2EBFA;\n",
              "      box-shadow: 0px 1px 2px rgba(60, 64, 67, 0.3), 0px 1px 3px 1px rgba(60, 64, 67, 0.15);\n",
              "      fill: #174EA6;\n",
              "    }\n",
              "\n",
              "    [theme=dark] .colab-df-convert {\n",
              "      background-color: #3B4455;\n",
              "      fill: #D2E3FC;\n",
              "    }\n",
              "\n",
              "    [theme=dark] .colab-df-convert:hover {\n",
              "      background-color: #434B5C;\n",
              "      box-shadow: 0px 1px 3px 1px rgba(0, 0, 0, 0.15);\n",
              "      filter: drop-shadow(0px 1px 2px rgba(0, 0, 0, 0.3));\n",
              "      fill: #FFFFFF;\n",
              "    }\n",
              "  </style>\n",
              "\n",
              "      <script>\n",
              "        const buttonEl =\n",
              "          document.querySelector('#df-72ace643-a747-4956-86a4-07ca8f3546e2 button.colab-df-convert');\n",
              "        buttonEl.style.display =\n",
              "          google.colab.kernel.accessAllowed ? 'block' : 'none';\n",
              "\n",
              "        async function convertToInteractive(key) {\n",
              "          const element = document.querySelector('#df-72ace643-a747-4956-86a4-07ca8f3546e2');\n",
              "          const dataTable =\n",
              "            await google.colab.kernel.invokeFunction('convertToInteractive',\n",
              "                                                     [key], {});\n",
              "          if (!dataTable) return;\n",
              "\n",
              "          const docLinkHtml = 'Like what you see? Visit the ' +\n",
              "            '<a target=\"_blank\" href=https://colab.research.google.com/notebooks/data_table.ipynb>data table notebook</a>'\n",
              "            + ' to learn more about interactive tables.';\n",
              "          element.innerHTML = '';\n",
              "          dataTable['output_type'] = 'display_data';\n",
              "          await google.colab.output.renderOutput(dataTable, element);\n",
              "          const docLink = document.createElement('div');\n",
              "          docLink.innerHTML = docLinkHtml;\n",
              "          element.appendChild(docLink);\n",
              "        }\n",
              "      </script>\n",
              "    </div>\n",
              "  </div>\n",
              "  "
            ]
          },
          "metadata": {},
          "execution_count": 29
        }
      ],
      "source": [
        "ratings.describe()"
      ]
    },
    {
      "cell_type": "code",
      "execution_count": null,
      "metadata": {
        "colab": {
          "base_uri": "https://localhost:8080/"
        },
        "id": "lPo9yYYqNvYd",
        "outputId": "0aef74c3-99a9-4dca-d34f-2bedaf390b67"
      },
      "outputs": [
        {
          "output_type": "stream",
          "name": "stdout",
          "text": [
            "9724\n"
          ]
        }
      ],
      "source": [
        "unq_movieIds=ratings['movieId'].unique()\n",
        "print(unq_movieIds.size)"
      ]
    },
    {
      "cell_type": "code",
      "execution_count": null,
      "metadata": {
        "colab": {
          "base_uri": "https://localhost:8080/",
          "height": 282
        },
        "id": "qSXeD-zc9axT",
        "outputId": "76694c54-4895-44a0-add5-025e10e80cae"
      },
      "outputs": [
        {
          "output_type": "execute_result",
          "data": {
            "text/plain": [
              "<matplotlib.axes._subplots.AxesSubplot at 0x7fec7ead3760>"
            ]
          },
          "metadata": {},
          "execution_count": 31
        },
        {
          "output_type": "display_data",
          "data": {
            "text/plain": [
              "<Figure size 432x288 with 1 Axes>"
            ],
            "image/png": "[encoded data removed]"
          },
          "metadata": {
            "needs_background": "light"
          }
        }
      ],
      "source": [
        "ratings['rating'].hist(bins=20) #total ratins mein se 25000 ratings are equal to 5"
      ]
    },
    {
      "cell_type": "markdown",
      "source": [
        "#desgining  data maps"
      ],
      "metadata": {
        "id": "Hr6QW9Xp9IC5"
      }
    },
    {
      "cell_type": "code",
      "execution_count": null,
      "metadata": {
        "colab": {
          "base_uri": "https://localhost:8080/"
        },
        "id": "q0sYUSzZsyJb",
        "outputId": "ca605324-c749-4a8f-e194-0b9879426661"
      },
      "outputs": [
        {
          "output_type": "stream",
          "name": "stdout",
          "text": [
            "[4.  5.  3.  2.  1.  4.5 3.5 2.5 0.5 1.5]\n"
          ]
        }
      ],
      "source": [
        "\n",
        "ratings_array = ratings['rating'].unique() #stores all the unique ratings out of the ratings df\n",
        "max_rating = np.amax( ratings_array )   #finding the max ratings\n",
        "min_rating = np.amin( ratings_array )   #finding the min rating\n",
        "print( ratings_array )                 "
      ]
    },
    {
      "cell_type": "code",
      "execution_count": null,
      "metadata": {
        "id": "WmFYAe47tDSL"
      },
      "outputs": [],
      "source": [
        "#converting a series to a dict\n",
        "movie_map = pd.Series(movies.movieId.values,index=movies.title).to_dict() #dict{title:movieId}\n",
        "#reversing the above moviemap  dict{movieId:title}\n",
        "reverse_movie_map = {v: k for k, v in movie_map.items()}\n",
        "#dict={movies.index:movieId}\n",
        "movieId_to_index_map = pd.Series(movies.index.values,index=movies.movieId).to_dict()\n",
        "#will store all the unique values for the movieId\n",
        "movieId_all_array = movies['movieId'].unique()"
      ]
    },
    {
      "cell_type": "markdown",
      "source": [
        "#finding movieId of the given movie"
      ],
      "metadata": {
        "id": "oMrgTvtP9SqZ"
      }
    },
    {
      "cell_type": "code",
      "execution_count": null,
      "metadata": {
        "id": "c1YeCHiEuI3f"
      },
      "outputs": [],
      "source": [
        "def get_movieId( movie_name ):\n",
        "    \"\"\"\n",
        "    return the movieId which is corresponding to the movie name\n",
        "\n",
        "    Parameters\n",
        "    ----------\n",
        "    movie_name: string, the name of the movie w/ or w/o the year\n",
        "\n",
        "    Return\n",
        "    ------\n",
        "    the movieId\n",
        "    \"\"\"\n",
        "\n",
        "    # If luckily the movie name is 100% equal to a name writen in the database,\n",
        "    # then return the id corresponding to the name.\n",
        "    # Or...we need to consider the similarity between strings \n",
        "    if (movie_name in movie_map):\n",
        "      return movie_map[movie_name]\n",
        "    else:\n",
        "      similar = []\n",
        "      for title, movie_id in movie_map.items():\n",
        "        ratio = fuzz.ratio(title.lower(), movie_name.lower())\n",
        "        if ( ratio >= 60):\n",
        "          similar.append( (title, movie_id, ratio ) ) #storing all the strings with similarity ratio>60\n",
        "      if (len(similar) == 0):\n",
        "        print(\"Oh! This movie does not exist in the database.\")\n",
        "      else:\n",
        "        match_item = sorted( similar , key=lambda x: x[2] )[::-1]\n",
        "        print( \"The matched item might be:\", match_item[0][0], \", ratio=\",match_item[0][2] )\n",
        "        return match_item[0][1]"
      ]
    },
    {
      "cell_type": "markdown",
      "metadata": {
        "id": "SnlM2VcEumG8"
      },
      "source": [
        "#content based filtering with pairwise tfidf approach"
      ]
    },
    {
      "cell_type": "code",
      "execution_count": null,
      "metadata": {
        "id": "uQHolgP8uqhH"
      },
      "outputs": [],
      "source": [
        "def tokenizer(text):\n",
        "  lemmatizer=WordNetLemmatizer()\n",
        "  torkenized = [lemmatizer.lemmatize(word).lower() for word in text.split('|') if word not in stopwords.words('english')]\n",
        "  return torkenized"
      ]
    },
    {
      "cell_type": "code",
      "execution_count": null,
      "metadata": {
        "id": "6l7d6CVhvQrZ"
      },
      "outputs": [],
      "source": [
        "tfid=TfidfVectorizer(analyzer='word', tokenizer=tokenizer)"
      ]
    },
    {
      "cell_type": "code",
      "execution_count": null,
      "metadata": {
        "id": "KNI_vfT6vYUt"
      },
      "outputs": [],
      "source": [
        "tfidf_matrix = tfid.fit_transform(movies['genres'])"
      ]
    },
    {
      "cell_type": "code",
      "execution_count": null,
      "metadata": {
        "id": "d29ulY6Tv_rR"
      },
      "outputs": [],
      "source": [
        "cos_sim = cosine_similarity(tfidf_matrix,tfidf_matrix)"
      ]
    },
    {
      "cell_type": "code",
      "execution_count": null,
      "metadata": {
        "colab": {
          "base_uri": "https://localhost:8080/"
        },
        "id": "frhwvwuJwC9Z",
        "outputId": "6547fd7d-27f4-4763-87e6-c55f2ce26664"
      },
      "outputs": [
        {
          "output_type": "stream",
          "name": "stdout",
          "text": [
            "(9742, 20)\n",
            "(9742, 9742)\n",
            "(9742, 3)\n"
          ]
        }
      ],
      "source": [
        "print(tfidf_matrix.shape)\n",
        "print(cos_sim.shape)\n",
        "print(movies.shape)"
      ]
    },
    {
      "cell_type": "code",
      "execution_count": null,
      "metadata": {
        "colab": {
          "base_uri": "https://localhost:8080/"
        },
        "id": "zQ5hvrk-p9pB",
        "outputId": "d90f288e-f108-4b6b-9f05-5be73cd852b5"
      },
      "outputs": [
        {
          "output_type": "stream",
          "name": "stdout",
          "text": [
            "[0.1351353  0.         0.8845714  ... 0.4664048  0.         0.50501544]\n",
            "\n",
            "hello\n",
            "\n",
            "[(0, 0.13513530228521914), (1, 0.0), (2, 0.8845713988516402), (3, 1.0), (4, 0.5050154397005037), (5, 0.0), (6, 0.8845713988516402), (7, 0.0), (8, 0.0), (9, 0.0), (10, 1.0), (11, 0.25733057159885575), (12, 0.0), (13, 0.46640480307738325), (14, 0.41386791540689327), (15, 0.23487691294360039), (16, 0.863110309093865), (17, 0.5050154397005037), (18, 0.5050154397005037), (19, 0.32960684193624074), (20, 0.21866343162925583), (21, 0.12493028209483505), (22, 0.0), (23, 0.22390766139708893), (24, 0.863110309093865), (25, 0.46640480307738325), (26, 0.20506063431314472), (27, 0.863110309093865), (28, 0.11840167302822738), (29, 0.23487691294360039), (30, 0.46640480307738325), (31, 0.0), (32, 0.20506063431314472), (33, 0.23487691294360039), (34, 0.23650819876873833), (35, 0.8845713988516402), (36, 0.46640480307738325), (37, 0.18270473677057544), (38, 0.1882380394149203), (39, 0.46640480307738325), (40, 0.0), (41, 0.488021662308456), (42, 0.863110309093865), (43, 0.0), (44, 0.37823935079508736), (45, 0.863110309093865), (46, 0.0), (47, 1.0), (48, 0.23785168203110515), (49, 0.23650819876873833), (50, 0.46640480307738325), (51, 0.46640480307738325), (52, 1.0), (53, 0.0), (54, 0.2632847110277334), (55, 0.46640480307738325), (56, 0.26954439192295787), (57, 0.8845713988516402), (58, 0.5050154397005037), (59, 0.0), (60, 0.8845713988516402), (61, 0.5050154397005037), (62, 0.18381522018664181), (63, 0.0), (64, 0.687440204432026), (65, 0.18270473677057544), (66, 0.863110309093865), (67, 0.687440204432026), (68, 0.0), (69, 0.0), (70, 0.1621128175904444), (71, 0.2632847110277334), (72, 0.20506063431314472), (73, 0.6329608235453398), (74, 0.687440204432026), (75, 0.863110309093865), (76, 0.863110309093865), (77, 0.189758947568857), (78, 0.23650819876873833), (79, 0.5050154397005037), (80, 0.0), (81, 0.18320303459782844), (82, 0.636823997813255), (83, 1.0), (84, 0.0), (85, 0.687440204432026), (86, 0.23487691294360039), (87, 0.0), (88, 0.2632847110277334), (89, 0.5476187742530692), (90, 0.5050154397005037), (91, 0.0), (92, 0.5050154397005037), (93, 0.863110309093865), (94, 0.687440204432026), (95, 0.14582322274994686), (96, 0.0), (97, 0.15801071420419827), (98, 0.18913149622231354), (99, 0.1807071179500178), (100, 0.19863681334206054), (101, 0.0), (102, 0.23487691294360039), (103, 0.8845713988516402), (104, 0.5050154397005037), (105, 0.46640480307738325), (106, 0.8845713988516402), (107, 0.5669166999338728), (108, 0.5050154397005037), (109, 0.0), (110, 0.0), (111, 0.8845713988516402), (112, 0.0), (113, 0.5050154397005037), (114, 0.0), (115, 0.863110309093865), (116, 0.5050154397005037), (117, 0.5050154397005037), (118, 0.32960684193624074), (119, 0.0), (120, 0.46640480307738325), (121, 0.46640480307738325), (122, 0.18913149622231354), (123, 0.13526588990310306), (124, 0.4786081185015104), (125, 0.22380100877926673), (126, 0.1807071179500178), (127, 0.46640480307738325), (128, 0.1524342552180089), (129, 0.687440204432026), (130, 0.2114279692355524), (131, 0.0), (132, 0.16038736164582842), (133, 0.0), (134, 0.15853806235337925), (135, 0.0), (136, 0.31994610033546633), (137, 0.0), (138, 0.0), (139, 0.44798040769664355), (140, 0.6737182900877672), (141, 0.1647099144455924), (142, 0.0), (143, 0.687440204432026), (144, 0.0), (145, 0.0), (146, 0.5050154397005037), (147, 0.46640480307738325), (148, 0.5050154397005037), (149, 0.0), (150, 0.687440204432026), (151, 0.863110309093865), (152, 0.8845713988516402), (153, 0.0), (154, 0.2119896822491645), (155, 0.46640480307738325), (156, 0.0), (157, 0.8845713988516402), (158, 0.5050154397005037), (159, 0.0), (160, 0.24473885545931087), (161, 0.0), (162, 0.863110309093865), (163, 0.46640480307738325), (164, 0.687440204432026), (165, 1.0), (166, 0.0), (167, 0.11613192240515749), (168, 0.5238811096416001), (169, 0.21244774373372832), (170, 0.863110309093865), (171, 0.5050154397005037), (172, 0.0), (173, 0.687440204432026), (174, 0.0), (175, 0.863110309093865), (176, 0.0), (177, 0.46640480307738325), (178, 0.0), (179, 0.46640480307738325), (180, 0.1614318814598703), (181, 0.46640480307738325), (182, 0.18270473677057544), (183, 0.863110309093865), (184, 0.5050154397005037), (185, 0.2632847110277334), (186, 0.687440204432026), (187, 0.46640480307738325), (188, 0.0), (189, 0.863110309093865), (190, 0.5050154397005037), (191, 1.0), (192, 0.2632847110277334), (193, 0.0), (194, 0.5050154397005037), (195, 0.2632847110277334), (196, 0.2632847110277334), (197, 0.2728125996896554), (198, 1.0), (199, 0.46640480307738325), (200, 0.5050154397005037), (201, 0.687440204432026), (202, 0.6970281737714932), (203, 0.8845713988516402), (204, 0.0), (205, 0.4816216411105172), (206, 0.0), (207, 0.20506063431314472), (208, 0.17793227800448835), (209, 0.18062231275585203), (210, 0.0), (211, 0.23487691294360039), (212, 0.5050154397005037), (213, 0.863110309093865), (214, 0.23650819876873833), (215, 0.0), (216, 0.8845713988516402), (217, 0.22380100877926673), (218, 0.46640480307738325), (219, 0.5050154397005037), (220, 0.2574485170326601), (221, 0.0), (222, 0.4415633173537352), (223, 0.18913149622231354), (224, 0.0), (225, 0.46640480307738325), (226, 0.20506063431314472), (227, 0.46640480307738325), (228, 0.5934328222694809), (229, 0.38953564006756075), (230, 0.5050154397005037), (231, 0.46640480307738325), (232, 0.863110309093865), (233, 0.46640480307738325), (234, 0.687440204432026), (235, 0.16827626689866138), (236, 0.5050154397005037), (237, 0.5050154397005037), (238, 0.8845713988516402), (239, 0.46640480307738325), (240, 0.5050154397005037), (241, 0.46640480307738325), (242, 0.2632847110277334), (243, 1.0), (244, 0.46640480307738325), (245, 0.23487691294360039), (246, 0.0), (247, 0.22380100877926673), (248, 0.8845713988516402), (249, 0.0), (250, 0.8845713988516402), (251, 0.23487691294360039), (252, 0.2632847110277334), (253, 0.1583704629730746), (254, 0.1621128175904444), (255, 0.8845713988516402), (256, 0.8845713988516402), (257, 0.3762059441419113), (258, 0.46640480307738325), (259, 0.46640480307738325), (260, 0.46640480307738325), (261, 0.863110309093865), (262, 0.863110309093865), (263, 0.0), (264, 0.687440204432026), (265, 0.5050154397005037), (266, 0.46640480307738325), (267, 0.46640480307738325), (268, 0.687440204432026), (269, 0.5050154397005037), (270, 0.0), (271, 0.5050154397005037), (272, 0.0), (273, 0.12691025889417795), (274, 0.20194315216349354), (275, 0.0), (276, 0.41391948422992275), (277, 0.23487691294360039), (278, 0.488021662308456), (279, 0.0), (280, 0.46640480307738325), (281, 0.687440204432026), (282, 0.687440204432026), (283, 0.5050154397005037), (284, 0.46640480307738325), (285, 0.2111389077263953), (286, 0.0), (287, 0.1740105995239713), (288, 0.0), (289, 0.46640480307738325), (290, 0.0), (291, 0.5050154397005037), (292, 0.46640480307738325), (293, 0.0), (294, 0.18270473677057544), (295, 0.46640480307738325), (296, 0.0), (297, 0.8845713988516402), (298, 0.1524342552180089), (299, 0.46640480307738325), (300, 0.5050154397005037), (301, 0.0), (302, 0.5050154397005037), (303, 0.687440204432026), (304, 0.17793227800448835), (305, 0.43573763928996445), (306, 0.5050154397005037), (307, 0.1621128175904444), (308, 0.16861365988500507), (309, 1.0), (310, 0.687440204432026), (311, 0.0), (312, 0.46640480307738325), (313, 0.18062231275585203), (314, 0.6741902949672678), (315, 0.8845713988516402), (316, 0.46640480307738325), (317, 1.0), (318, 0.2979419414724567), (319, 1.0), (320, 0.36799726296992663), (321, 0.0), (322, 0.09095190201728066), (323, 0.46640480307738325), (324, 0.14066141726491047), (325, 0.17179598791967116), (326, 0.15858719627105114), (327, 0.46640480307738325), (328, 0.2979419414724567), (329, 0.687440204432026), (330, 1.0), (331, 0.0), (332, 0.23650819876873833), (333, 0.0), (334, 0.4349758314329751), (335, 0.8845713988516402), (336, 0.0), (337, 0.5110546783469014), (338, 0.863110309093865), (339, 0.5352193831265291), (340, 0.0), (341, 0.1882380394149203), (342, 0.46640480307738325), (343, 0.46640480307738325), (344, 0.2979419414724567), (345, 0.46640480307738325), (346, 0.5341587733715428), (347, 0.1882380394149203), (348, 0.23487691294360039), (349, 0.0), (350, 0.0), (351, 0.46640480307738325), (352, 0.0), (353, 0.46640480307738325), (354, 0.23487691294360039), (355, 0.18062231275585203), (356, 0.46640480307738325), (357, 0.5050154397005037), (358, 0.5050154397005037), (359, 0.3005345463318173), (360, 0.0), (361, 0.8845713988516402), (362, 0.46640480307738325), (363, 0.5050154397005037), (364, 0.1881151827358861), (365, 0.1647099144455924), (366, 0.0), (367, 0.0), (368, 0.46640480307738325), (369, 0.863110309093865), (370, 0.0), (371, 0.5031832987899141), (372, 0.46640480307738325), (373, 0.5050154397005037), (374, 0.687440204432026), (375, 0.23487691294360039), (376, 0.15858719627105114), (377, 0.5050154397005037), (378, 0.0), (379, 0.2574485170326601), (380, 0.2632847110277334), (381, 0.5050154397005037), (382, 0.4847786269508534), (383, 0.8845713988516402), (384, 0.5050154397005037), (385, 0.0), (386, 0.8845713988516402), (387, 0.5050154397005037), (388, 0.863110309093865), (389, 0.46640480307738325), (390, 0.5050154397005037), (391, 0.687440204432026), (392, 0.5669166999338728), (393, 0.46640480307738325), (394, 0.8845713988516402), (395, 0.2632847110277334), (396, 0.1647099144455924), (397, 0.18913149622231354), (398, 0.0), (399, 0.15658814440976404), (400, 0.4339570995807714), (401, 0.5050154397005037), (402, 0.863110309093865), (403, 0.0), (404, 0.18344866199109053), (405, 0.5050154397005037), (406, 0.8845713988516402), (407, 0.863110309093865), (408, 0.5050154397005037), (409, 0.5050154397005037), (410, 0.687440204432026), (411, 0.2114279692355524), (412, 0.0), (413, 0.46640480307738325), (414, 0.687440204432026), (415, 0.17793227800448835), (416, 0.44798040769664355), (417, 0.0), (418, 0.0), (419, 0.2632847110277334), (420, 0.18913149622231354), (421, 0.0), (422, 0.17263309261006643), (423, 0.5050154397005037), (424, 0.1818287010558562), (425, 0.863110309093865), (426, 0.5050154397005037), (427, 0.0), (428, 0.46640480307738325), (429, 0.22932743695752078), (430, 0.1882380394149203), (431, 0.0), (432, 0.46640480307738325), (433, 0.826158331210666), (434, 0.8845713988516402), (435, 0.8845713988516402), (436, 0.687440204432026), (437, 0.46640480307738325), (438, 0.3813375889511826), (439, 0.18244835013414828), (440, 0.5050154397005037), (441, 0.5934328222694809), (442, 0.18913149622231354), (443, 0.46640480307738325), (444, 0.863110309093865), (445, 0.46640480307738325), (446, 0.26089035422357426), (447, 0.0), (448, 0.5890961551685444), (449, 0.5050154397005037), (450, 0.863110309093865), (451, 0.687440204432026), (452, 0.16797965689963948), (453, 0.5050154397005037), (454, 0.13684484914189382), (455, 0.5050154397005037), (456, 0.0), (457, 0.26089035422357426), (458, 0.46640480307738325), (459, 0.46640480307738325), (460, 0.46640480307738325), (461, 0.18270473677057544), (462, 0.687440204432026), (463, 0.46640480307738325), (464, 0.20506063431314472), (465, 0.20022321559984824), (466, 0.0), (467, 0.863110309093865), (468, 0.46640480307738325), (469, 0.46640480307738325), (470, 0.46640480307738325), (471, 0.46640480307738325), (472, 1.0), (473, 0.0), (474, 0.0), (475, 1.0), (476, 0.700535756981705), (477, 0.0), (478, 0.13054585709682118), (479, 0.0), (480, 0.0), (481, 0.17793227800448835), (482, 0.8845713988516402), (483, 0.0), (484, 0.5708104095238273), (485, 0.14019524685108573), (486, 0.0), (487, 0.0), (488, 0.0), (489, 0.687440204432026), (490, 0.863110309093865), (491, 0.5050154397005037), (492, 0.687440204432026), (493, 0.687440204432026), (494, 0.687440204432026), (495, 0.46640480307738325), (496, 0.687440204432026), (497, 0.23650819876873833), (498, 0.1647099144455924), (499, 0.0), (500, 0.46640480307738325), (501, 0.0), (502, 0.687440204432026), (503, 0.5050154397005037), (504, 0.23650819876873833), (505, 0.659949201119701), (506, 0.12739130955862618), (507, 0.0), (508, 0.13625642568850038), (509, 0.0), (510, 0.0), (511, 0.10636603207819775), (512, 0.2111001095639387), (513, 0.0), (514, 0.8845713988516402), (515, 0.0), (516, 0.2176587496286038), (517, 0.0), (518, 0.863110309093865), (519, 0.0), (520, 0.3762059441419113), (521, 0.0), (522, 0.0), (523, 0.0), (524, 0.5050154397005037), (525, 0.863110309093865), (526, 0.687440204432026), (527, 0.0), (528, 0.687440204432026), (529, 0.8845713988516402), (530, 0.5050154397005037), (531, 0.5050154397005037), (532, 0.2632847110277334), (533, 0.1432918572988705), (534, 0.23328740734282785), (535, 0.18270473677057544), (536, 0.5050154397005037), (537, 0.5050154397005037), (538, 0.687440204432026), (539, 0.46640480307738325), (540, 0.5050154397005037), (541, 0.726240982959826), (542, 0.687440204432026), (543, 0.2632847110277334), (544, 0.46640480307738325), (545, 0.13661255569217962), (546, 0.0), (547, 0.687440204432026), (548, 0.46640480307738325), (549, 0.0), (550, 0.5050154397005037), (551, 0.0), (552, 0.0), (553, 0.5050154397005037), (554, 0.36540044689441414), (555, 0.0), (556, 0.46640480307738325), (557, 0.46640480307738325), (558, 0.2574485170326601), (559, 0.12316009993734599), (560, 0.20160856684131845), (561, 0.2632847110277334), (562, 0.46640480307738325), (563, 0.4360888986110944), (564, 0.46640480307738325), (565, 0.15965854611736113), (566, 0.8845713988516402), (567, 0.0), (568, 0.1882380394149203), (569, 0.0), (570, 0.863110309093865), (571, 0.46640480307738325), (572, 0.5050154397005037), (573, 0.46640480307738325), (574, 0.0), (575, 0.46640480307738325), (576, 0.18913149622231354), (577, 0.8845713988516402), (578, 0.12739130955862618), (579, 0.5050154397005037), (580, 0.0), (581, 0.12748362356234808), (582, 0.863110309093865), (583, 0.18944994467494883), (584, 0.5050154397005037), (585, 0.1888847063516037), (586, 0.0), (587, 0.14531931851970054), (588, 0.5050154397005037), (589, 0.46640480307738325), (590, 0.5050154397005037), (591, 0.0), (592, 0.0), (593, 0.0), (594, 0.36490053276165496), (595, 0.0), (596, 0.0), (597, 0.0), (598, 0.5050154397005037), (599, 0.17549148260719827), (600, 0.5050154397005037), (601, 0.0), (602, 0.2114279692355524), (603, 0.46640480307738325), (604, 0.0), (605, 0.18270473677057544), (606, 0.0), (607, 0.26954439192295787), (608, 0.863110309093865), (609, 0.687440204432026), (610, 0.46640480307738325), (611, 0.46640480307738325), (612, 0.0), (613, 0.44798040769664355), (614, 0.863110309093865), (615, 0.0), (616, 0.46640480307738325), (617, 0.2632847110277334), (618, 0.37823935079508736), (619, 0.3005345463318173), (620, 0.5050154397005037), (621, 0.20194315216349354), (622, 0.5115445431916169), (623, 0.46640480307738325), (624, 0.0), (625, 0.46640480307738325), (626, 0.16308125643616964), (627, 0.2119896822491645), (628, 0.12748362356234808), (629, 0.23650819876873833), (630, 0.863110309093865), (631, 1.0), (632, 0.8845713988516402), (633, 0.2632847110277334), (634, 0.23487691294360039), (635, 0.0), (636, 0.0), (637, 0.18062231275585203), (638, 0.5050154397005037), (639, 0.5050154397005037), (640, 0.46640480307738325), (641, 0.19863681334206054), (642, 0.0), (643, 0.16590890092775687), (644, 0.5050154397005037), (645, 0.0), (646, 0.5050154397005037), (647, 0.46640480307738325), (648, 0.0), (649, 0.18062231275585203), (650, 1.0), (651, 0.0), (652, 0.23650819876873833), (653, 0.0), (654, 0.25733057159885575), (655, 0.46640480307738325), (656, 0.0), (657, 0.46640480307738325), (658, 1.0), (659, 0.23487691294360039), (660, 0.1881151827358861), (661, 0.5476580086145145), (662, 0.26954439192295787), (663, 0.1349080202313595), (664, 0.5050154397005037), (665, 0.1882380394149203), (666, 0.1881151827358861), (667, 0.0), (668, 0.0), (669, 0.23650819876873833), (670, 0.2632847110277334), (671, 0.15552923403510371), (672, 0.2176587496286038), (673, 0.0), (674, 0.863110309093865), (675, 0.0), (676, 1.0), (677, 0.46640480307738325), (678, 0.46640480307738325), (679, 0.4652419595794579), (680, 1.0), (681, 0.5452240563272389), (682, 0.39262384658413746), (683, 0.20604218961865275), (684, 0.863110309093865), (685, 0.5031832987899141), (686, 0.0), (687, 0.8845713988516402), (688, 0.2632847110277334), (689, 0.5452240563272389), (690, 0.30097129504322084), (691, 1.0), (692, 0.26954439192295787), (693, 0.461907223617701), (694, 0.863110309093865), (695, 0.0), (696, 0.6626838105759573), (697, 0.8845713988516402), (698, 1.0), (699, 0.20506063431314472), (700, 0.0), (701, 0.0), (702, 0.5341587733715428), (703, 0.5050154397005037), (704, 0.43573763928996445), (705, 0.19863681334206054), (706, 0.1740105995239713), (707, 0.46640480307738325), (708, 0.5050154397005037), (709, 0.5031832987899141), (710, 0.11097515586042427), (711, 0.29620881950182265), (712, 0.37536349133488983), (713, 0.863110309093865), (714, 0.3261834073355775), (715, 0.5050154397005037), (716, 0.20604218961865275), (717, 0.8845713988516402), (718, 0.8845713988516402), (719, 0.0), (720, 0.41386791540689327), (721, 0.0), (722, 0.0), (723, 0.5934328222694809), (724, 0.46640480307738325), (725, 0.5452240563272389), (726, 0.36540044689441414), (727, 0.8845713988516402), (728, 0.47522734372800146), (729, 0.46640480307738325), (730, 0.26954439192295787), (731, 0.8845713988516402), (732, 0.2728125996896554), (733, 0.4726979389978867), (734, 0.46640480307738325), (735, 0.8845713988516402), (736, 0.863110309093865), (737, 0.46640480307738325), (738, 0.46640480307738325), (739, 0.0), (740, 0.16861365988500507), (741, 0.0), (742, 0.4851303851976889), (743, 0.665314722824293), (744, 0.46640480307738325), (745, 0.687440204432026), (746, 0.40128593282526437), (747, 0.18270473677057544), (748, 0.46640480307738325), (749, 0.46640480307738325), (750, 0.687440204432026), (751, 0.0), (752, 0.863110309093865), (753, 0.687440204432026), (754, 0.0), (755, 0.46640480307738325), (756, 0.46640480307738325), (757, 0.687440204432026), (758, 0.1621128175904444), (759, 0.0), (760, 0.0), (761, 0.2632847110277334), (762, 0.0), (763, 0.23650819876873833), (764, 0.46640480307738325), (765, 0.15040895364628154), (766, 0.0), (767, 0.0), (768, 0.23650819876873833), (769, 0.49279033371764325), (770, 0.20506063431314472), (771, 0.6018470129914483), (772, 0.40222487175206034), (773, 0.1647099144455924), (774, 0.23650819876873833), (775, 0.0), (776, 0.1741536067058396), (777, 0.1740105995239713), (778, 0.5050154397005037), (779, 0.23650819876873833), (780, 0.24883869485572782), (781, 0.0), (782, 0.0), (783, 0.0), (784, 0.23785168203110515), (785, 0.141018351771515), (786, 0.11882140015357621), (787, 0.0), (788, 0.0), (789, 0.0), (790, 0.1510301423372874), (791, 0.3762059441419113), (792, 0.39262384658413746), (793, 0.0), (794, 0.0), (795, 0.46640480307738325), (796, 0.46640480307738325), (797, 0.687440204432026), (798, 0.863110309093865), (799, 0.863110309093865), (800, 0.20194315216349354), (801, 0.0), (802, 0.18798803123479452), (803, 0.46640480307738325), (804, 0.6329608235453398), (805, 0.46640480307738325), (806, 0.0), (807, 0.46640480307738325), (808, 0.5452240563272389), (809, 0.863110309093865), (810, 0.687440204432026), (811, 0.0), (812, 0.3591136141572815), (813, 0.5452240563272389), (814, 0.0), (815, 0.141018351771515), (816, 0.18320303459782844), (817, 0.2574485170326601), (818, 0.2114279692355524), (819, 0.26954439192295787), (820, 0.5050154397005037), (821, 0.5452240563272389), (822, 0.46640480307738325), (823, 0.20604218961865275), (824, 0.23487691294360039), (825, 0.23785168203110515), (826, 0.0), (827, 0.5238811096416001), (828, 0.0), (829, 0.18270473677057544), (830, 0.5050154397005037), (831, 0.0), (832, 0.46640480307738325), (833, 0.6772133860215244), (834, 0.46640480307738325), (835, 0.46640480307738325), (836, 0.1598607463117004), (837, 0.15552923403510371), (838, 0.6737182900877672), (839, 0.5260771116213071), (840, 0.46640480307738325), (841, 0.46640480307738325), (842, 0.0), (843, 0.5050154397005037), (844, 0.0), (845, 0.4847786269508534), (846, 0.23487691294360039), (847, 0.46640480307738325), (848, 0.46640480307738325), (849, 0.46640480307738325), (850, 0.687440204432026), (851, 0.46640480307738325), (852, 0.0), (853, 0.46640480307738325), (854, 0.26954439192295787), (855, 0.24473885545931087), (856, 0.0), (857, 0.0), (858, 0.0), (859, 0.0), (860, 0.19863681334206054), (861, 0.46640480307738325), (862, 0.5050154397005037), (863, 0.1953274461062404), (864, 0.726240982959826), (865, 0.46640480307738325), (866, 0.0), (867, 0.0), (868, 0.15373101825694907), (869, 0.46640480307738325), (870, 0.31486081603929783), (871, 0.46640480307738325), (872, 0.18270473677057544), (873, 0.687440204432026), (874, 0.46640480307738325), (875, 0.5050154397005037), (876, 0.0), (877, 0.5050154397005037), (878, 0.46640480307738325), (879, 0.687440204432026), (880, 1.0), (881, 0.5934328222694809), (882, 0.863110309093865), (883, 0.18270473677057544), (884, 0.12485192304710026), (885, 0.5050154397005037), (886, 0.5341587733715428), (887, 0.687440204432026), (888, 0.46640480307738325), (889, 0.46640480307738325), (890, 0.46640480307738325), (891, 0.8845713988516402), (892, 0.0), (893, 0.6329608235453398), (894, 0.0), (895, 0.0), (896, 0.46640480307738325), (897, 0.5050154397005037), (898, 0.0), (899, 0.4753139071061484), (900, 0.0), (901, 0.0), (902, 0.0), (903, 0.0), (904, 0.5050154397005037), (905, 0.46640480307738325), (906, 0.1524342552180089), (907, 0.15196038729391428), (908, 0.46640480307738325), (909, 0.15801071420419827), (910, 0.14019524685108573), (911, 0.0), (912, 0.5934328222694809), (913, 0.0), (914, 0.23487691294360039), (915, 0.0), (916, 0.1495120061785307), (917, 0.637889255615152), (918, 0.18270473677057544), (919, 0.1621128175904444), (920, 0.0), (921, 0.1798973005330485), (922, 0.23487691294360039), (923, 0.18270473677057544), (924, 0.1371638432540087), (925, 0.4786081185015104), (926, 0.46640480307738325), (927, 0.863110309093865), (928, 0.23487691294360039), (929, 0.46640480307738325), (930, 0.8845713988516402), (931, 0.46640480307738325), (932, 0.1567605966368783), (933, 0.15801071420419827), (934, 0.26954439192295787), (935, 1.0), (936, 1.0), (937, 0.46640480307738325), (938, 0.5050154397005037), (939, 0.0), (940, 0.18940293034657674), (941, 0.18270473677057544), (942, 0.687440204432026), (943, 1.0), (944, 0.11626256607063784), (945, 0.46640480307738325), (946, 1.0), (947, 0.0), (948, 0.36305260179227394), (949, 0.1524342552180089), (950, 0.21244774373372832), (951, 0.0), (952, 0.1832615245105313), (953, 0.12504147829676354), (954, 0.19511304391368006), (955, 0.15429457997437243), (956, 0.8845713988516402), (957, 0.0), (958, 0.23785168203110515), (959, 0.0), (960, 0.16850221742391572), (961, 0.13719060319258147), (962, 0.18270473677057544), (963, 0.4559446034542667), (964, 0.6160231082433065), (965, 0.15658814440976404), (966, 0.0), (967, 0.687440204432026), (968, 0.19549563169838965), (969, 0.20160856684131845), (970, 0.44798040769664355), (971, 0.18270473677057544), (972, 0.29027133028666424), (973, 0.0), (974, 0.0), (975, 0.46640480307738325), (976, 1.0), (977, 0.24473885545931087), (978, 0.687440204432026), (979, 0.46640480307738325), (980, 0.36540044689441414), (981, 0.0), (982, 0.15658814440976404), (983, 0.0), (984, 0.5050154397005037), (985, 0.863110309093865), (986, 0.189758947568857), (987, 0.5050154397005037), (988, 0.0), (989, 0.863110309093865), (990, 0.0), (991, 0.687440204432026), (992, 0.46640480307738325), (993, 0.46640480307738325), (994, 0.863110309093865), (995, 0.5050154397005037), (996, 0.17793227800448835), (997, 0.18270473677057544), (998, 0.687440204432026), (999, 0.22390766139708893), (1000, 0.15552923403510371), (1001, 0.23785168203110515), (1002, 0.0), (1003, 0.863110309093865), (1004, 0.1740105995239713), (1005, 0.8845713988516402), (1006, 0.0), (1007, 0.46640480307738325), (1008, 0.687440204432026), (1009, 0.0), (1010, 0.2119896822491645), (1011, 0.0), (1012, 0.0), (1013, 0.0), (1014, 0.0), (1015, 0.0), (1016, 0.14066141726491047), (1017, 0.0), (1018, 0.0), (1019, 0.0), (1020, 0.0), (1021, 0.0), (1022, 0.0), (1023, 0.0), (1024, 0.0), (1025, 0.0), (1026, 0.18320303459782844), (1027, 0.33024135750751704), (1028, 0.16827626689866138), (1029, 0.0), (1030, 0.0), (1031, 0.0), (1032, 0.18913149622231354), (1033, 0.14531931851970054), (1034, 0.16324592466708485), (1035, 0.0), (1036, 0.0), (1037, 0.0), (1038, 0.0), (1039, 0.18913149622231354), (1040, 0.0), (1041, 1.0), (1042, 0.19863681334206054), (1043, 0.0), (1044, 0.0), (1045, 0.863110309093865), (1046, 0.46640480307738325), (1047, 0.23650819876873833), (1048, 0.0), (1049, 0.46640480307738325), (1050, 0.46640480307738325), (1051, 0.46640480307738325), (1052, 0.19106589617835537), (1053, 0.0), (1054, 0.0), (1055, 0.0), (1056, 0.0), (1057, 0.0), (1058, 0.0), (1059, 0.20160856684131845), (1060, 0.0), (1061, 0.1631021932235239), (1062, 0.0), (1063, 0.5452240563272389), (1064, 0.5452240563272389), (1065, 0.26089035422357426), (1066, 0.20194315216349354), (1067, 0.0), (1068, 0.0), (1069, 0.0), (1070, 0.5050154397005037), (1071, 0.2111389077263953), (1072, 0.687440204432026), (1073, 0.863110309093865), (1074, 0.5050154397005037), (1075, 0.687440204432026), (1076, 0.31047015536404776), (1077, 0.46640480307738325), (1078, 0.40128593282526437), (1079, 0.46640480307738325), (1080, 0.46640480307738325), (1081, 0.16249573243555288), (1082, 0.1432918572988705), (1083, 0.16363617251041307), (1084, 0.26647324213623214), (1085, 0.7390361780003906), (1086, 0.6329608235453398), (1087, 0.46640480307738325), (1088, 0.46640480307738325), (1089, 0.5050154397005037), (1090, 0.6329608235453398), (1091, 0.17793227800448835), (1092, 0.46640480307738325), (1093, 0.23785168203110515), (1094, 0.1432918572988705), (1095, 0.46640480307738325), (1096, 0.5050154397005037), (1097, 0.0), (1098, 0.0), (1099, 0.46640480307738325), (1100, 0.18921582341416965), (1101, 0.3005345463318173), (1102, 0.2979419414724567), (1103, 0.32960684193624074), (1104, 0.46640480307738325), (1105, 0.0), (1106, 0.5050154397005037), (1107, 0.5050154397005037), (1108, 0.8845713988516402), (1109, 0.46640480307738325), (1110, 0.2114279692355524), (1111, 0.687440204432026), (1112, 0.0), (1113, 0.5050154397005037), (1114, 0.8845713988516402), (1115, 0.687440204432026), (1116, 0.5050154397005037), (1117, 1.0), (1118, 0.5934328222694809), (1119, 0.0), (1120, 0.1741536067058396), (1121, 0.5050154397005037), (1122, 0.32129900437240544), (1123, 0.26089035422357426), (1124, 0.23487691294360039), (1125, 0.8845713988516402), (1126, 0.37471428959503905), (1127, 0.23650819876873833), (1128, 0.726240982959826), (1129, 0.687440204432026), (1130, 0.726240982959826), (1131, 0.35586591847020305), (1132, 0.2632847110277334), (1133, 0.2632847110277334), (1134, 0.7103498883418322), (1135, 0.5050154397005037), (1136, 0.17793227800448835), (1137, 0.20194315216349354), (1138, 0.0), (1139, 0.5050154397005037), (1140, 0.726240982959826), (1141, 0.0), (1142, 0.863110309093865), (1143, 0.0), (1144, 0.863110309093865), (1145, 0.0), (1146, 0.6560070104292905), (1147, 0.863110309093865), (1148, 0.5050154397005037), (1149, 0.18270473677057544), (1150, 0.5050154397005037), (1151, 0.726240982959826), (1152, 0.20194315216349354), (1153, 0.5050154397005037), (1154, 0.21936875901445776), (1155, 0.0), (1156, 0.46640480307738325), (1157, 0.5050154397005037), (1158, 0.17692366660102257), (1159, 0.687440204432026), (1160, 0.46640480307738325), (1161, 1.0), (1162, 0.8845713988516402), (1163, 1.0), (1164, 0.0), (1165, 0.46640480307738325), (1166, 0.5050154397005037), (1167, 0.20506063431314472), (1168, 0.863110309093865), (1169, 0.8845713988516402), (1170, 0.1647099144455924), (1171, 0.0), (1172, 0.863110309093865), (1173, 0.4349758314329751), (1174, 0.0), (1175, 1.0), (1176, 0.3005345463318173), (1177, 0.12739130955862618), (1178, 0.8845713988516402), (1179, 0.8845713988516402), (1180, 0.46640480307738325), (1181, 0.1621128175904444), (1182, 0.726240982959826), (1183, 0.2111389077263953), (1184, 0.5050154397005037), (1185, 0.0), (1186, 0.0), (1187, 0.22390766139708893), (1188, 0.5050154397005037), (1189, 0.26089035422357426), (1190, 0.0), (1191, 0.23650819876873833), (1192, 0.1621128175904444), (1193, 0.0), (1194, 0.0), (1195, 0.23650819876873833), (1196, 0.8845713988516402), (1197, 0.687440204432026), (1198, 0.46640480307738325), (1199, 0.5031832987899141), (1200, 0.18913149622231354), (1201, 0.0), (1202, 0.863110309093865), (1203, 0.12485192304710026), (1204, 0.5050154397005037), (1205, 0.0), (1206, 0.2979419414724567), (1207, 0.49261138449040814), (1208, 0.0), (1209, 0.0), (1210, 0.2632847110277334), (1211, 0.0), (1212, 0.863110309093865), (1213, 0.5050154397005037), (1214, 0.46640480307738325), (1215, 0.5050154397005037), (1216, 0.23785168203110515), (1217, 0.0), (1218, 0.0), (1219, 0.1524342552180089), (1220, 0.1432918572988705), (1221, 0.46640480307738325), (1222, 0.0), (1223, 0.46640480307738325), (1224, 0.16861365988500507), (1225, 0.20194315216349354), (1226, 0.16038736164582842), (1227, 0.8845713988516402), (1228, 0.0), (1229, 0.46640480307738325), (1230, 0.46640480307738325), (1231, 1.0), (1232, 0.687440204432026), (1233, 0.687440204432026), (1234, 0.863110309093865), (1235, 0.0), (1236, 0.16861365988500507), (1237, 0.5033398131973338), (1238, 0.18913149622231354), (1239, 0.687440204432026), (1240, 0.0), (1241, 0.46640480307738325), (1242, 0.0), (1243, 0.1832615245105313), (1244, 0.15552923403510371), (1245, 0.18320303459782844), (1246, 0.863110309093865), (1247, 0.529402542604805), (1248, 0.46640480307738325), (1249, 0.46640480307738325), (1250, 0.0), (1251, 0.0), (1252, 0.2114279692355524), (1253, 0.5050154397005037), (1254, 0.26089035422357426), (1255, 0.18270473677057544), (1256, 0.18913149622231354), (1257, 0.46640480307738325), (1258, 0.46640480307738325), (1259, 0.6772133860215244), (1260, 0.0), (1261, 0.0), (1262, 0.687440204432026), (1263, 0.863110309093865), (1264, 0.5050154397005037), (1265, 0.863110309093865), (1266, 0.0), (1267, 0.4315942827227188), (1268, 0.863110309093865), (1269, 0.863110309093865), (1270, 0.863110309093865), (1271, 0.0), (1272, 0.0), (1273, 0.10916869348835026), (1274, 0.21866343162925583), (1275, 0.0), (1276, 0.19863681334206054), (1277, 0.46640480307738325), (1278, 0.46640480307738325), (1279, 0.18270473677057544), (1280, 0.687440204432026), (1281, 0.687440204432026), (1282, 0.18062231275585203), (1283, 0.5050154397005037), (1284, 0.863110309093865), (1285, 0.23650819876873833), (1286, 0.16038736164582842), (1287, 0.23650819876873833), (1288, 0.16363617251041307), (1289, 0.0), (1290, 0.46640480307738325), (1291, 0.863110309093865), (1292, 0.0), (1293, 0.15228526029037429), (1294, 0.863110309093865), (1295, 0.18913149622231354), (1296, 0.46640480307738325), (1297, 0.5050154397005037), (1298, 0.26954439192295787), (1299, 0.863110309093865), (1300, 0.687440204432026), (1301, 0.863110309093865), (1302, 0.1991189281369784), (1303, 0.5050154397005037), (1304, 0.5050154397005037), (1305, 0.0), (1306, 0.0), (1307, 0.5050154397005037), (1308, 0.14822534619454186), (1309, 0.8845713988516402), (1310, 0.863110309093865), (1311, 0.46640480307738325), (1312, 0.5050154397005037), (1313, 0.0), (1314, 0.863110309093865), (1315, 0.0), (1316, 0.4127595106134456), (1317, 0.0), (1318, 0.1798973005330485), (1319, 0.8845713988516402), (1320, 0.0), (1321, 0.44266838840418343), (1322, 1.0), (1323, 0.0), (1324, 0.18913149622231354), (1325, 0.0), (1326, 0.5050154397005037), (1327, 0.687440204432026), (1328, 0.0), (1329, 0.0), (1330, 0.29537538105385763), (1331, 0.189758947568857), (1332, 0.23487691294360039), (1333, 0.1432918572988705), (1334, 0.19106589617835537), (1335, 0.46640480307738325), (1336, 0.23487691294360039), (1337, 0.687440204432026), (1338, 0.40222487175206034), (1339, 0.687440204432026), (1340, 0.8845713988516402), (1341, 0.3005345463318173), (1342, 0.687440204432026), (1343, 0.0), (1344, 0.21737754821761618), (1345, 0.863110309093865), (1346, 0.0), (1347, 0.20194315216349354), (1348, 0.1432918572988705), (1349, 0.5934328222694809), (1350, 0.687440204432026), (1351, 0.5050154397005037), (1352, 0.5050154397005037), (1353, 0.46640480307738325), (1354, 0.2632847110277334), (1355, 0.863110309093865), (1356, 0.19549563169838965), (1357, 0.15778489461076317), (1358, 0.5050154397005037), (1359, 0.0), (1360, 0.5050154397005037), (1361, 0.2979419414724567), (1362, 0.46640480307738325), (1363, 0.46640480307738325), (1364, 0.0), (1365, 0.5050154397005037), (1366, 0.2176587496286038), (1367, 0.0), (1368, 0.687440204432026), (1369, 0.4633194564521561), (1370, 0.5050154397005037), (1371, 0.1832615245105313), (1372, 0.0), (1373, 0.0), (1374, 1.0), (1375, 0.45233480272016197), (1376, 1.0), (1377, 0.15858719627105114), (1378, 1.0), (1379, 0.16861365988500507), (1380, 0.0), (1381, 0.0), (1382, 0.46640480307738325), (1383, 0.6609786922047318), (1384, 1.0), (1385, 0.863110309093865), (1386, 0.687440204432026), (1387, 0.863110309093865), (1388, 0.687440204432026), (1389, 0.8845713988516402), (1390, 0.4586835660408297), (1391, 0.0), (1392, 0.44798040769664355), (1393, 0.5050154397005037), (1394, 0.6891868471630882), (1395, 0.19863681334206054), (1396, 0.687440204432026), (1397, 0.863110309093865), (1398, 0.35586591847020305), (1399, 0.1881151827358861), (1400, 0.23650819876873833), (1401, 0.0), (1402, 0.1832615245105313), (1403, 0.46640480307738325), (1404, 0.8845713988516402), (1405, 0.0), (1406, 0.0), (1407, 0.15801071420419827), (1408, 0.15658814440976404), (1409, 0.863110309093865), (1410, 0.23785168203110515), (1411, 0.17793227800448835), (1412, 0.46640480307738325), (1413, 0.8845713988516402), (1414, 0.18270473677057544), (1415, 0.3572628965246665), (1416, 0.46640480307738325), (1417, 0.18270473677057544), (1418, 0.46640480307738325), (1419, 0.46640480307738325), (1420, 0.46640480307738325), (1421, 0.5341587733715428), (1422, 0.23487691294360039), (1423, 0.863110309093865), (1424, 0.5238811096416001), (1425, 0.6609786922047318), (1426, 0.46640480307738325), (1427, 0.19863681334206054), (1428, 0.17793227800448835), (1429, 0.46640480307738325), (1430, 0.0), (1431, 0.46640480307738325), (1432, 0.46640480307738325), (1433, 0.46640480307738325), (1434, 0.46640480307738325), (1435, 0.687440204432026), (1436, 0.863110309093865), (1437, 0.46640480307738325), (1438, 0.46640480307738325), (1439, 0.46640480307738325), (1440, 0.26954439192295787), (1441, 0.19863681334206054), (1442, 0.2574485170326601), (1443, 0.5050154397005037), (1444, 0.0), (1445, 0.687440204432026), (1446, 0.0), (1447, 0.0), (1448, 0.0), (1449, 0.0), (1450, 0.0), (1451, 0.0), (1452, 0.0), (1453, 0.0), (1454, 0.0), (1455, 0.0), (1456, 0.0), (1457, 0.0), (1458, 0.0), (1459, 0.0), (1460, 0.0), (1461, 0.0), (1462, 0.0), (1463, 0.0), (1464, 0.0), (1465, 0.0), (1466, 0.0), (1467, 0.0), (1468, 0.2119896822491645), (1469, 0.0), (1470, 0.0), (1471, 0.0), (1472, 0.0), (1473, 0.0), (1474, 0.0), (1475, 0.37471428959503905), (1476, 0.37471428959503905), (1477, 0.37471428959503905), (1478, 0.25733057159885575), (1479, 0.25733057159885575), (1480, 0.14507818363290273), (1481, 0.6970281737714932), (1482, 0.5050154397005037), (1483, 0.12485192304710026), (1484, 0.14068788535327179), (1485, 0.22390766139708893), (1486, 0.20160856684131845), (1487, 0.14012666220337464), (1488, 0.189758947568857), (1489, 0.18062231275585203), (1490, 0.18062231275585203), (1491, 0.15040895364628154), (1492, 0.0), (1493, 0.1510301423372874), (1494, 0.189758947568857), (1495, 0.863110309093865), (1496, 0.0), (1497, 0.46640480307738325), (1498, 0.1432918572988705), (1499, 0.19863681334206054), (1500, 0.863110309093865), (1501, 0.0), (1502, 0.26954439192295787), (1503, 0.15801071420419827), (1504, 0.23650819876873833), (1505, 0.0), (1506, 0.0), (1507, 0.23650819876873833), (1508, 0.23650819876873833), (1509, 0.19106589617835537), (1510, 0.1855541277310122), (1511, 0.23650819876873833), (1512, 0.16966995682864697), (1513, 0.23650819876873833), (1514, 0.0), (1515, 0.24473885545931087), (1516, 0.0), (1517, 0.0), (1518, 0.19106589617835537), (1519, 0.19106589617835537), (1520, 0.15461225303453402), (1521, 0.1855541277310122), (1522, 0.13957226913542306), (1523, 0.1631021932235239), (1524, 0.0), (1525, 0.0), (1526, 0.13041207350833756), (1527, 0.6018470129914483), (1528, 0.5050154397005037), (1529, 0.0), (1530, 0.7390361780003906), (1531, 0.0), (1532, 0.5341587733715428), (1533, 0.15266990024648835), (1534, 0.46640480307738325), (1535, 0.47522734372800146), (1536, 0.46640480307738325), (1537, 0.5050154397005037), (1538, 0.5050154397005037), (1539, 0.6329608235453398), (1540, 0.18270473677057544), (1541, 0.16861365988500507), (1542, 0.0), (1543, 0.13853561856744584), (1544, 0.4816216411105172), (1545, 0.39537606342537923), (1546, 0.23650819876873833), (1547, 0.1632735486052865), (1548, 0.0), (1549, 0.0), (1550, 0.0), (1551, 0.17389242830560198), (1552, 0.0), (1553, 0.11914128224497271), (1554, 0.0), (1555, 0.23328740734282785), (1556, 0.0), (1557, 0.0), (1558, 0.23650819876873833), (1559, 0.0), (1560, 0.1179191689344596), (1561, 0.23650819876873833), (1562, 0.0), (1563, 0.6160231082433065), (1564, 0.13853561856744584), (1565, 0.0), (1566, 0.46640480307738325), (1567, 0.0), (1568, 0.18270473677057544), (1569, 0.0), (1570, 0.8845713988516402), (1571, 0.5050154397005037), (1572, 0.21866343162925583), (1573, 0.5050154397005037), (1574, 0.23487691294360039), (1575, 0.46640480307738325), (1576, 0.0), (1577, 0.0), (1578, 0.22390766139708893), (1579, 0.0), (1580, 0.0), (1581, 0.22380100877926673), (1582, 0.0), (1583, 0.0), (1584, 0.26582214712658875), (1585, 0.18062231275585203), (1586, 1.0), (1587, 0.0), (1588, 0.6329608235453398), (1589, 0.46640480307738325), (1590, 0.46640480307738325), (1591, 0.2728125996896554), (1592, 0.18944994467494883), (1593, 0.0), (1594, 0.2574485170326601), (1595, 0.0), (1596, 0.11587353161759939), (1597, 0.1325470151624232), (1598, 0.0), (1599, 0.15432997064574216), (1600, 0.0), (1601, 0.3750850673644108), (1602, 0.8845713988516402), (1603, 1.0), (1604, 0.863110309093865), (1605, 0.16846533643358064), (1606, 0.18940293034657674), (1607, 0.18940293034657674), (1608, 0.2728125996896554), (1609, 0.5050154397005037), (1610, 0.23650819876873833), (1611, 0.0), (1612, 0.863110309093865), (1613, 0.687440204432026), (1614, 1.0), (1615, 0.0), (1616, 0.18320303459782844), (1617, 0.0), (1618, 0.0), (1619, 0.25733057159885575), (1620, 0.3648678347498673), (1621, 0.687440204432026), (1622, 0.5476580086145145), (1623, 0.0), (1624, 0.5050154397005037), (1625, 0.2979419414724567), (1626, 1.0), (1627, 0.687440204432026), (1628, 0.24473885545931087), (1629, 0.863110309093865), (1630, 0.18913149622231354), (1631, 0.3005345463318173), (1632, 0.0), (1633, 0.0), (1634, 0.0), (1635, 0.5031832987899141), (1636, 0.1286166786072644), (1637, 0.14395932897112268), (1638, 0.22932743695752078), (1639, 0.0), (1640, 0.11626256607063784), (1641, 0.37536349133488983), (1642, 0.46640480307738325), (1643, 0.46640480307738325), (1644, 0.0), (1645, 0.1882380394149203), (1646, 0.5050154397005037), (1647, 0.0), (1648, 0.46640480307738325), (1649, 0.18270473677057544), (1650, 0.18913149622231354), (1651, 0.0), (1652, 0.8845713988516402), (1653, 0.0), (1654, 0.46640480307738325), (1655, 0.16861365988500507), (1656, 0.0), (1657, 0.0), (1658, 0.2632847110277334), (1659, 0.46640480307738325), (1660, 0.18913149622231354), (1661, 0.46640480307738325), (1662, 0.0), (1663, 0.46640480307738325), (1664, 0.687440204432026), (1665, 0.46640480307738325), (1666, 0.5050154397005037), (1667, 1.0), (1668, 0.8845713988516402), (1669, 1.0), (1670, 0.5050154397005037), (1671, 1.0), (1672, 0.5050154397005037), (1673, 0.687440204432026), (1674, 0.24473885545931087), (1675, 0.5050154397005037), (1676, 0.0), (1677, 0.8845713988516402), (1678, 0.8845713988516402), (1679, 0.23487691294360039), (1680, 0.5050154397005037), (1681, 1.0), (1682, 0.17681724995926185), (1683, 0.26954439192295787), (1684, 0.2728125996896554), (1685, 0.8845713988516402), (1686, 0.0), (1687, 0.18913149622231354), (1688, 0.863110309093865), (1689, 0.46640480307738325), (1690, 0.46640480307738325), (1691, 0.1881151827358861), (1692, 0.0), (1693, 0.0), (1694, 0.0), (1695, 0.0), (1696, 0.1882380394149203), (1697, 0.687440204432026), (1698, 0.46640480307738325), (1699, 0.5050154397005037), (1700, 0.0), (1701, 0.0), (1702, 0.44798040769664355), (1703, 0.687440204432026), (1704, 0.5934328222694809), (1705, 0.8845713988516402), (1706, 0.13513530228521914), (1707, 0.5050154397005037), (1708, 0.5050154397005037), (1709, 0.5028470699739411), (1710, 0.0), (1711, 0.5050154397005037), (1712, 0.20604218961865275), (1713, 0.5050154397005037), (1714, 0.17793227800448835), (1715, 0.46640480307738325), (1716, 0.5050154397005037), (1717, 0.0), (1718, 0.46640480307738325), (1719, 0.0), (1720, 0.46640480307738325), (1721, 0.46640480307738325), (1722, 0.46640480307738325), (1723, 0.2119896822491645), (1724, 0.4658129473755852), (1725, 0.687440204432026), (1726, 0.2632847110277334), (1727, 0.41391948422992275), (1728, 0.0), (1729, 0.0), (1730, 0.6741902949672678), (1731, 0.5050154397005037), (1732, 0.0), (1733, 0.0), (1734, 0.23487691294360039), (1735, 0.21737754821761618), (1736, 1.0), (1737, 0.23487691294360039), (1738, 0.46640480307738325), (1739, 0.0), (1740, 0.5050154397005037), (1741, 0.46640480307738325), (1742, 0.46640480307738325), (1743, 0.0), (1744, 0.8845713988516402), (1745, 0.726240982959826), (1746, 0.687440204432026), (1747, 0.16308125643616964), (1748, 0.0), (1749, 0.46640480307738325), (1750, 0.46640480307738325), (1751, 0.3005345463318173), (1752, 0.5050154397005037), (1753, 0.46640480307738325), (1754, 0.687440204432026), (1755, 0.0), (1756, 0.17549148260719827), (1757, 0.15432997064574216), (1758, 0.5050154397005037), (1759, 0.46640480307738325), (1760, 0.18270473677057544), (1761, 0.5050154397005037), (1762, 0.46640480307738325), (1763, 0.5050154397005037), (1764, 0.46640480307738325), (1765, 0.16827626689866138), (1766, 0.0), (1767, 0.0), (1768, 0.0), (1769, 0.2962917524911145), (1770, 0.0), (1771, 1.0), (1772, 0.189758947568857), (1773, 0.18615318816334525), (1774, 0.5050154397005037), (1775, 0.0), (1776, 0.687440204432026), (1777, 0.5050154397005037), (1778, 0.0), (1779, 0.0), (1780, 0.26954439192295787), (1781, 0.26954439192295787), (1782, 0.26954439192295787), (1783, 0.26954439192295787), (1784, 0.26954439192295787), (1785, 0.26954439192295787), (1786, 0.1647099144455924), (1787, 0.8845713988516402), (1788, 0.26954439192295787), (1789, 0.863110309093865), (1790, 0.0), (1791, 0.5050154397005037), (1792, 0.18913149622231354), (1793, 0.40222487175206034), (1794, 0.5336121455112811), (1795, 0.0), (1796, 0.687440204432026), (1797, 1.0), (1798, 0.687440204432026), (1799, 0.0), (1800, 0.15552923403510371), (1801, 0.0), (1802, 0.0), (1803, 0.16308125643616964), (1804, 0.0), (1805, 0.5708104095238273), (1806, 0.5708104095238273), (1807, 0.2574485170326601), (1808, 0.2574485170326601), (1809, 0.26089035422357426), (1810, 0.26089035422357426), (1811, 0.26089035422357426), (1812, 0.26089035422357426), (1813, 0.16664769139292154), (1814, 0.0), (1815, 0.863110309093865), (1816, 0.5050154397005037), (1817, 0.687440204432026), (1818, 0.5050154397005037), (1819, 0.2632847110277334), (1820, 0.46640480307738325), (1821, 0.189758947568857), (1822, 0.1459340183613912), (1823, 0.5050154397005037), (1824, 0.8845713988516402), (1825, 0.0), (1826, 0.15801071420419827), (1827, 0.0), (1828, 0.13464477957788365), (1829, 0.1647099144455924), (1830, 0.687440204432026), (1831, 0.46640480307738325), (1832, 0.46640480307738325), (1833, 0.46640480307738325), (1834, 0.36540044689441414), (1835, 0.46640480307738325), (1836, 0.46640480307738325), (1837, 0.863110309093865), (1838, 0.46640480307738325), (1839, 0.0), (1840, 0.687440204432026), (1841, 0.0), (1842, 0.20160856684131845), (1843, 0.0), (1844, 0.21244774373372832), (1845, 0.0), (1846, 0.14883375665411094), (1847, 0.0), (1848, 0.2979419414724567), (1849, 0.26954439192295787), (1850, 0.0), (1851, 0.0), (1852, 0.0), (1853, 0.5050154397005037), (1854, 0.0), (1855, 0.1432918572988705), (1856, 0.595708763983614), (1857, 0.687440204432026), (1858, 0.2728125996896554), (1859, 0.21936875901445776), (1860, 0.5050154397005037), (1861, 0.5050154397005037), (1862, 0.46640480307738325), (1863, 0.0), (1864, 0.0), (1865, 0.0), (1866, 0.1818287010558562), (1867, 0.863110309093865), (1868, 0.8845713988516402), (1869, 0.22039741954526756), (1870, 0.8845713988516402), (1871, 0.18320303459782844), (1872, 0.0), (1873, 0.8845713988516402), (1874, 0.8845713988516402), (1875, 0.46640480307738325), (1876, 0.0), (1877, 0.0), (1878, 0.8845713988516402), (1879, 0.726240982959826), (1880, 0.2574485170326601), (1881, 0.5050154397005037), (1882, 0.46640480307738325), (1883, 0.26954439192295787), (1884, 0.46640480307738325), (1885, 0.687440204432026), (1886, 0.16861365988500507), (1887, 1.0), (1888, 0.0), (1889, 0.46640480307738325), (1890, 0.0), (1891, 0.25733057159885575), (1892, 0.0), (1893, 0.0), (1894, 0.0), (1895, 0.5050154397005037), (1896, 0.46640480307738325), (1897, 0.20194315216349354), (1898, 0.46640480307738325), (1899, 0.2632847110277334), (1900, 0.16308125643616964), (1901, 0.0), (1902, 0.0), (1903, 0.0), (1904, 0.0), (1905, 0.18244835013414828), (1906, 0.0), (1907, 0.0), (1908, 0.0), (1909, 0.0), (1910, 0.0), (1911, 0.20194315216349354), (1912, 0.0), (1913, 0.0), (1914, 0.5050154397005037), (1915, 0.1621128175904444), (1916, 0.46640480307738325), (1917, 0.21866343162925583), (1918, 0.863110309093865), (1919, 0.46640480307738325), (1920, 0.0), (1921, 0.0), (1922, 0.0), (1923, 0.18320303459782844), (1924, 0.5050154397005037), (1925, 0.0), (1926, 0.0), (1927, 0.5050154397005037), (1928, 0.2632847110277334), (1929, 0.8845713988516402), (1930, 0.0), (1931, 0.0), (1932, 0.0), (1933, 0.46640480307738325), (1934, 0.5238811096416001), (1935, 0.0), (1936, 0.5050154397005037), (1937, 0.0), (1938, 0.863110309093865), (1939, 0.0), (1940, 0.8845713988516402), (1941, 0.17793227800448835), (1942, 0.5050154397005037), (1943, 0.46640480307738325), (1944, 0.687440204432026), (1945, 0.0), (1946, 0.26954439192295787), (1947, 0.8845713988516402), (1948, 0.2979419414724567), (1949, 0.687440204432026), (1950, 0.863110309093865), (1951, 0.21866343162925583), (1952, 0.44798040769664355), (1953, 1.0), (1954, 0.46640480307738325), (1955, 0.5050154397005037), (1956, 0.5353437225075496), (1957, 0.687440204432026), (1958, 0.8845713988516402), (1959, 0.5050154397005037), (1960, 0.5050154397005037), (1961, 0.0), (1962, 0.0), (1963, 0.25733057159885575), (1964, 0.863110309093865), (1965, 0.46640480307738325), (1966, 0.46640480307738325), (1967, 0.1405496018667457), (1968, 0.19511304391368006), (1969, 0.0), (1970, 0.0), (1971, 0.0), (1972, 0.13882768385890049), (1973, 0.5050154397005037), (1974, 0.863110309093865), (1975, 0.24473885545931087), (1976, 0.5050154397005037), (1977, 0.21244774373372832), (1978, 0.0), (1979, 0.0), (1980, 0.8845713988516402), (1981, 0.46640480307738325), (1982, 0.16132502731255594), (1983, 0.47086600218600033), (1984, 0.0), (1985, 0.46640480307738325), (1986, 0.0), (1987, 0.0), (1988, 0.0), (1989, 0.0), (1990, 0.0), (1991, 0.16827626689866138), (1992, 0.0), (1993, 0.0), (1994, 0.16324592466708485), (1995, 0.0), (1996, 0.0), (1997, 0.14759873939504267), (1998, 0.21737754821761618), (1999, 0.0), (2000, 0.0), (2001, 0.18244835013414828), (2002, 0.0), (2003, 0.0), (2004, 0.0), (2005, 0.0), (2006, 0.0), (2007, 0.8845713988516402), (2008, 0.1832615245105313), (2009, 0.21244774373372832), (2010, 0.2632847110277334), (2011, 0.0), (2012, 0.6370138641534469), (2013, 0.46640480307738325), (2014, 0.21936875901445776), (2015, 0.19863681334206054), (2016, 0.1325470151624232), (2017, 0.1432918572988705), (2018, 0.8845713988516402), (2019, 0.46640480307738325), (2020, 0.0), (2021, 0.0), (2022, 0.5050154397005037), (2023, 0.46640480307738325), (2024, 0.5050154397005037), (2025, 1.0), (2026, 0.0), (2027, 0.25733057159885575), (2028, 0.16190614857797536), (2029, 0.1432122214710784), (2030, 0.46640480307738325), (2031, 0.8845713988516402), (2032, 0.0), (2033, 0.726240982959826), (2034, 0.23650819876873833), (2035, 0.18320303459782844), (2036, 0.16861365988500507), (2037, 0.0), (2038, 0.2111389077263953), (2039, 0.18944994467494883), (2040, 0.5050154397005037), (2041, 0.0), (2042, 0.16966995682864697), (2043, 0.0), (2044, 0.20395639329836301), (2045, 0.8845713988516402), (2046, 0.46640480307738325), (2047, 0.0), (2048, 0.0), (2049, 0.4786081185015104), (2050, 0.863110309093865), (2051, 0.5341587733715428), (2052, 0.23487691294360039), (2053, 0.863110309093865), (2054, 0.6609786922047318), (2055, 0.19067434234290018), (2056, 0.1433726362967024), (2057, 0.5050154397005037), (2058, 0.20194315216349354), (2059, 0.687440204432026), (2060, 0.46640480307738325), (2061, 0.0), (2062, 0.0), (2063, 0.687440204432026), (2064, 0.46640480307738325), (2065, 0.46640480307738325), (2066, 0.46640480307738325), (2067, 0.16967268945928954), (2068, 0.25733057159885575), (2069, 0.21936875901445776), (2070, 0.19863681334206054), (2071, 0.687440204432026), (2072, 0.687440204432026), (2073, 0.22932743695752078), (2074, 0.0), (2075, 0.46640480307738325), (2076, 0.5050154397005037), (2077, 0.11763186505056696), (2078, 0.15672398378202507), (2079, 0.0), (2080, 0.5476580086145145), (2081, 0.687440204432026), (2082, 0.687440204432026), (2083, 0.23487691294360039), (2084, 0.5050154397005037), (2085, 0.46640480307738325), (2086, 0.5050154397005037), (2087, 0.8845713988516402), (2088, 0.46640480307738325), (2089, 0.5050154397005037), (2090, 0.0), (2091, 0.0), (2092, 0.5050154397005037), (2093, 0.0), (2094, 0.5050154397005037), (2095, 0.0), (2096, 0.0), (2097, 0.5050154397005037), (2098, 0.5050154397005037), (2099, 0.5568024648517296), (2100, 0.6609786922047318), (2101, 0.5050154397005037), (2102, 0.5050154397005037), (2103, 0.7390361780003906), (2104, 0.23650819876873833), (2105, 0.5050154397005037), (2106, 0.11587353161759939), (2107, 0.863110309093865), (2108, 0.5734209591531079), (2109, 0.44266838840418343), (2110, 0.23650819876873833), (2111, 0.8845713988516402), (2112, 0.3005345463318173), (2113, 0.0), (2114, 0.0), (2115, 0.0), (2116, 0.0), (2117, 0.0), (2118, 0.0), (2119, 0.0), (2120, 0.0), (2121, 0.0), (2122, 0.5031832987899141), (2123, 0.46640480307738325), (2124, 0.49261138449040814), (2125, 0.18798803123479452), (2126, 0.0), (2127, 0.0), (2128, 0.23650819876873833), (2129, 0.5050154397005037), (2130, 0.18921582341416965), (2131, 0.5050154397005037), (2132, 0.8845713988516402), (2133, 0.46640480307738325), (2134, 0.2632847110277334), (2135, 0.0), (2136, 0.8845713988516402), (2137, 0.19863681334206054), (2138, 0.3342182943998039), (2139, 0.637889255615152), (2140, 0.46640480307738325), (2141, 0.0), (2142, 0.46640480307738325), (2143, 0.0), (2144, 0.12863124375721635), (2145, 0.863110309093865), (2146, 0.0), (2147, 0.5050154397005037), (2148, 0.687440204432026), (2149, 0.46640480307738325), (2150, 0.17389242830560198), (2151, 0.5050154397005037), (2152, 0.46640480307738325), (2153, 0.2119896822491645), (2154, 0.0), (2155, 0.5050154397005037), (2156, 0.19067434234290018), (2157, 0.0), (2158, 0.5452240563272389), (2159, 0.5669166999338728), (2160, 0.0), (2161, 0.0), (2162, 0.0), (2163, 0.21936875901445776), (2164, 0.21936875901445776), (2165, 0.1621128175904444), (2166, 0.46640480307738325), (2167, 0.687440204432026), (2168, 0.8845713988516402), (2169, 0.863110309093865), (2170, 0.23650819876873833), (2171, 0.2979419414724567), (2172, 0.8845713988516402), (2173, 0.687440204432026), (2174, 0.2839801085157886), (2175, 0.5050154397005037), (2176, 0.26089035422357426), (2177, 0.189758947568857), (2178, 0.863110309093865), (2179, 0.0), (2180, 0.2114279692355524), (2181, 0.0), (2182, 0.0), (2183, 0.0), (2184, 0.0), (2185, 0.0), (2186, 0.0), (2187, 0.189758947568857), (2188, 0.863110309093865), (2189, 0.5050154397005037), (2190, 0.46640480307738325), (2191, 0.18913149622231354), (2192, 0.5050154397005037), (2193, 0.0), (2194, 0.0), (2195, 0.5050154397005037), (2196, 0.5341587733715428), (2197, 0.0), (2198, 0.13569005781478355), (2199, 0.2979419414724567), (2200, 0.46640480307738325), (2201, 0.687440204432026), (2202, 0.863110309093865), (2203, 0.46640480307738325), (2204, 0.863110309093865), (2205, 0.0), (2206, 0.33896281815173673), (2207, 0.46640480307738325), (2208, 0.8845713988516402), (2209, 0.6609786922047318), (2210, 0.5050154397005037), (2211, 0.2632847110277334), (2212, 0.3769983841064546), (2213, 0.30427554701655835), (2214, 0.863110309093865), (2215, 0.863110309093865), (2216, 0.15801071420419827), (2217, 0.20604218961865275), (2218, 0.0), (2219, 0.0), (2220, 0.0), (2221, 0.637889255615152), (2222, 0.0), (2223, 0.18913149622231354), (2224, 0.23650819876873833), (2225, 0.0), (2226, 0.1621128175904444), (2227, 0.687440204432026), (2228, 0.8845713988516402), (2229, 0.46640480307738325), (2230, 0.0), (2231, 0.23785168203110515), (2232, 0.2632847110277334), (2233, 0.16356776376730897), (2234, 0.863110309093865), (2235, 0.23785168203110515), (2236, 0.14264634049618202), (2237, 0.18270473677057544), (2238, 0.44798040769664355), (2239, 0.0), (2240, 0.687440204432026), (2241, 0.46640480307738325), (2242, 0.687440204432026), (2243, 0.8845713988516402), (2244, 0.46640480307738325), (2245, 0.0), (2246, 0.0), (2247, 0.0), (2248, 0.13684484914189382), (2249, 0.0), (2250, 0.11201612163481459), (2251, 0.46640480307738325), (2252, 0.0), (2253, 0.0), (2254, 0.0), (2255, 0.0), (2256, 0.0), (2257, 0.0), (2258, 0.46640480307738325), (2259, 0.41391948422992275), (2260, 0.12366485046709184), (2261, 0.0), (2262, 0.6741902949672678), (2263, 0.8845713988516402), (2264, 0.0), (2265, 0.2632847110277334), (2266, 0.0), (2267, 0.22390766139708893), (2268, 0.46640480307738325), (2269, 0.46640480307738325), (2270, 0.25733057159885575), (2271, 0.5050154397005037), (2272, 0.0), (2273, 0.0), (2274, 0.0), (2275, 0.19511304391368006), (2276, 0.23487691294360039), (2277, 0.26089035422357426), (2278, 0.0), (2279, 0.2114279692355524), (2280, 0.0), (2281, 0.5050154397005037), (2282, 0.26089035422357426), (2283, 0.0), (2284, 0.5050154397005037), (2285, 0.1583704629730746), (2286, 0.2574485170326601), (2287, 0.12739130955862618), (2288, 0.36540044689441414), (2289, 0.23785168203110515), (2290, 0.0), (2291, 0.46640480307738325), (2292, 0.5050154397005037), (2293, 0.5050154397005037), (2294, 0.5050154397005037), (2295, 0.5050154397005037), (2296, 0.5050154397005037), (2297, 0.37536349133488983), (2298, 0.687440204432026), (2299, 0.8845713988516402), (2300, 0.5050154397005037), (2301, 0.687440204432026), (2302, 0.1953274461062404), (2303, 0.18270473677057544), (2304, 0.0), (2305, 0.0), (2306, 0.18913149622231354), (2307, 0.5050154397005037), (2308, 0.3572628965246665), (2309, 0.20604218961865275), (2310, 0.15801071420419827), (2311, 0.2632847110277334), (2312, 0.2632847110277334), (2313, 0.15801071420419827), (2314, 0.687440204432026), (2315, 0.19863681334206054), (2316, 0.20160856684131845), (2317, 0.687440204432026), (2318, 0.8845713988516402), (2319, 0.863110309093865), (2320, 0.0), (2321, 0.22380100877926673), (2322, 0.5050154397005037), (2323, 0.0), (2324, 0.46640480307738325), (2325, 1.0), (2326, 0.3011472596380173), (2327, 0.0), (2328, 0.46640480307738325), (2329, 0.141018351771515), (2330, 0.6160231082433065), (2331, 0.24473885545931087), (2332, 0.46640480307738325), (2333, 0.46640480307738325), (2334, 0.18270473677057544), (2335, 0.15658814440976404), (2336, 0.863110309093865), (2337, 0.46640480307738325), (2338, 0.5050154397005037), (2339, 1.0), (2340, 0.46640480307738325), (2341, 1.0), (2342, 0.46640480307738325), (2343, 0.2632847110277334), (2344, 0.4127595106134456), (2345, 0.863110309093865), (2346, 0.1881151827358861), (2347, 0.19863681334206054), (2348, 0.863110309093865), (2349, 0.26089035422357426), (2350, 0.7390361780003906), (2351, 0.46640480307738325), (2352, 0.46640480307738325), (2353, 0.46640480307738325), (2354, 0.0), (2355, 0.13513530228521914), (2356, 0.46640480307738325), (2357, 0.5341587733715428), (2358, 0.5050154397005037), (2359, 0.46640480307738325), (2360, 0.687440204432026), (2361, 0.687440204432026), (2362, 0.44798040769664355), (2363, 0.687440204432026), (2364, 0.18270473677057544), (2365, 0.46640480307738325), (2366, 0.46640480307738325), (2367, 0.46640480307738325), (2368, 0.0), (2369, 0.18270473677057544), (2370, 0.46640480307738325), (2371, 0.5050154397005037), (2372, 0.23487691294360039), (2373, 0.46640480307738325), (2374, 0.2632847110277334), (2375, 0.46640480307738325), (2376, 0.0), (2377, 0.863110309093865), (2378, 0.6141606046464241), (2379, 0.18062231275585203), (2380, 0.46640480307738325), (2381, 0.0), (2382, 0.46640480307738325), (2383, 0.863110309093865), (2384, 0.687440204432026), (2385, 0.3572628965246665), (2386, 0.26089035422357426), (2387, 0.687440204432026), (2388, 0.23785168203110515), (2389, 0.18913149622231354), (2390, 0.46640480307738325), (2391, 0.46640480307738325), (2392, 0.687440204432026), (2393, 0.20160856684131845), (2394, 0.16861365988500507), (2395, 0.5050154397005037), (2396, 0.46640480307738325), (2397, 0.46640480307738325), (2398, 0.46640480307738325), (2399, 0.0), (2400, 0.46640480307738325), (2401, 0.46640480307738325), (2402, 0.46640480307738325), (2403, 0.20506063431314472), (2404, 0.0), (2405, 0.46640480307738325), (2406, 0.863110309093865), (2407, 0.18270473677057544), (2408, 0.36305260179227394), (2409, 0.23487691294360039), (2410, 0.687440204432026), (2411, 0.46640480307738325), (2412, 0.0), (2413, 0.0), (2414, 0.726240982959826), (2415, 0.2979419414724567), (2416, 1.0), (2417, 0.46640480307738325), (2418, 0.0), (2419, 0.46640480307738325), (2420, 0.46640480307738325), (2421, 0.0), (2422, 0.46640480307738325), (2423, 0.46640480307738325), (2424, 0.46640480307738325), (2425, 0.8845713988516402), (2426, 0.0), (2427, 0.5050154397005037), (2428, 0.0), (2429, 0.5050154397005037), (2430, 0.5050154397005037), (2431, 0.5050154397005037), (2432, 0.8845713988516402), (2433, 0.46640480307738325), (2434, 0.26954439192295787), (2435, 0.5050154397005037), (2436, 0.2632847110277334), (2437, 0.46640480307738325), (2438, 0.19863681334206054), (2439, 0.46640480307738325), (2440, 0.5050154397005037), (2441, 0.5050154397005037), (2442, 0.687440204432026), (2443, 0.1621128175904444), (2444, 0.6772133860215244), (2445, 0.24473885545931087), (2446, 0.637889255615152), (2447, 0.46640480307738325), (2448, 1.0), (2449, 0.1432918572988705), (2450, 0.687440204432026), (2451, 0.21107383298208196), (2452, 0.1621128175904444), (2453, 0.3762059441419113), (2454, 0.0), (2455, 0.2979419414724567), (2456, 0.6141606046464241), (2457, 1.0), (2458, 0.46640480307738325), (2459, 0.23487691294360039), (2460, 0.16363617251041307), (2461, 0.2632847110277334), (2462, 0.1621128175904444), (2463, 0.5050154397005037), (2464, 0.0), (2465, 0.0), (2466, 0.0), (2467, 0.5890961551685444), (2468, 0.23785168203110515), (2469, 0.5050154397005037), (2470, 0.0), (2471, 0.46640480307738325), (2472, 0.0), (2473, 0.46640480307738325), (2474, 0.46640480307738325), (2475, 0.18913149622231354), (2476, 0.687440204432026), (2477, 0.0), (2478, 0.26954439192295787), (2479, 0.5050154397005037), (2480, 0.0), (2481, 0.5050154397005037), (2482, 1.0), (2483, 0.687440204432026), (2484, 0.687440204432026), (2485, 0.5050154397005037), (2486, 0.0), (2487, 0.0), (2488, 0.687440204432026), (2489, 0.26954439192295787), (2490, 0.5050154397005037), (2491, 0.687440204432026), (2492, 0.2574485170326601), (2493, 0.0), (2494, 0.23487691294360039), (2495, 0.863110309093865), (2496, 0.863110309093865), (2497, 0.46640480307738325), (2498, 0.11626256607063784), (2499, 0.0), (2500, 0.5050154397005037), (2501, 0.18270473677057544), (2502, 0.0), (2503, 0.0), (2504, 0.23785168203110515), (2505, 0.46640480307738325), (2506, 0.8845713988516402), (2507, 0.0), (2508, 0.0), (2509, 0.863110309093865), (2510, 0.7390361780003906), (2511, 0.687440204432026), (2512, 0.863110309093865), (2513, 1.0), (2514, 0.23487691294360039), (2515, 0.687440204432026), (2516, 0.0), (2517, 0.15658814440976404), (2518, 0.3524177940820781), (2519, 0.2632847110277334), (2520, 0.0), (2521, 0.46640480307738325), (2522, 0.46640480307738325), (2523, 0.46640480307738325), (2524, 0.0), (2525, 0.5050154397005037), (2526, 0.16861365988500507), (2527, 0.22932743695752078), (2528, 0.23650819876873833), (2529, 0.0), (2530, 0.526225052735381), (2531, 0.5050154397005037), (2532, 0.5050154397005037), (2533, 0.6160231082433065), (2534, 0.8845713988516402), (2535, 0.5050154397005037), (2536, 0.14582322274994686), (2537, 0.23650819876873833), (2538, 0.1632735486052865), (2539, 0.0), (2540, 0.0), (2541, 1.0), (2542, 0.2632847110277334), (2543, 0.26089035422357426), (2544, 0.26089035422357426), (2545, 0.13719060319258147), (2546, 0.46640480307738325), (2547, 0.2632847110277334), (2548, 0.687440204432026), (2549, 0.1647099144455924), (2550, 0.5341587733715428), (2551, 0.46640480307738325), (2552, 0.2728125996896554), (2553, 0.179011865298965), (2554, 0.2632847110277334), (2555, 0.5050154397005037), (2556, 0.8845713988516402), (2557, 0.46640480307738325), (2558, 0.46640480307738325), (2559, 0.17793227800448835), (2560, 0.863110309093865), (2561, 0.46640480307738325), (2562, 0.2324084132899214), (2563, 0.1882380394149203), (2564, 0.26089035422357426), (2565, 0.26089035422357426), (2566, 0.26089035422357426), (2567, 0.26089035422357426), (2568, 0.12485192304710026), (2569, 0.863110309093865), (2570, 0.14262054933310597), (2571, 0.0), (2572, 0.14507818363290273), (2573, 0.15801071420419827), (2574, 0.1882380394149203), (2575, 0.0), (2576, 0.0), (2577, 0.687440204432026), (2578, 0.46640480307738325), (2579, 0.36540044689441414), (2580, 0.46640480307738325), (2581, 0.5050154397005037), (2582, 0.46640480307738325), (2583, 0.36305260179227394), (2584, 0.863110309093865), (2585, 0.8845713988516402), (2586, 0.2632847110277334), (2587, 0.46640480307738325), (2588, 0.22380100877926673), (2589, 0.19067434234290018), (2590, 1.0), (2591, 0.24473885545931087), (2592, 0.15658814440976404), (2593, 0.46640480307738325), (2594, 0.46640480307738325), (2595, 0.23785168203110515), (2596, 0.1740105995239713), (2597, 0.5050154397005037), (2598, 0.0), (2599, 0.863110309093865), (2600, 0.0), (2601, 0.687440204432026), (2602, 0.46640480307738325), (2603, 0.3750850673644108), (2604, 0.863110309093865), (2605, 1.0), (2606, 0.0), (2607, 0.0), (2608, 0.1953274461062404), (2609, 0.6609786922047318), (2610, 0.13625642568850038), (2611, 0.46640480307738325), (2612, 0.5050154397005037), (2613, 0.46640480307738325), (2614, 0.18320303459782844), (2615, 0.687440204432026), (2616, 0.8845713988516402), (2617, 0.46640480307738325), (2618, 0.1567605966368783), (2619, 0.687440204432026), (2620, 0.16861365988500507), (2621, 0.687440204432026), (2622, 0.5050154397005037), (2623, 0.11641558260960864), (2624, 0.2632847110277334), (2625, 0.5050154397005037), (2626, 0.863110309093865), (2627, 0.2632847110277334), (2628, 0.46640480307738325), (2629, 0.8845713988516402), (2630, 0.6160231082433065), (2631, 0.15801071420419827), (2632, 0.687440204432026), (2633, 0.8845713988516402), (2634, 0.5050154397005037), (2635, 0.687440204432026), (2636, 0.0), (2637, 0.863110309093865), (2638, 0.0), (2639, 1.0), (2640, 0.46640480307738325), (2641, 0.0), (2642, 1.0), (2643, 0.687440204432026), (2644, 0.5050154397005037), (2645, 0.0), (2646, 0.687440204432026), (2647, 0.5050154397005037), (2648, 0.17793227800448835), (2649, 0.18320303459782844), (2650, 0.687440204432026), (2651, 0.5452240563272389), (2652, 0.0), (2653, 0.18913149622231354), (2654, 0.5050154397005037), (2655, 0.2632847110277334), (2656, 0.863110309093865), (2657, 0.0), (2658, 0.863110309093865), (2659, 0.0), (2660, 1.0), (2661, 0.0), (2662, 0.23650819876873833), (2663, 0.687440204432026), (2664, 0.687440204432026), (2665, 1.0), (2666, 0.8845713988516402), (2667, 0.687440204432026), (2668, 0.687440204432026), (2669, 0.0), (2670, 0.0), (2671, 0.0), (2672, 0.0), (2673, 0.863110309093865), (2674, 0.189758947568857), (2675, 0.46640480307738325), (2676, 0.5050154397005037), (2677, 0.5734209591531079), (2678, 0.863110309093865), (2679, 0.0), (2680, 0.687440204432026), (2681, 0.687440204432026), (2682, 0.0), (2683, 0.0), (2684, 0.17793227800448835), (2685, 0.5050154397005037), (2686, 0.5050154397005037), (2687, 0.5476580086145145), (2688, 0.20604218961865275), (2689, 0.0), (2690, 0.5452240563272389), (2691, 0.2728125996896554), (2692, 0.0), (2693, 0.8845713988516402), (2694, 0.0), (2695, 0.8845713988516402), (2696, 0.5050154397005037), (2697, 0.26954439192295787), (2698, 0.5050154397005037), (2699, 0.5050154397005037), (2700, 0.0), (2701, 0.14570110785492602), (2702, 0.0), (2703, 0.5050154397005037), (2704, 0.0), (2705, 0.4786081185015104), (2706, 0.6609786922047318), (2707, 0.26954439192295787), (2708, 0.36490053276165496), (2709, 0.0), (2710, 0.0), (2711, 0.46640480307738325), (2712, 0.0), (2713, 0.0), (2714, 0.687440204432026), (2715, 0.46640480307738325), (2716, 0.15801071420419827), (2717, 0.5050154397005037), (2718, 0.0), (2719, 0.46640480307738325), (2720, 0.0), (2721, 0.0), (2722, 0.13719060319258147), (2723, 0.46640480307738325), (2724, 0.0), (2725, 0.0), (2726, 0.0), (2727, 0.0), (2728, 0.0), (2729, 0.0), (2730, 0.2176587496286038), (2731, 0.863110309093865), (2732, 0.5050154397005037), (2733, 0.1818287010558562), (2734, 0.0), (2735, 0.0), (2736, 0.3342182943998039), (2737, 0.5452240563272389), (2738, 0.22380100877926673), (2739, 0.0), (2740, 0.46640480307738325), (2741, 0.0), (2742, 0.0), (2743, 0.12834496679347182), (2744, 0.1621128175904444), (2745, 0.12485192304710026), (2746, 0.863110309093865), (2747, 1.0), (2748, 0.0), (2749, 0.0), (2750, 0.5050154397005037), (2751, 0.5050154397005037), (2752, 0.5050154397005037), (2753, 0.5050154397005037), (2754, 0.25733057159885575), (2755, 0.25733057159885575), (2756, 0.25733057159885575), (2757, 0.25733057159885575), (2758, 0.17298371819648856), (2759, 0.0), (2760, 0.0), (2761, 0.5152725625752248), (2762, 0.22390766139708893), (2763, 0.15196038729391428), (2764, 0.0), (2765, 0.0), (2766, 0.0), (2767, 0.6970281737714932), (2768, 0.0), (2769, 0.863110309093865), (2770, 0.0), (2771, 0.0), (2772, 0.1881151827358861), (2773, 0.46640480307738325), (2774, 0.5050154397005037), (2775, 0.46640480307738325), (2776, 0.46640480307738325), (2777, 0.26954439192295787), (2778, 0.37471428959503905), (2779, 0.0), (2780, 0.8845713988516402), (2781, 0.46640480307738325), (2782, 0.46640480307738325), (2783, 0.18270473677057544), (2784, 0.0), (2785, 0.0), (2786, 0.0), (2787, 0.11626256607063784), (2788, 0.1621128175904444), (2789, 0.19863681334206054), (2790, 0.2632847110277334), (2791, 0.0), (2792, 0.46640480307738325), (2793, 0.23487691294360039), (2794, 0.46640480307738325), (2795, 0.15658814440976404), (2796, 0.46640480307738325), (2797, 0.8845713988516402), (2798, 0.17263309261006643), (2799, 0.18913149622231354), (2800, 0.18270473677057544), (2801, 0.8845713988516402), (2802, 0.0), (2803, 0.0), (2804, 0.46640480307738325), (2805, 0.46640480307738325), (2806, 0.17549148260719827), (2807, 0.2728125996896554), (2808, 0.15801071420419827), (2809, 0.13513530228521914), (2810, 0.2632847110277334), (2811, 0.46640480307738325), (2812, 0.1832615245105313), (2813, 0.5050154397005037), (2814, 0.1621128175904444), (2815, 0.0), (2816, 0.0), (2817, 0.6329608235453398), (2818, 0.0), (2819, 0.0), (2820, 0.0), (2821, 0.0), (2822, 0.0), (2823, 0.0), (2824, 0.5050154397005037), (2825, 1.0), (2826, 0.23487691294360039), (2827, 0.24473885545931087), (2828, 0.25733057159885575), (2829, 0.5050154397005037), (2830, 0.5050154397005037), (2831, 0.19863681334206054), (2832, 0.46640480307738325), (2833, 0.46640480307738325), (2834, 0.46640480307738325), (2835, 0.47522734372800146), (2836, 0.0), (2837, 0.687440204432026), (2838, 0.46640480307738325), (2839, 0.0), (2840, 0.15672398378202507), (2841, 0.0), (2842, 0.19863681334206054), (2843, 0.0), (2844, 0.0), (2845, 0.0), (2846, 0.18270473677057544), (2847, 0.5050154397005037), (2848, 0.2632847110277334), (2849, 0.18270473677057544), (2850, 0.5050154397005037), (2851, 0.46640480307738325), (2852, 0.5050154397005037), (2853, 0.46640480307738325), (2854, 0.5050154397005037), (2855, 0.5050154397005037), (2856, 0.863110309093865), (2857, 0.46640480307738325), (2858, 0.863110309093865), (2859, 1.0), (2860, 0.0), (2861, 0.17692366660102257), (2862, 0.2119896822491645), (2863, 0.5050154397005037), (2864, 0.0), (2865, 0.0), (2866, 0.637889255615152), (2867, 0.0), (2868, 0.18344866199109053), (2869, 0.0), (2870, 0.0), (2871, 0.0), (2872, 0.0), (2873, 0.2979419414724567), (2874, 0.0), (2875, 0.46640480307738325), (2876, 0.46640480307738325), (2877, 0.5050154397005037), (2878, 0.0), (2879, 0.0), (2880, 0.5050154397005037), (2881, 0.5050154397005037), (2882, 0.863110309093865), (2883, 0.0), (2884, 0.5050154397005037), (2885, 0.0), (2886, 0.5050154397005037), (2887, 0.5050154397005037), (2888, 0.18320303459782844), (2889, 0.0), (2890, 0.21737754821761618), (2891, 0.5675992540705019), (2892, 0.5050154397005037), (2893, 0.46640480307738325), (2894, 0.15658814440976404), (2895, 0.46640480307738325), (2896, 0.1818287010558562), (2897, 0.0), (2898, 0.0), (2899, 0.5050154397005037), (2900, 0.5050154397005037), (2901, 0.863110309093865), (2902, 0.0), (2903, 0.6891868471630882), (2904, 0.46640480307738325), (2905, 0.0), (2906, 0.0), (2907, 0.46640480307738325), (2908, 0.2979419414724567), (2909, 0.18913149622231354), (2910, 0.687440204432026), (2911, 0.687440204432026), (2912, 0.0), (2913, 0.0), (2914, 0.8845713988516402), (2915, 0.17793227800448835), (2916, 0.5050154397005037), (2917, 0.687440204432026), (2918, 0.46640480307738325), (2919, 0.46640480307738325), (2920, 0.46640480307738325), (2921, 0.0), (2922, 0.0), (2923, 0.0), (2924, 0.4658129473755852), (2925, 0.5050154397005037), (2926, 0.687440204432026), (2927, 0.0), (2928, 0.0), (2929, 0.25733057159885575), (2930, 0.5050154397005037), (2931, 0.0), (2932, 0.0), (2933, 0.0), (2934, 0.0), (2935, 0.0), (2936, 0.0), (2937, 0.0), (2938, 0.0), (2939, 0.0), (2940, 0.5050154397005037), (2941, 0.0), (2942, 0.20194315216349354), (2943, 0.1621128175904444), (2944, 0.5050154397005037), (2945, 0.46640480307738325), (2946, 0.46640480307738325), (2947, 0.46640480307738325), (2948, 0.2632847110277334), (2949, 0.8845713988516402), (2950, 0.5050154397005037), (2951, 0.26089035422357426), (2952, 0.46640480307738325), (2953, 0.0), (2954, 0.25733057159885575), (2955, 0.0), (2956, 0.0), (2957, 0.1405496018667457), (2958, 0.0), (2959, 0.46640480307738325), (2960, 0.5050154397005037), (2961, 0.46640480307738325), (2962, 0.22932743695752078), (2963, 0.2979419414724567), (2964, 0.0), (2965, 0.0), (2966, 0.2979419414724567), (2967, 0.863110309093865), (2968, 0.5050154397005037), (2969, 0.46640480307738325), (2970, 0.0), (2971, 0.863110309093865), (2972, 0.0), (2973, 0.18270473677057544), (2974, 0.0), (2975, 0.863110309093865), (2976, 0.18062231275585203), (2977, 0.0), (2978, 0.17549148260719827), (2979, 0.23650819876873833), (2980, 0.5341587733715428), (2981, 0.863110309093865), (2982, 0.22390766139708893), (2983, 0.6737182900877672), (2984, 0.17263309261006643), (2985, 0.46640480307738325), (2986, 0.0), (2987, 0.23785168203110515), (2988, 0.5050154397005037), (2989, 0.5050154397005037), (2990, 0.0), (2991, 0.0), (2992, 0.46640480307738325), (2993, 0.18270473677057544), (2994, 0.46640480307738325), (2995, 0.5050154397005037), (2996, 0.21866343162925583), (2997, 0.687440204432026), (2998, 0.863110309093865), (2999, 0.2574485170326601), (3000, 0.13513530228521914), (3001, 0.46640480307738325), (3002, 0.8845713988516402), (3003, 0.46640480307738325), (3004, 0.0), (3005, 0.46640480307738325), (3006, 0.46640480307738325), (3007, 1.0), (3008, 0.726240982959826), (3009, 0.26954439192295787), (3010, 0.20726145575042415), (3011, 0.687440204432026), (3012, 0.0), (3013, 0.47522734372800146), (3014, 0.5050154397005037), (3015, 0.15853806235337925), (3016, 0.18913149622231354), (3017, 0.3524177940820781), (3018, 0.22380100877926673), (3019, 0.0), (3020, 0.0), (3021, 0.5050154397005037), (3022, 0.863110309093865), (3023, 0.11452826972361838), (3024, 0.23487691294360039), (3025, 0.46640480307738325), (3026, 0.18270473677057544), (3027, 0.0), (3028, 0.18913149622231354), (3029, 0.2979419414724567), (3030, 0.863110309093865), (3031, 0.46640480307738325), (3032, 0.1432918572988705), (3033, 0.863110309093865), (3034, 1.0), (3035, 1.0), (3036, 0.0), (3037, 0.1882380394149203), (3038, 0.2979419414724567), (3039, 0.863110309093865), (3040, 0.5050154397005037), (3041, 0.8845713988516402), (3042, 0.46640480307738325), (3043, 0.2632847110277334), (3044, 0.46640480307738325), (3045, 0.2574485170326601), (3046, 0.5050154397005037), (3047, 0.5050154397005037), (3048, 1.0), (3049, 0.0), (3050, 0.1881151827358861), (3051, 0.37471428959503905), (3052, 0.2999318729065867), (3053, 0.5050154397005037), (3054, 0.0), (3055, 0.8845713988516402), (3056, 0.47103494112640965), (3057, 0.0), (3058, 0.21737754821761618), (3059, 0.13719060319258147), (3060, 0.5050154397005037), (3061, 0.0), (3062, 0.2632847110277334), (3063, 0.0), (3064, 0.18270473677057544), (3065, 0.46640480307738325), (3066, 0.5050154397005037), (3067, 0.5050154397005037), (3068, 0.46640480307738325), (3069, 0.17692366660102257), (3070, 0.5050154397005037), (3071, 0.0), (3072, 0.2574485170326601), (3073, 0.46640480307738325), (3074, 0.5050154397005037), (3075, 0.2119896822491645), (3076, 0.45253984573272954), (3077, 0.24473885545931087), (3078, 0.6370138641534469), (3079, 0.8845713988516402), (3080, 0.0), (3081, 0.20155191000487405), (3082, 0.25733057159885575), (3083, 0.23487691294360039), (3084, 0.8845713988516402), (3085, 0.16308125643616964), (3086, 0.0), (3087, 0.863110309093865), (3088, 0.5669166999338728), (3089, 1.0), (3090, 0.0), (3091, 0.8845713988516402), (3092, 0.46640480307738325), (3093, 0.6160231082433065), (3094, 0.0), (3095, 0.863110309093865), (3096, 0.5050154397005037), (3097, 0.7390361780003906), (3098, 0.17877624871608866), (3099, 0.0), (3100, 0.863110309093865), (3101, 0.2979419414724567), (3102, 0.46640480307738325), (3103, 0.26089035422357426), (3104, 0.0), (3105, 0.8845713988516402), (3106, 0.0), (3107, 0.46640480307738325), (3108, 0.687440204432026), (3109, 0.46640480307738325), (3110, 0.26089035422357426), (3111, 0.5050154397005037), (3112, 1.0), (3113, 0.46640480307738325), (3114, 0.46640480307738325), (3115, 0.46640480307738325), (3116, 1.0), (3117, 0.0), (3118, 0.5341587733715428), (3119, 0.0), (3120, 0.5050154397005037), (3121, 0.0), (3122, 0.0), (3123, 0.46640480307738325), (3124, 0.1882380394149203), (3125, 0.5050154397005037), (3126, 1.0), (3127, 0.0), (3128, 0.13682049098410995), (3129, 0.46640480307738325), (3130, 0.0), (3131, 0.5050154397005037), (3132, 0.5050154397005037), (3133, 0.0), (3134, 0.23487691294360039), (3135, 0.5050154397005037), (3136, 0.5050154397005037), (3137, 0.5050154397005037), (3138, 0.18270473677057544), (3139, 0.0), (3140, 0.5050154397005037), (3141, 0.0), (3142, 0.6560070104292905), (3143, 0.8845713988516402), (3144, 0.8845713988516402), (3145, 0.16966995682864697), (3146, 0.5050154397005037), (3147, 0.2632847110277334), (3148, 0.2632847110277334), (3149, 0.0), (3150, 0.0), (3151, 0.0), (3152, 0.23487691294360039), (3153, 0.24473885545931087), (3154, 0.0), (3155, 0.3762059441419113), (3156, 0.16038736164582842), (3157, 1.0), (3158, 0.5068611440850479), (3159, 0.5050154397005037), (3160, 0.2632847110277334), (3161, 0.46640480307738325), (3162, 0.687440204432026), (3163, 0.5050154397005037), (3164, 0.46640480307738325), (3165, 0.863110309093865), (3166, 0.46640480307738325), (3167, 0.1882380394149203), (3168, 0.46640480307738325), (3169, 0.0), (3170, 0.5050154397005037), (3171, 0.5050154397005037), (3172, 0.18921582341416965), (3173, 0.46640480307738325), (3174, 0.0), (3175, 0.5050154397005037), (3176, 0.0), (3177, 1.0), (3178, 0.21244774373372832), (3179, 0.5050154397005037), (3180, 0.8845713988516402), (3181, 0.687440204432026), (3182, 0.3572628965246665), (3183, 0.26954439192295787), (3184, 0.46640480307738325), (3185, 0.5050154397005037), (3186, 0.0), (3187, 0.863110309093865), (3188, 0.46640480307738325), (3189, 0.0), (3190, 0.6970281737714932), (3191, 0.46640480307738325), (3192, 0.0), (3193, 0.529402542604805), (3194, 0.38693698265981125), (3195, 0.8845713988516402), (3196, 0.5238811096416001), (3197, 0.4786081185015104), (3198, 0.23785168203110515), (3199, 0.46640480307738325), (3200, 0.46640480307738325), (3201, 0.8845713988516402), (3202, 0.1818287010558562), (3203, 0.46640480307738325), (3204, 0.0), (3205, 0.46640480307738325), (3206, 0.18913149622231354), (3207, 0.0), (3208, 0.0), (3209, 0.26954439192295787), (3210, 0.46640480307738325), (3211, 0.5341587733715428), (3212, 0.18270473677057544), (3213, 0.13719060319258147), (3214, 0.5050154397005037), (3215, 0.863110309093865), (3216, 0.2574485170326601), (3217, 0.1882380394149203), (3218, 0.46640480307738325), (3219, 0.687440204432026), (3220, 0.2114279692355524), (3221, 0.21737754821761618), (3222, 0.0), (3223, 0.0), (3224, 0.0), (3225, 0.26089035422357426), (3226, 0.5452240563272389), (3227, 1.0), (3228, 0.5050154397005037), (3229, 0.8845713988516402), (3230, 0.0), (3231, 0.0), (3232, 0.5050154397005037), (3233, 0.0), (3234, 0.1740105995239713), (3235, 0.23487691294360039), (3236, 0.863110309093865), (3237, 0.5050154397005037), (3238, 0.8845713988516402), (3239, 0.23487691294360039), (3240, 0.863110309093865), (3241, 0.5050154397005037), (3242, 0.1432918572988705), (3243, 0.46640480307738325), (3244, 0.23650819876873833), (3245, 0.0), (3246, 0.5050154397005037), (3247, 0.46640480307738325), (3248, 0.18913149622231354), (3249, 0.7390361780003906), (3250, 0.46640480307738325), (3251, 0.20604218961865275), (3252, 0.26954439192295787), (3253, 0.2979419414724567), (3254, 0.2979419414724567), (3255, 0.687440204432026), (3256, 0.5050154397005037), (3257, 0.0), (3258, 0.16324592466708485), (3259, 0.13569005781478355), (3260, 0.15853806235337925), (3261, 0.46640480307738325), (3262, 0.3410976173436333), (3263, 0.44798040769664355), (3264, 0.19511304391368006), (3265, 0.863110309093865), (3266, 0.46640480307738325), (3267, 0.46640480307738325), (3268, 0.46640480307738325), (3269, 0.0), (3270, 0.46640480307738325), (3271, 0.6071919272606404), (3272, 0.46640480307738325), (3273, 0.1405496018667457), (3274, 0.46640480307738325), (3275, 0.1838581941253468), (3276, 0.0), (3277, 0.0), (3278, 0.5734209591531079), (3279, 0.46640480307738325), (3280, 0.0), (3281, 0.0), (3282, 0.4847786269508534), (3283, 0.0), (3284, 0.0), (3285, 0.0), (3286, 0.0), (3287, 0.8845713988516402), (3288, 0.26089035422357426), (3289, 0.46640480307738325), (3290, 0.18913149622231354), (3291, 1.0), (3292, 0.5050154397005037), (3293, 0.0), (3294, 0.11397296715098806), (3295, 0.0), (3296, 0.0), (3297, 0.24473885545931087), (3298, 0.18270473677057544), (3299, 1.0), (3300, 0.46640480307738325), (3301, 0.1882380394149203), (3302, 0.1953274461062404), (3303, 0.46640480307738325), (3304, 0.8845713988516402), (3305, 0.18270473677057544), (3306, 0.3572628965246665), (3307, 0.18270473677057544), (3308, 0.5050154397005037), (3309, 0.19106589617835537), (3310, 0.687440204432026), (3311, 0.0), (3312, 0.46640480307738325), (3313, 0.5050154397005037), (3314, 0.46640480307738325), (3315, 0.863110309093865), (3316, 0.1882380394149203), (3317, 0.8845713988516402), (3318, 0.5050154397005037), (3319, 0.2574485170326601), (3320, 0.8845713988516402), (3321, 0.0), (3322, 0.17248502228032686), (3323, 0.0), (3324, 0.5050154397005037), (3325, 0.687440204432026), (3326, 0.23650819876873833), (3327, 0.5050154397005037), (3328, 0.863110309093865), (3329, 0.0), (3330, 0.46640480307738325), (3331, 0.5050154397005037), (3332, 0.5050154397005037), (3333, 0.5050154397005037), (3334, 0.0), (3335, 0.25733057159885575), (3336, 0.0), (3337, 0.5050154397005037), (3338, 0.46640480307738325), (3339, 0.37536349133488983), (3340, 0.41391948422992275), (3341, 0.5050154397005037), (3342, 0.6370138641534469), (3343, 0.8845713988516402), (3344, 0.687440204432026), (3345, 0.0), (3346, 0.19511304391368006), (3347, 0.13625642568850038), (3348, 0.47522734372800146), (3349, 0.46640480307738325), (3350, 0.0), (3351, 0.2574485170326601), (3352, 0.2574485170326601), (3353, 0.2632847110277334), (3354, 0.0), (3355, 0.0), (3356, 0.46640480307738325), (3357, 0.5050154397005037), (3358, 0.22932743695752078), (3359, 0.5050154397005037), (3360, 0.5934328222694809), (3361, 0.0), (3362, 0.0), (3363, 0.20160856684131845), (3364, 0.1882380394149203), (3365, 0.687440204432026), (3366, 0.0), (3367, 0.18270473677057544), (3368, 0.8845713988516402), (3369, 0.0), (3370, 0.46640480307738325), (3371, 0.2979419414724567), (3372, 1.0), (3373, 0.5050154397005037), (3374, 0.16970648614010458), (3375, 0.1382331175287943), (3376, 0.1953274461062404), (3377, 0.5050154397005037), (3378, 0.0), (3379, 0.46640480307738325), (3380, 0.16797965689963948), (3381, 0.46640480307738325), (3382, 0.687440204432026), (3383, 0.6560070104292905), (3384, 0.8845713988516402), (3385, 0.24473885545931087), (3386, 0.23487691294360039), (3387, 0.16664769139292154), (3388, 0.23487691294360039), (3389, 0.46640480307738325), (3390, 0.2176587496286038), (3391, 0.0), (3392, 0.46640480307738325), (3393, 0.46640480307738325), (3394, 0.5050154397005037), (3395, 0.5050154397005037), (3396, 0.8845713988516402), (3397, 0.5050154397005037), (3398, 0.5050154397005037), (3399, 0.16190614857797536), (3400, 0.1832615245105313), (3401, 0.6141606046464241), (3402, 0.687440204432026), (3403, 0.0), (3404, 0.0), (3405, 0.0), (3406, 0.2728125996896554), (3407, 0.4847786269508534), (3408, 0.0), (3409, 0.0), (3410, 0.8845713988516402), (3411, 0.0), (3412, 0.687440204432026), (3413, 0.3572628965246665), (3414, 0.15228526029037429), (3415, 1.0), (3416, 0.0), (3417, 0.687440204432026), (3418, 0.5050154397005037), (3419, 0.2728125996896554), (3420, 0.26089035422357426), (3421, 0.14066141726491047), (3422, 0.5050154397005037), (3423, 0.18913149622231354), (3424, 0.26954439192295787), (3425, 0.5050154397005037), (3426, 0.5050154397005037), (3427, 0.0), (3428, 0.46640480307738325), (3429, 0.8845713988516402), (3430, 0.1881151827358861), (3431, 0.2979419414724567), (3432, 0.5050154397005037), (3433, 0.26954439192295787), (3434, 0.5050154397005037), (3435, 0.5050154397005037), (3436, 0.687440204432026), (3437, 0.3342182943998039), (3438, 0.2728125996896554), (3439, 0.5050154397005037), (3440, 0.23785168203110515), (3441, 0.0), (3442, 0.0), (3443, 0.23487691294360039), (3444, 0.25733057159885575), (3445, 0.6772133860215244), (3446, 0.6018470129914483), (3447, 0.2979419414724567), (3448, 0.46640480307738325), (3449, 0.2728125996896554), (3450, 0.5050154397005037), (3451, 0.17793227800448835), (3452, 0.14159022695235654), (3453, 0.15658814440976404), (3454, 0.0), (3455, 0.22390766139708893), (3456, 0.5050154397005037), (3457, 0.0), (3458, 0.2979419414724567), (3459, 0.5050154397005037), (3460, 0.5320751233029889), (3461, 0.14066141726491047), (3462, 0.1631021932235239), (3463, 0.5050154397005037), (3464, 0.46640480307738325), (3465, 0.0), (3466, 0.5341587733715428), (3467, 0.5050154397005037), (3468, 0.5050154397005037), (3469, 0.5050154397005037), (3470, 0.2728125996896554), (3471, 0.0), (3472, 1.0), (3473, 0.47103494112640965), (3474, 0.8845713988516402), (3475, 1.0), (3476, 0.8845713988516402), (3477, 0.0), (3478, 0.46640480307738325), (3479, 0.1991189281369784), (3480, 0.1991189281369784), (3481, 0.0), (3482, 0.14066141726491047), (3483, 0.5489551504515829), (3484, 0.3572628965246665), (3485, 0.687440204432026), (3486, 0.46640480307738325), (3487, 0.6329608235453398), (3488, 0.0), (3489, 0.0), (3490, 0.46640480307738325), (3491, 0.46640480307738325), (3492, 0.5050154397005037), (3493, 0.26954439192295787), (3494, 0.5238811096416001), (3495, 0.18913149622231354), (3496, 0.16970648614010458), (3497, 0.46640480307738325), (3498, 0.8845713988516402), (3499, 0.0), (3500, 0.46640480307738325), (3501, 0.15658814440976404), (3502, 0.0), (3503, 0.46640480307738325), (3504, 0.863110309093865), (3505, 0.13525778552581108), (3506, 0.0), (3507, 0.0), (3508, 0.4851303851976889), (3509, 0.8845713988516402), (3510, 0.8845713988516402), (3511, 0.1807071179500178), (3512, 0.4904972973566083), (3513, 0.46640480307738325), (3514, 0.49885836867912337), (3515, 0.2632847110277334), (3516, 0.687440204432026), (3517, 0.0), (3518, 0.46640480307738325), (3519, 0.46640480307738325), (3520, 0.17793227800448835), (3521, 0.0), (3522, 0.0), (3523, 0.0), (3524, 0.46640480307738325), (3525, 0.5050154397005037), (3526, 0.37725145430753126), (3527, 0.0), (3528, 0.23650819876873833), (3529, 0.8845713988516402), (3530, 0.687440204432026), (3531, 0.13719060319258147), (3532, 0.0), (3533, 0.8845713988516402), (3534, 0.23487691294360039), (3535, 0.20604218961865275), (3536, 0.0), (3537, 0.46640480307738325), (3538, 0.863110309093865), (3539, 0.863110309093865), (3540, 0.6560070104292905), (3541, 0.26954439192295787), (3542, 0.2979419414724567), (3543, 0.46640480307738325), (3544, 0.10274485606377283), (3545, 0.687440204432026), (3546, 0.0), (3547, 0.0), (3548, 0.0), (3549, 0.17793227800448835), (3550, 0.5050154397005037), (3551, 0.46640480307738325), (3552, 0.26954439192295787), (3553, 0.0), (3554, 0.0), (3555, 0.0), (3556, 0.687440204432026), (3557, 0.46640480307738325), (3558, 0.15390963303899036), (3559, 0.13102116608910183), (3560, 0.0), (3561, 0.8845713988516402), (3562, 0.14068788535327179), (3563, 0.37471428959503905), (3564, 0.46640480307738325), (3565, 0.23487691294360039), (3566, 0.46640480307738325), (3567, 0.0), (3568, 0.13513530228521914), (3569, 0.0), (3570, 0.46640480307738325), (3571, 0.23487691294360039), (3572, 0.6160231082433065), (3573, 0.0), (3574, 0.0), (3575, 0.16664769139292154), (3576, 0.1953274461062404), (3577, 0.5050154397005037), (3578, 0.1621128175904444), (3579, 0.1172712727139389), (3580, 0.46640480307738325), (3581, 0.2574485170326601), (3582, 0.1953274461062404), (3583, 0.5238811096416001), (3584, 0.6329608235453398), (3585, 0.0), (3586, 0.18270473677057544), (3587, 0.46640480307738325), (3588, 0.5476580086145145), (3589, 0.863110309093865), (3590, 0.863110309093865), (3591, 0.5050154397005037), (3592, 0.3572628965246665), (3593, 0.0), (3594, 0.46640480307738325), (3595, 0.5050154397005037), (3596, 0.0), (3597, 0.17793227800448835), (3598, 0.0), (3599, 0.0), (3600, 0.0), (3601, 0.0), (3602, 0.0), (3603, 0.0), (3604, 0.19067434234290018), (3605, 0.2574485170326601), (3606, 0.0), (3607, 0.26954439192295787), (3608, 0.6247870747591288), (3609, 0.0), (3610, 0.15801071420419827), (3611, 0.46640480307738325), (3612, 0.0), (3613, 0.0), (3614, 0.0), (3615, 0.637889255615152), (3616, 0.20194315216349354), (3617, 0.0), (3618, 0.18270473677057544), (3619, 0.0), (3620, 0.46640480307738325), (3621, 0.687440204432026), (3622, 0.8845713988516402), (3623, 0.5050154397005037), (3624, 0.320941567035146), (3625, 0.46640480307738325), (3626, 0.46640480307738325), (3627, 0.16861365988500507), (3628, 0.687440204432026), (3629, 0.16356776376730897), (3630, 0.5050154397005037), (3631, 0.0), (3632, 0.0), (3633, 0.0), (3634, 0.5050154397005037), (3635, 0.15432997064574216), (3636, 1.0), (3637, 0.8845713988516402), (3638, 0.0), (3639, 1.0), (3640, 0.863110309093865), (3641, 0.15610719573006496), (3642, 0.5050154397005037), (3643, 0.22039741954526756), (3644, 0.16861365988500507), (3645, 0.46640480307738325), (3646, 0.15801071420419827), (3647, 0.863110309093865), (3648, 0.5238811096416001), (3649, 0.3918635210279682), (3650, 0.46640480307738325), (3651, 0.863110309093865), (3652, 0.46640480307738325), (3653, 0.16664769139292154), (3654, 0.46640480307738325), (3655, 0.5050154397005037), (3656, 0.0), (3657, 0.32960684193624074), (3658, 0.46640480307738325), (3659, 0.2632847110277334), (3660, 0.863110309093865), (3661, 0.0), (3662, 0.0), (3663, 0.0), (3664, 0.1583704629730746), (3665, 0.2979419414724567), (3666, 0.19106589617835537), (3667, 0.37471428959503905), (3668, 1.0), (3669, 0.5050154397005037), (3670, 0.0), (3671, 0.26089035422357426), (3672, 0.0), (3673, 0.36540044689441414), (3674, 0.0), (3675, 0.0), (3676, 0.16308125643616964), (3677, 0.12117789755902793), (3678, 0.863110309093865), (3679, 0.46640480307738325), (3680, 0.12366485046709184), (3681, 0.863110309093865), (3682, 0.0), (3683, 0.46640480307738325), (3684, 0.687440204432026), (3685, 0.5050154397005037), (3686, 0.3342182943998039), (3687, 0.8845713988516402), (3688, 0.5050154397005037), (3689, 0.863110309093865), (3690, 0.687440204432026), (3691, 0.44798040769664355), (3692, 0.23650819876873833), (3693, 0.0), (3694, 0.0), (3695, 0.26954439192295787), (3696, 0.5050154397005037), (3697, 0.20506063431314472), (3698, 0.24473885545931087), (3699, 0.40222487175206034), (3700, 0.18320303459782844), (3701, 0.5452240563272389), (3702, 0.18270473677057544), (3703, 0.18913149622231354), (3704, 0.0), (3705, 0.18615318816334525), (3706, 0.2632847110277334), (3707, 0.46640480307738325), (3708, 0.26954439192295787), (3709, 0.46640480307738325), (3710, 0.5050154397005037), (3711, 0.19549563169838965), (3712, 0.687440204432026), (3713, 0.4284790390275196), (3714, 0.0), (3715, 0.687440204432026), (3716, 0.687440204432026), (3717, 0.8845713988516402), (3718, 0.22380100877926673), (3719, 0.0), (3720, 0.5050154397005037), (3721, 0.0), (3722, 0.46640480307738325), (3723, 0.8845713988516402), (3724, 0.15801071420419827), (3725, 0.0), (3726, 0.0), (3727, 0.13853561856744584), (3728, 0.0), (3729, 0.5452240563272389), (3730, 0.2176587496286038), (3731, 0.0), (3732, 0.863110309093865), (3733, 0.23487691294360039), (3734, 0.0), (3735, 0.5050154397005037), (3736, 0.0), (3737, 0.46640480307738325), (3738, 0.2632847110277334), (3739, 0.46640480307738325), (3740, 0.25733057159885575), (3741, 0.0), (3742, 0.0), (3743, 0.5050154397005037), (3744, 0.24473885545931087), (3745, 0.15432997064574216), (3746, 0.0), (3747, 0.2979419414724567), (3748, 0.46640480307738325), (3749, 0.8845713988516402), (3750, 0.0), (3751, 0.863110309093865), (3752, 0.863110309093865), (3753, 0.5050154397005037), (3754, 0.46640480307738325), (3755, 0.46640480307738325), (3756, 0.18798803123479452), (3757, 0.26089035422357426), (3758, 0.8845713988516402), (3759, 0.0), (3760, 0.2979419414724567), (3761, 0.2979419414724567), (3762, 0.2979419414724567), (3763, 0.5050154397005037), (3764, 0.0), (3765, 0.5050154397005037), (3766, 0.46640480307738325), (3767, 0.46640480307738325), (3768, 0.0), (3769, 0.44798040769664355), (3770, 0.0), (3771, 0.46640480307738325), (3772, 0.5934328222694809), (3773, 0.46640480307738325), (3774, 0.46640480307738325), (3775, 0.46640480307738325), (3776, 0.8845713988516402), (3777, 0.8845713988516402), (3778, 0.0), (3779, 0.5050154397005037), (3780, 0.8845713988516402), (3781, 0.26954439192295787), (3782, 0.0), (3783, 0.16038736164582842), (3784, 0.5050154397005037), (3785, 0.2632847110277334), (3786, 0.18913149622231354), (3787, 0.8845713988516402), (3788, 0.2632847110277334), (3789, 0.8845713988516402), (3790, 0.8845713988516402), (3791, 0.11641558260960864), (3792, 0.8845713988516402), (3793, 0.18270473677057544), (3794, 0.5050154397005037), (3795, 0.5050154397005037), (3796, 0.8845713988516402), (3797, 0.0), (3798, 0.0), (3799, 0.0), (3800, 0.529402542604805), (3801, 0.0), (3802, 0.5050154397005037), (3803, 0.46640480307738325), (3804, 0.0), (3805, 0.8845713988516402), (3806, 0.0), (3807, 0.863110309093865), (3808, 0.18913149622231354), (3809, 0.23487691294360039), (3810, 0.26954439192295787), (3811, 0.5050154397005037), (3812, 0.46640480307738325), (3813, 0.687440204432026), (3814, 0.46640480307738325), (3815, 0.46640480307738325), (3816, 0.863110309093865), (3817, 0.46640480307738325), (3818, 0.687440204432026), (3819, 0.0), (3820, 0.687440204432026), (3821, 0.0), (3822, 0.0), (3823, 0.0), (3824, 0.0), (3825, 0.5050154397005037), (3826, 0.2632847110277334), (3827, 0.863110309093865), (3828, 0.0), (3829, 0.5341587733715428), (3830, 0.14159022695235654), (3831, 1.0), (3832, 0.0), (3833, 0.46640480307738325), (3834, 1.0), (3835, 0.5050154397005037), (3836, 0.23487691294360039), (3837, 0.0), (3838, 0.2632847110277334), (3839, 0.13041207350833756), (3840, 0.0), (3841, 0.46640480307738325), (3842, 0.46640480307738325), (3843, 0.2574485170326601), (3844, 0.46640480307738325), (3845, 0.2632847110277334), (3846, 0.5050154397005037), (3847, 0.863110309093865), (3848, 0.0), (3849, 0.22390766139708893), (3850, 0.2176587496286038), (3851, 0.687440204432026), (3852, 0.488021662308456), (3853, 0.21244774373372832), (3854, 0.0), (3855, 0.1345215738476439), (3856, 0.15801071420419827), (3857, 0.46640480307738325), (3858, 0.5050154397005037), (3859, 0.0), (3860, 0.5476580086145145), (3861, 0.18270473677057544), (3862, 0.5050154397005037), (3863, 0.5050154397005037), (3864, 0.12537189648962224), (3865, 0.1286166786072644), (3866, 0.0), (3867, 0.21205560801729728), (3868, 0.2979419414724567), (3869, 0.0), (3870, 0.2176587496286038), (3871, 0.5050154397005037), (3872, 0.0), (3873, 0.0), (3874, 0.23785168203110515), (3875, 0.46640480307738325), (3876, 0.15432997064574216), (3877, 0.8845713988516402), (3878, 1.0), (3879, 1.0), (3880, 0.6018470129914483), (3881, 0.8845713988516402), (3882, 0.687440204432026), (3883, 0.1818287010558562), (3884, 0.18062231275585203), (3885, 0.2111389077263953), (3886, 0.1584815523688967), (3887, 0.687440204432026), (3888, 0.2728125996896554), (3889, 0.0), (3890, 0.23487691294360039), (3891, 0.18913149622231354), (3892, 1.0), (3893, 0.0), (3894, 0.8845713988516402), (3895, 0.863110309093865), (3896, 0.14034483440055312), (3897, 0.16861365988500507), (3898, 0.0), (3899, 0.863110309093865), (3900, 0.17248502228032686), (3901, 0.16308125643616964), (3902, 0.23650819876873833), (3903, 0.5050154397005037), (3904, 0.0), (3905, 1.0), (3906, 0.5050154397005037), (3907, 0.0), (3908, 0.2979419414724567), (3909, 0.21936875901445776), (3910, 0.20160856684131845), (3911, 0.46640480307738325), (3912, 0.637889255615152), (3913, 0.5050154397005037), (3914, 0.22932743695752078), (3915, 0.0), (3916, 1.0), (3917, 0.0), (3918, 0.687440204432026), (3919, 0.1432918572988705), (3920, 0.0), (3921, 0.3572628965246665), (3922, 0.5050154397005037), (3923, 0.21737754821761618), (3924, 0.46640480307738325), (3925, 0.1882380394149203), (3926, 0.18244835013414828), (3927, 0.17692366660102257), (3928, 0.637889255615152), (3929, 1.0), (3930, 0.863110309093865), (3931, 0.2632847110277334), (3932, 0.8845713988516402), (3933, 0.3316957045368205), (3934, 0.46640480307738325), (3935, 0.8845713988516402), (3936, 0.17793227800448835), (3937, 0.0), (3938, 0.0), (3939, 0.33661903078248057), (3940, 0.49885836867912337), (3941, 0.0), (3942, 0.0), (3943, 0.5050154397005037), (3944, 0.0), (3945, 0.5694884539095516), (3946, 0.0), (3947, 0.20604218961865275), (3948, 0.2632847110277334), (3949, 0.23487691294360039), (3950, 0.0), (3951, 0.5050154397005037), (3952, 0.0), (3953, 0.18320303459782844), (3954, 0.5050154397005037), (3955, 0.26954439192295787), (3956, 0.0), (3957, 0.23487691294360039), (3958, 0.687440204432026), (3959, 0.0), (3960, 0.5050154397005037), (3961, 0.2728125996896554), (3962, 0.5050154397005037), (3963, 0.5050154397005037), (3964, 0.0), (3965, 0.687440204432026), (3966, 0.0), (3967, 0.23650819876873833), (3968, 0.20160856684131845), (3969, 0.2574485170326601), (3970, 0.20506063431314472), (3971, 0.26954439192295787), (3972, 0.26954439192295787), (3973, 0.2574485170326601), (3974, 0.687440204432026), (3975, 0.2632847110277334), (3976, 0.0), (3977, 0.687440204432026), (3978, 0.0), (3979, 0.0), (3980, 0.1436037328812091), (3981, 0.863110309093865), (3982, 0.46640480307738325), (3983, 1.0), (3984, 0.0), (3985, 0.0), (3986, 0.8845713988516402), (3987, 0.2979419414724567), (3988, 0.863110309093865), (3989, 0.32960684193624074), (3990, 0.0), (3991, 0.0), (3992, 0.46640480307738325), (3993, 0.46640480307738325), (3994, 0.46640480307738325), (3995, 0.26954439192295787), (3996, 0.46640480307738325), (3997, 0.0), (3998, 0.0), (3999, 0.0), (4000, 0.46640480307738325), (4001, 0.863110309093865), (4002, 0.0), (4003, 0.5050154397005037), (4004, 0.1644804522189875), (4005, 0.31792826218300585), (4006, 0.0), (4007, 0.726240982959826), (4008, 0.2176587496286038), (4009, 0.826158331210666), (4010, 0.21244774373372832), (4011, 0.46640480307738325), (4012, 0.0), (4013, 0.21737754821761618), (4014, 0.0), (4015, 1.0), (4016, 0.8845713988516402), (4017, 0.1881151827358861), (4018, 0.0), (4019, 0.23487691294360039), (4020, 0.46640480307738325), (4021, 0.0), (4022, 0.687440204432026), (4023, 0.46640480307738325), (4024, 0.23487691294360039), (4025, 0.1413986298692976), (4026, 1.0), (4027, 0.3572628965246665), (4028, 0.46640480307738325), (4029, 0.0), (4030, 0.0), (4031, 0.0), (4032, 0.687440204432026), (4033, 0.863110309093865), (4034, 0.5050154397005037), (4035, 0.0), (4036, 0.21936875901445776), (4037, 0.46640480307738325), (4038, 0.8845713988516402), (4039, 0.0), (4040, 0.0), (4041, 0.0), (4042, 0.863110309093865), (4043, 0.687440204432026), (4044, 0.687440204432026), (4045, 0.0), (4046, 0.18270473677057544), (4047, 0.22380100877926673), (4048, 0.8845713988516402), (4049, 0.0), (4050, 0.14883375665411094), (4051, 0.26954439192295787), (4052, 0.24473885545931087), (4053, 0.18320303459782844), (4054, 0.46640480307738325), (4055, 0.5050154397005037), (4056, 0.0), (4057, 0.5050154397005037), (4058, 0.20194315216349354), (4059, 0.0), (4060, 0.18729456722841287), (4061, 0.26089035422357426), (4062, 0.0), (4063, 0.46640480307738325), (4064, 0.863110309093865), (4065, 0.687440204432026), (4066, 0.21936875901445776), (4067, 0.0), (4068, 0.5341587733715428), (4069, 0.2114279692355524), (4070, 0.5050154397005037), (4071, 0.1807071179500178), (4072, 0.49279033371764325), (4073, 0.0), (4074, 0.46640480307738325), (4075, 0.863110309093865), (4076, 0.0), (4077, 0.18270473677057544), (4078, 0.863110309093865), (4079, 0.0), (4080, 0.3524177940820781), (4081, 0.2632847110277334), (4082, 1.0), (4083, 0.0), (4084, 0.8845713988516402), (4085, 0.46640480307738325), (4086, 0.23785168203110515), (4087, 0.687440204432026), (4088, 0.49261138449040814), (4089, 0.26089035422357426), (4090, 0.46640480307738325), (4091, 0.5050154397005037), (4092, 0.0), (4093, 1.0), (4094, 0.5050154397005037), (4095, 0.18913149622231354), (4096, 0.0), (4097, 0.46640480307738325), (4098, 0.5050154397005037), (4099, 0.46640480307738325), (4100, 0.15853806235337925), (4101, 0.863110309093865), (4102, 0.16190614857797536), (4103, 0.0), (4104, 0.6141606046464241), (4105, 0.0), (4106, 0.0), (4107, 0.25733057159885575), (4108, 0.23487691294360039), (4109, 0.863110309093865), (4110, 0.687440204432026), (4111, 0.0), (4112, 0.18913149622231354), (4113, 0.5050154397005037), (4114, 0.15801071420419827), (4115, 0.26954439192295787), (4116, 0.23487691294360039), (4117, 1.0), (4118, 0.0), (4119, 0.4314324113477006), (4120, 0.26954439192295787), (4121, 0.15801071420419827), (4122, 0.0), (4123, 0.0), (4124, 0.0), (4125, 0.6626838105759573), (4126, 0.8845713988516402), (4127, 0.0), (4128, 0.16664769139292154), (4129, 0.6626838105759573), (4130, 0.5050154397005037), (4131, 0.8845713988516402), (4132, 0.1583704629730746), (4133, 0.687440204432026), (4134, 0.46640480307738325), (4135, 0.0), (4136, 0.46640480307738325), (4137, 0.0), (4138, 0.18270473677057544), (4139, 0.23487691294360039), (4140, 0.46640480307738325), (4141, 0.23487691294360039), (4142, 0.8845713988516402), (4143, 0.18913149622231354), (4144, 0.0), (4145, 0.2632847110277334), (4146, 0.46640480307738325), (4147, 0.0), (4148, 0.44798040769664355), (4149, 1.0), (4150, 1.0), (4151, 0.1276197106114706), (4152, 0.0), (4153, 0.5341587733715428), (4154, 0.0), (4155, 0.0), (4156, 0.863110309093865), (4157, 0.46640480307738325), (4158, 0.46640480307738325), (4159, 0.23487691294360039), (4160, 0.18062231275585203), (4161, 0.30568664524138756), (4162, 0.863110309093865), (4163, 0.46640480307738325), (4164, 0.863110309093865), (4165, 0.18270473677057544), (4166, 0.0), (4167, 0.687440204432026), (4168, 0.46640480307738325), (4169, 0.3762059441419113), (4170, 0.21737754821761618), (4171, 0.8845713988516402), (4172, 0.18913149622231354), (4173, 0.8845713988516402), (4174, 0.2979419414724567), (4175, 0.2979419414724567), (4176, 0.13984977012930097), (4177, 0.687440204432026), (4178, 0.1432918572988705), (4179, 0.46640480307738325), (4180, 0.7808122424209898), (4181, 0.5050154397005037), (4182, 0.863110309093865), (4183, 0.20604218961865275), (4184, 0.863110309093865), (4185, 0.5050154397005037), (4186, 0.6329608235453398), (4187, 0.8845713988516402), (4188, 0.8845713988516402), (4189, 0.0), (4190, 0.46640480307738325), (4191, 0.0), (4192, 0.0), (4193, 0.46640480307738325), (4194, 0.1882380394149203), (4195, 0.46640480307738325), (4196, 0.1882380394149203), (4197, 0.0), (4198, 0.0), (4199, 0.8845713988516402), (4200, 0.0), (4201, 0.22380100877926673), (4202, 0.1405496018667457), (4203, 0.26954439192295787), (4204, 0.46640480307738325), (4205, 0.0), (4206, 0.18913149622231354), (4207, 0.5050154397005037), (4208, 0.0), (4209, 0.0), (4210, 0.8845713988516402), (4211, 0.16861365988500507), (4212, 0.5050154397005037), (4213, 0.18270473677057544), (4214, 0.49261138449040814), (4215, 0.17389242830560198), (4216, 0.5050154397005037), (4217, 0.21737754821761618), (4218, 0.0), (4219, 0.5050154397005037), (4220, 0.15656186322621932), (4221, 0.0), (4222, 0.5050154397005037), (4223, 0.26954439192295787), (4224, 0.0), (4225, 0.18320303459782844), (4226, 0.2574485170326601), (4227, 0.8845713988516402), (4228, 0.21936875901445776), (4229, 0.0), (4230, 0.0), (4231, 0.863110309093865), (4232, 0.23785168203110515), (4233, 0.529402542604805), (4234, 0.5050154397005037), (4235, 0.0), (4236, 0.1647099144455924), (4237, 0.863110309093865), (4238, 0.18270473677057544), (4239, 0.5050154397005037), (4240, 0.5452240563272389), (4241, 0.22390766139708893), (4242, 0.1621128175904444), (4243, 0.15801071420419827), (4244, 0.18913149622231354), (4245, 0.5050154397005037), (4246, 0.726240982959826), (4247, 0.488021662308456), (4248, 0.0), (4249, 0.1621128175904444), (4250, 0.19863681334206054), (4251, 0.863110309093865), (4252, 1.0), (4253, 0.5050154397005037), (4254, 0.5050154397005037), (4255, 0.2979419414724567), (4256, 0.5050154397005037), (4257, 0.20194315216349354), (4258, 0.1432918572988705), (4259, 0.46640480307738325), (4260, 0.46640480307738325), (4261, 0.46640480307738325), (4262, 1.0), (4263, 0.20194315216349354), (4264, 0.18320303459782844), (4265, 0.46640480307738325), (4266, 0.44798040769664355), (4267, 0.46640480307738325), (4268, 0.700535756981705), (4269, 0.1647099144455924), (4270, 0.19863681334206054), (4271, 0.18270473677057544), (4272, 0.46640480307738325), (4273, 1.0), (4274, 0.0), (4275, 1.0), (4276, 0.0), (4277, 0.46640480307738325), (4278, 0.6626838105759573), (4279, 0.46640480307738325), (4280, 0.5050154397005037), (4281, 0.14883375665411094), (4282, 0.0), (4283, 0.8845713988516402), (4284, 0.8845713988516402), (4285, 0.15853806235337925), (4286, 0.1583704629730746), (4287, 0.5050154397005037), (4288, 1.0), (4289, 0.2632847110277334), (4290, 1.0), (4291, 0.0), (4292, 0.21244774373372832), (4293, 1.0), (4294, 0.3769983841064546), (4295, 0.23487691294360039), (4296, 0.1621128175904444), (4297, 0.2632847110277334), (4298, 0.0), (4299, 0.46640480307738325), (4300, 0.44798040769664355), (4301, 0.5050154397005037), (4302, 0.23487691294360039), (4303, 0.0), (4304, 0.0), (4305, 0.23487691294360039), (4306, 0.0), (4307, 0.5050154397005037), (4308, 0.20604218961865275), (4309, 0.15341770158425355), (4310, 0.26954439192295787), (4311, 0.0), (4312, 0.2176587496286038), (4313, 0.2632847110277334), (4314, 0.0), (4315, 0.0), (4316, 0.22390766139708893), (4317, 0.0), (4318, 0.6560070104292905), (4319, 0.687440204432026), (4320, 0.5050154397005037), (4321, 0.26954439192295787), (4322, 0.5050154397005037), (4323, 0.1293137646961913), (4324, 0.687440204432026), (4325, 0.5050154397005037), (4326, 0.0), (4327, 0.0), (4328, 0.687440204432026), (4329, 0.0), (4330, 0.46640480307738325), (4331, 0.23487691294360039), (4332, 0.0), (4333, 0.6018470129914483), (4334, 0.0), (4335, 0.46640480307738325), (4336, 0.18913149622231354), (4337, 0.46640480307738325), (4338, 0.18913149622231354), (4339, 0.23650819876873833), (4340, 0.687440204432026), (4341, 0.46640480307738325), (4342, 1.0), (4343, 1.0), (4344, 0.3572628965246665), (4345, 0.17793227800448835), (4346, 0.0), (4347, 0.17793227800448835), (4348, 0.0), (4349, 0.5452240563272389), (4350, 0.5452240563272389), (4351, 0.0), (4352, 0.8845713988516402), (4353, 0.0), (4354, 1.0), (4355, 0.0), (4356, 0.7390361780003906), (4357, 0.5050154397005037), (4358, 0.0), (4359, 0.687440204432026), (4360, 0.15432997064574216), (4361, 0.0), (4362, 0.0), (4363, 0.0), (4364, 0.46640480307738325), (4365, 0.0), (4366, 0.46640480307738325), (4367, 0.0), (4368, 0.1881151827358861), (4369, 0.0), (4370, 0.13454819171871174), (4371, 0.0), (4372, 0.5050154397005037), (4373, 0.0), (4374, 0.8845713988516402), (4375, 0.21737754821761618), (4376, 0.5050154397005037), (4377, 0.1818287010558562), (4378, 0.687440204432026), (4379, 0.0), (4380, 0.12295795200122837), (4381, 0.5046088390359138), (4382, 0.5050154397005037), (4383, 0.20506063431314472), (4384, 0.14330232551067484), (4385, 0.0), (4386, 0.0), (4387, 0.0), (4388, 0.46640480307738325), (4389, 0.2632847110277334), (4390, 0.8845713988516402), (4391, 0.189758947568857), (4392, 0.46640480307738325), (4393, 0.46640480307738325), (4394, 0.0), (4395, 0.46640480307738325), (4396, 0.46640480307738325), (4397, 0.15658814440976404), (4398, 0.23650819876873833), (4399, 0.46640480307738325), (4400, 0.863110309093865), (4401, 0.0), (4402, 0.46640480307738325), (4403, 0.20604218961865275), (4404, 0.5050154397005037), (4405, 0.39262384658413746), (4406, 0.1882380394149203), (4407, 1.0), (4408, 0.0), (4409, 0.16270641092827842), (4410, 0.0), (4411, 0.863110309093865), (4412, 0.863110309093865), (4413, 0.0), (4414, 0.0), (4415, 0.46640480307738325), (4416, 0.46640480307738325), (4417, 0.8845713988516402), (4418, 0.49261138449040814), (4419, 0.5050154397005037), (4420, 0.14066141726491047), (4421, 0.5050154397005037), (4422, 0.0), (4423, 0.5050154397005037), (4424, 0.0), (4425, 0.0), (4426, 0.16861365988500507), (4427, 0.17263309261006643), (4428, 0.0), (4429, 0.36540044689441414), (4430, 0.863110309093865), (4431, 0.21244774373372832), (4432, 0.1881151827358861), (4433, 1.0), (4434, 0.23302605192993817), (4435, 0.8845713988516402), (4436, 0.18913149622231354), (4437, 0.46640480307738325), (4438, 0.20604218961865275), (4439, 0.3342182943998039), (4440, 0.687440204432026), (4441, 0.23650819876873833), (4442, 0.2979419414724567), (4443, 0.2114279692355524), (4444, 0.687440204432026), (4445, 0.5110546783469014), (4446, 0.46640480307738325), (4447, 0.0), (4448, 0.3107376368652637), (4449, 0.20604218961865275), (4450, 0.46640480307738325), (4451, 0.26954439192295787), (4452, 0.687440204432026), (4453, 0.0), (4454, 0.26089035422357426), (4455, 0.5050154397005037), (4456, 0.5050154397005037), (4457, 0.3918635210279682), (4458, 0.1881151827358861), (4459, 0.0), (4460, 0.18128082672473222), (4461, 0.5050154397005037), (4462, 0.6560070104292905), (4463, 0.529402542604805), (4464, 0.46640480307738325), (4465, 0.46640480307738325), (4466, 0.18062231275585203), (4467, 0.0), (4468, 1.0), (4469, 0.0), (4470, 0.0), (4471, 0.12485192304710026), (4472, 0.5050154397005037), (4473, 0.46640480307738325), (4474, 0.46640480307738325), (4475, 0.0), (4476, 0.26954439192295787), (4477, 0.0), (4478, 0.2979419414724567), (4479, 0.0), (4480, 0.2979419414724567), (4481, 0.5050154397005037), (4482, 0.687440204432026), (4483, 0.0), (4484, 0.19106589617835537), (4485, 0.5050154397005037), (4486, 0.0), (4487, 0.0), (4488, 0.8845713988516402), (4489, 0.8845713988516402), (4490, 0.2632847110277334), (4491, 0.46640480307738325), (4492, 0.863110309093865), (4493, 0.15228526029037429), (4494, 0.687440204432026), (4495, 0.0), (4496, 0.0), (4497, 0.8845713988516402), (4498, 0.19511304391368006), (4499, 0.4410435449883992), (4500, 0.26954439192295787), (4501, 0.26954439192295787), (4502, 0.0), (4503, 0.47086600218600033), (4504, 0.41391948422992275), (4505, 0.0), (4506, 0.863110309093865), (4507, 0.46640480307738325), (4508, 0.5050154397005037), (4509, 0.46640480307738325), (4510, 0.22390766139708893), (4511, 0.0), (4512, 0.863110309093865), (4513, 0.17179598791967116), (4514, 0.8845713988516402), (4515, 0.687440204432026), (4516, 1.0), (4517, 0.15658814440976404), (4518, 0.0), (4519, 0.0), (4520, 0.6626838105759573), (4521, 0.46640480307738325), (4522, 0.5050154397005037), (4523, 0.3762059441419113), (4524, 0.46640480307738325), (4525, 0.0), (4526, 0.44798040769664355), (4527, 0.0), (4528, 1.0), (4529, 1.0), (4530, 0.5723410275915701), (4531, 0.0), (4532, 0.5050154397005037), (4533, 0.2176587496286038), (4534, 0.189758947568857), (4535, 0.5260771116213071), (4536, 0.0), (4537, 0.44798040769664355), (4538, 0.0), (4539, 0.5452240563272389), (4540, 0.5569293607013432), (4541, 0.25733057159885575), (4542, 0.47086600218600033), (4543, 0.0), (4544, 1.0), (4545, 0.2632847110277334), (4546, 0.46640480307738325), (4547, 0.40222487175206034), (4548, 0.0), (4549, 0.25733057159885575), (4550, 0.23785168203110515), (4551, 0.26954439192295787), (4552, 0.21936875901445776), (4553, 1.0), (4554, 0.46640480307738325), (4555, 0.5050154397005037), (4556, 0.863110309093865), (4557, 0.0), (4558, 0.17877624871608866), (4559, 0.0), (4560, 0.0), (4561, 0.6626838105759573), (4562, 0.46640480307738325), (4563, 0.0), (4564, 0.20604218961865275), (4565, 0.687440204432026), (4566, 0.40288617180053155), (4567, 0.46640480307738325), (4568, 0.2632847110277334), (4569, 1.0), (4570, 0.5669166999338728), (4571, 0.1632873024466789), (4572, 0.46640480307738325), (4573, 0.40222487175206034), (4574, 0.23650819876873833), (4575, 0.23487691294360039), (4576, 0.23487691294360039), (4577, 0.1453176398889128), (4578, 0.0), (4579, 0.0), (4580, 0.26954439192295787), (4581, 0.5050154397005037), (4582, 0.0), (4583, 0.0), (4584, 0.2632847110277334), (4585, 0.5050154397005037), (4586, 0.23302605192993817), (4587, 0.2979419414724567), (4588, 0.5050154397005037), (4589, 0.23785168203110515), (4590, 0.18270473677057544), (4591, 0.18320303459782844), (4592, 0.5050154397005037), (4593, 0.5050154397005037), (4594, 0.46640480307738325), (4595, 0.0), (4596, 0.0), (4597, 1.0), (4598, 0.14264634049618202), (4599, 0.687440204432026), (4600, 0.863110309093865), (4601, 0.23487691294360039), (4602, 0.5050154397005037), (4603, 0.17793227800448835), (4604, 0.0), (4605, 0.46640480307738325), (4606, 0.23487691294360039), (4607, 0.18913149622231354), (4608, 0.20604218961865275), (4609, 0.687440204432026), (4610, 0.1432918572988705), (4611, 0.0), (4612, 0.16038736164582842), (4613, 0.0), (4614, 0.8845713988516402), (4615, 0.0), (4616, 0.2632847110277334), (4617, 0.0), (4618, 0.687440204432026), (4619, 0.0), (4620, 0.863110309093865), (4621, 0.18913149622231354), (4622, 0.44266838840418343), (4623, 0.5341587733715428), (4624, 0.46640480307738325), (4625, 0.25733057159885575), (4626, 0.0), (4627, 0.46640480307738325), (4628, 0.2176587496286038), (4629, 0.46640480307738325), (4630, 0.0), (4631, 0.23351164829230459), (4632, 0.0), (4633, 0.0), (4634, 0.5452240563272389), (4635, 0.46640480307738325), (4636, 0.0), (4637, 0.6772133860215244), (4638, 0.23487691294360039), (4639, 0.0), (4640, 0.0), (4641, 0.18062231275585203), (4642, 0.0), (4643, 0.863110309093865), (4644, 1.0), (4645, 0.5050154397005037), (4646, 0.0), (4647, 0.0), (4648, 0.1524342552180089), (4649, 0.0), (4650, 0.18202512717395994), (4651, 0.0), (4652, 0.23650819876873833), (4653, 0.0), (4654, 0.44266838840418343), (4655, 0.617564359205713), (4656, 0.26954439192295787), (4657, 0.15461225303453402), (4658, 0.0), (4659, 0.46640480307738325), (4660, 0.0), (4661, 0.0), (4662, 0.0), (4663, 0.0), (4664, 0.0), (4665, 0.22390766139708893), (4666, 0.8845713988516402), (4667, 0.2632847110277334), (4668, 0.6772133860215244), (4669, 0.26954439192295787), (4670, 0.18320303459782844), (4671, 0.687440204432026), (4672, 0.1832615245105313), (4673, 0.46640480307738325), (4674, 0.18270473677057544), (4675, 0.863110309093865), (4676, 0.46640480307738325), (4677, 0.46640480307738325), (4678, 0.637889255615152), (4679, 0.0), (4680, 0.18913149622231354), (4681, 0.31792826218300585), (4682, 0.687440204432026), (4683, 1.0), (4684, 0.2979419414724567), (4685, 0.0), (4686, 0.23487691294360039), (4687, 0.46640480307738325), (4688, 0.8845713988516402), (4689, 0.21936875901445776), (4690, 0.0), (4691, 0.1881151827358861), (4692, 0.5050154397005037), (4693, 0.32960684193624074), (4694, 0.863110309093865), (4695, 0.46640480307738325), (4696, 0.863110309093865), (4697, 0.24473885545931087), (4698, 0.1286166786072644), (4699, 0.8845713988516402), (4700, 0.26089035422357426), (4701, 0.0), (4702, 0.18913149622231354), (4703, 0.687440204432026), (4704, 1.0), (4705, 0.15833271077101568), (4706, 1.0), (4707, 0.46640480307738325), (4708, 0.18270473677057544), (4709, 0.5050154397005037), (4710, 0.0), (4711, 0.26954439192295787), (4712, 0.46640480307738325), (4713, 0.1621128175904444), (4714, 0.6772133860215244), (4715, 0.8845713988516402), (4716, 0.863110309093865), (4717, 0.24473885545931087), (4718, 0.687440204432026), (4719, 0.863110309093865), (4720, 0.1621128175904444), (4721, 0.26954439192295787), (4722, 0.44266838840418343), (4723, 0.0), (4724, 0.16896706701763797), (4725, 0.1882380394149203), (4726, 0.1807071179500178), (4727, 0.5452240563272389), (4728, 0.5452240563272389), (4729, 0.5050154397005037), (4730, 0.46640480307738325), (4731, 0.5452240563272389), (4732, 0.46640480307738325), (4733, 0.5452240563272389), (4734, 0.1882380394149203), (4735, 0.6160231082433065), (4736, 0.5050154397005037), (4737, 0.20506063431314472), (4738, 0.17793227800448835), (4739, 0.863110309093865), (4740, 0.46640480307738325), (4741, 0.23785168203110515), (4742, 0.21244774373372832), (4743, 0.18270473677057544), (4744, 0.7390361780003906), (4745, 0.46640480307738325), (4746, 0.0), (4747, 0.46640480307738325), (4748, 0.43483667404785875), (4749, 0.18615318816334525), (4750, 0.5050154397005037), (4751, 0.17389242830560198), (4752, 0.1621128175904444), (4753, 0.46640480307738325), (4754, 0.46640480307738325), (4755, 0.5238811096416001), (4756, 0.8845713988516402), (4757, 0.46640480307738325), (4758, 0.8845713988516402), (4759, 0.8845713988516402), (4760, 0.687440204432026), (4761, 0.23785168203110515), (4762, 0.863110309093865), (4763, 0.687440204432026), (4764, 0.189758947568857), (4765, 0.5050154397005037), (4766, 0.863110309093865), (4767, 0.5050154397005037), (4768, 0.0), (4769, 0.11897715757889214), (4770, 0.8845713988516402), (4771, 0.44798040769664355), (4772, 0.5050154397005037), (4773, 0.2114279692355524), (4774, 0.3005345463318173), (4775, 0.1882380394149203), (4776, 0.863110309093865), (4777, 0.18320303459782844), (4778, 0.0), (4779, 0.0), (4780, 0.25733057159885575), (4781, 0.1236875950974397), (4782, 0.8845713988516402), (4783, 0.36540044689441414), (4784, 0.13102116608910183), (4785, 0.0), (4786, 0.46640480307738325), (4787, 0.20194315216349354), (4788, 0.46640480307738325), (4789, 0.5452240563272389), (4790, 0.2632847110277334), (4791, 1.0), (4792, 0.863110309093865), (4793, 0.0), (4794, 0.863110309093865), (4795, 0.13719060319258147), (4796, 0.5934328222694809), (4797, 1.0), (4798, 0.5050154397005037), (4799, 0.863110309093865), (4800, 0.1485268009893424), (4801, 0.863110309093865), (4802, 0.5050154397005037), (4803, 0.0), (4804, 0.46640480307738325), (4805, 0.23487691294360039), (4806, 0.23650819876873833), (4807, 0.5341587733715428), (4808, 0.0), (4809, 0.0), (4810, 0.17793227800448835), (4811, 0.46640480307738325), (4812, 0.8845713988516402), (4813, 0.0), (4814, 0.8845713988516402), (4815, 0.0), (4816, 0.46640480307738325), (4817, 0.46640480307738325), (4818, 0.46640480307738325), (4819, 0.863110309093865), (4820, 0.46640480307738325), (4821, 0.863110309093865), (4822, 0.46640480307738325), (4823, 0.5050154397005037), (4824, 0.0), (4825, 0.2979419414724567), (4826, 0.0), (4827, 0.0), (4828, 0.5050154397005037), (4829, 0.22380100877926673), (4830, 0.5050154397005037), (4831, 0.8845713988516402), (4832, 0.8845713988516402), (4833, 0.42803450629480577), (4834, 0.11626256607063784), (4835, 0.3711705799414507), (4836, 0.15658814440976404), (4837, 0.46640480307738325), (4838, 0.687440204432026), (4839, 0.11837056129019836), (4840, 0.0), (4841, 0.17877624871608866), (4842, 0.46640480307738325), (4843, 0.28328428649432197), (4844, 0.0), (4845, 0.18270473677057544), (4846, 0.46640480307738325), (4847, 0.0), (4848, 0.1293137646961913), (4849, 0.13719060319258147), (4850, 0.46640480307738325), (4851, 0.1832615245105313), (4852, 0.8845713988516402), (4853, 0.0), (4854, 0.21866343162925583), (4855, 0.26954439192295787), (4856, 0.17793227800448835), (4857, 1.0), (4858, 0.5050154397005037), (4859, 0.14977225546862888), (4860, 0.46640480307738325), (4861, 0.8845713988516402), (4862, 0.46640480307738325), (4863, 0.19511304391368006), (4864, 0.2119896822491645), (4865, 0.46640480307738325), (4866, 0.2114279692355524), (4867, 0.8845713988516402), (4868, 0.5050154397005037), (4869, 0.687440204432026), (4870, 0.46640480307738325), (4871, 0.46640480307738325), (4872, 0.0), (4873, 0.18270473677057544), (4874, 0.14013454004889536), (4875, 0.1432918572988705), (4876, 0.18615318816334525), (4877, 0.13719060319258147), (4878, 0.2728125996896554), (4879, 0.0), (4880, 0.863110309093865), (4881, 0.687440204432026), (4882, 0.687440204432026), (4883, 0.5050154397005037), (4884, 0.2728125996896554), (4885, 0.46640480307738325), (4886, 0.25733057159885575), (4887, 0.726240982959826), (4888, 0.0), (4889, 0.687440204432026), (4890, 0.23785168203110515), (4891, 0.1881151827358861), (4892, 0.23487691294360039), (4893, 0.46640480307738325), (4894, 0.46640480307738325), (4895, 0.18913149622231354), (4896, 0.0), (4897, 0.18270473677057544), (4898, 0.5050154397005037), (4899, 0.26954439192295787), (4900, 0.16966995682864697), (4901, 0.8845713988516402), (4902, 0.0), (4903, 0.0), (4904, 0.46640480307738325), (4905, 1.0), (4906, 1.0), (4907, 0.863110309093865), (4908, 0.15833271077101568), (4909, 0.6141606046464241), (4910, 0.18913149622231354), (4911, 0.44798040769664355), (4912, 1.0), (4913, 0.26954439192295787), (4914, 0.18913149622231354), (4915, 0.14166165843644352), (4916, 0.16861365988500507), (4917, 0.46640480307738325), (4918, 0.0), (4919, 0.8845713988516402), (4920, 0.0), (4921, 0.23487691294360039), (4922, 0.12295795200122837), (4923, 0.6160231082433065), (4924, 0.2176587496286038), (4925, 0.16861365988500507), (4926, 0.23785168203110515), (4927, 0.1823906351274784), (4928, 0.17793227800448835), (4929, 0.21936875901445776), (4930, 0.687440204432026), (4931, 0.46640480307738325), (4932, 0.25733057159885575), (4933, 0.687440204432026), (4934, 0.3005345463318173), (4935, 0.20194315216349354), (4936, 0.0), (4937, 0.0), (4938, 0.0), (4939, 0.6160231082433065), (4940, 0.13041207350833756), (4941, 0.5050154397005037), (4942, 0.18320303459782844), (4943, 0.8845713988516402), (4944, 0.5050154397005037), (4945, 0.0), (4946, 0.46640480307738325), (4947, 0.8845713988516402), (4948, 0.13719060319258147), (4949, 0.23487691294360039), (4950, 0.687440204432026), (4951, 0.0), (4952, 0.46640480307738325), (4953, 0.1740105995239713), (4954, 0.0), (4955, 0.863110309093865), (4956, 0.46640480307738325), (4957, 0.22380100877926673), (4958, 0.46640480307738325), (4959, 0.8845713988516402), (4960, 0.15853806235337925), (4961, 0.0), (4962, 0.0), (4963, 0.0), (4964, 0.0), (4965, 0.0), (4966, 0.0), (4967, 0.46640480307738325), (4968, 0.0), (4969, 1.0), (4970, 0.46640480307738325), (4971, 0.8845713988516402), (4972, 0.18913149622231354), (4973, 0.28124215775134453), (4974, 0.46640480307738325), (4975, 0.0), (4976, 0.46640480307738325), (4977, 0.46640480307738325), (4978, 0.687440204432026), (4979, 0.46640480307738325), (4980, 0.0), (4981, 0.0), (4982, 0.5050154397005037), (4983, 0.0), (4984, 0.0), (4985, 0.16850221742391572), (4986, 0.863110309093865), (4987, 0.2632847110277334), (4988, 0.16308125643616964), (4989, 0.8845713988516402), (4990, 0.46640480307738325), (4991, 0.0), (4992, 0.8845713988516402), (4993, 0.20604218961865275), (4994, 1.0), (4995, 0.24473885545931087), (4996, 0.5352193831265291), (4997, 0.5238811096416001), (4998, 0.5050154397005037), (4999, 0.5708104095238273), (5000, 0.5050154397005037), (5001, 0.11626256607063784), (5002, 0.687440204432026), (5003, 0.22380100877926673), (5004, 0.0), (5005, 0.46640480307738325), (5006, 0.23487691294360039), (5007, 0.46640480307738325), (5008, 0.46640480307738325), (5009, 0.15801071420419827), (5010, 0.0), (5011, 0.2632847110277334), (5012, 0.1415894529847499), (5013, 0.46640480307738325), (5014, 0.0), (5015, 0.46640480307738325), (5016, 0.5050154397005037), (5017, 0.26089035422357426), (5018, 0.0), (5019, 0.46640480307738325), (5020, 0.0), (5021, 0.0), (5022, 0.0), (5023, 0.22390766139708893), (5024, 0.22390766139708893), (5025, 0.20604218961865275), (5026, 0.23487691294360039), (5027, 0.637889255615152), (5028, 0.700535756981705), (5029, 0.617564359205713), (5030, 0.18615318816334525), (5031, 0.18615318816334525), (5032, 0.5046088390359138), (5033, 0.5064252357632436), (5034, 0.5050154397005037), (5035, 0.1770936386824572), (5036, 0.0), (5037, 0.1632873024466789), (5038, 0.5050154397005037), (5039, 0.2979419414724567), (5040, 0.19511304391368006), (5041, 0.19511304391368006), (5042, 0.5050154397005037), (5043, 0.0), (5044, 0.22380100877926673), (5045, 0.5050154397005037), (5046, 0.20604218961865275), (5047, 0.0), (5048, 0.16827626689866138), (5049, 0.0), (5050, 0.18913149622231354), (5051, 0.13625642568850038), (5052, 0.0), (5053, 0.16827626689866138), (5054, 0.5050154397005037), (5055, 0.26954439192295787), (5056, 0.1286166786072644), (5057, 0.0), (5058, 0.11626256607063784), (5059, 0.0), (5060, 0.0), (5061, 0.5050154397005037), (5062, 0.18270473677057544), (5063, 0.46640480307738325), (5064, 0.46640480307738325), (5065, 0.46640480307738325), (5066, 0.46640480307738325), (5067, 0.0), (5068, 0.2632847110277334), (5069, 0.0), (5070, 0.46640480307738325), (5071, 0.0), (5072, 0.15801071420419827), (5073, 0.18913149622231354), (5074, 0.14066141726491047), (5075, 0.5050154397005037), (5076, 0.0), (5077, 0.0), (5078, 0.0), (5079, 0.2574485170326601), (5080, 0.0), (5081, 0.25733057159885575), (5082, 0.32488710848081137), (5083, 0.46640480307738325), (5084, 0.0), (5085, 0.687440204432026), (5086, 0.46640480307738325), (5087, 0.0), (5088, 0.1621128175904444), (5089, 0.14066141726491047), (5090, 1.0), (5091, 0.46640480307738325), (5092, 0.6560070104292905), (5093, 0.0), (5094, 0.23487691294360039), (5095, 0.687440204432026), (5096, 0.12485192304710026), (5097, 0.15801071420419827), (5098, 0.46640480307738325), (5099, 0.16827626689866138), (5100, 0.5734209591531079), (5101, 0.14056318502719597), (5102, 0.2979419414724567), (5103, 0.0), (5104, 0.46640480307738325), (5105, 0.5050154397005037), (5106, 0.863110309093865), (5107, 0.46640480307738325), (5108, 0.46640480307738325), (5109, 0.8845713988516402), (5110, 0.26089035422357426), (5111, 0.0), (5112, 0.0), (5113, 0.0), (5114, 0.0), (5115, 0.46640480307738325), (5116, 0.22390766139708893), (5117, 0.46640480307738325), (5118, 0.46640480307738325), (5119, 0.0), (5120, 0.23487691294360039), (5121, 0.41386791540689327), (5122, 0.15463782404743678), (5123, 0.687440204432026), (5124, 0.46640480307738325), (5125, 0.5050154397005037), (5126, 0.36540044689441414), (5127, 0.46640480307738325), (5128, 0.5669166999338728), (5129, 0.25733057159885575), (5130, 0.5341587733715428), (5131, 0.2632847110277334), (5132, 0.0), (5133, 0.0), (5134, 0.0), (5135, 0.687440204432026), (5136, 0.6970281737714932), (5137, 0.1405496018667457), (5138, 0.26954439192295787), (5139, 0.687440204432026), (5140, 0.23302605192993817), (5141, 0.1287675454141278), (5142, 0.7390361780003906), (5143, 0.46640480307738325), (5144, 0.0), (5145, 0.17793227800448835), (5146, 0.0), (5147, 1.0), (5148, 0.5050154397005037), (5149, 0.0), (5150, 0.687440204432026), (5151, 1.0), (5152, 0.863110309093865), (5153, 0.5050154397005037), (5154, 0.46640480307738325), (5155, 0.8845713988516402), (5156, 0.18270473677057544), (5157, 0.46640480307738325), (5158, 0.2632847110277334), (5159, 0.179011865298965), (5160, 0.36741065708572973), (5161, 0.13742586293197015), (5162, 1.0), (5163, 0.5050154397005037), (5164, 0.46640480307738325), (5165, 0.687440204432026), (5166, 0.0), (5167, 0.0), (5168, 0.37471428959503905), (5169, 0.0), (5170, 0.17549148260719827), (5171, 0.20478232692415882), (5172, 0.0), (5173, 0.5050154397005037), (5174, 0.46640480307738325), (5175, 0.46640480307738325), (5176, 0.5050154397005037), (5177, 0.5050154397005037), (5178, 0.8845713988516402), (5179, 0.8845713988516402), (5180, 0.26954439192295787), (5181, 0.687440204432026), (5182, 0.8845713988516402), (5183, 0.22380100877926673), (5184, 0.12485192304710026), (5185, 0.863110309093865), (5186, 0.5050154397005037), (5187, 0.2737990650947479), (5188, 0.2574485170326601), (5189, 0.4786081185015104), (5190, 0.0), (5191, 0.49261138449040814), (5192, 0.46640480307738325), (5193, 0.41391948422992275), (5194, 0.18913149622231354), (5195, 0.46640480307738325), (5196, 0.863110309093865), (5197, 0.18270473677057544), (5198, 0.46640480307738325), (5199, 0.46640480307738325), (5200, 0.3742962823018339), (5201, 0.39465340587343756), (5202, 0.47103494112640965), (5203, 0.3715950175412909), (5204, 0.16324592466708485), (5205, 0.18270473677057544), (5206, 0.1632735486052865), (5207, 0.12485192304710026), (5208, 0.21244774373372832), (5209, 0.15801071420419827), (5210, 0.46640480307738325), (5211, 0.23487691294360039), (5212, 0.0), (5213, 0.0), (5214, 0.5238811096416001), (5215, 0.0), (5216, 0.17278649231246115), (5217, 0.5050154397005037), (5218, 0.5050154397005037), (5219, 0.46640480307738325), (5220, 0.22380100877926673), (5221, 0.19106589617835537), (5222, 0.5050154397005037), (5223, 1.0), (5224, 0.863110309093865), (5225, 0.2176587496286038), (5226, 0.46640480307738325), (5227, 0.863110309093865), (5228, 0.1647099144455924), (5229, 0.17793227800448835), (5230, 0.20604218961865275), (5231, 0.687440204432026), (5232, 0.13853561856744584), (5233, 0.687440204432026), (5234, 0.0), (5235, 0.17248502228032686), (5236, 0.14769148900208004), (5237, 0.18798803123479452), (5238, 0.0), (5239, 0.0), (5240, 0.5031832987899141), (5241, 0.1740105995239713), (5242, 0.1621128175904444), (5243, 0.26954439192295787), (5244, 0.11626256607063784), (5245, 0.687440204432026), (5246, 0.2979419414724567), (5247, 0.2979419414724567), (5248, 0.1627898736432852), (5249, 0.5050154397005037), (5250, 0.24473885545931087), (5251, 0.5050154397005037), (5252, 0.8845713988516402), (5253, 0.46640480307738325), (5254, 0.31260869434326016), (5255, 0.0), (5256, 0.8845713988516402), (5257, 0.0), (5258, 0.5050154397005037), (5259, 0.17692366660102257), (5260, 0.0), (5261, 0.863110309093865), (5262, 0.13719060319258147), (5263, 0.5050154397005037), (5264, 0.8845713988516402), (5265, 0.0), (5266, 0.23487691294360039), (5267, 0.46640480307738325), (5268, 0.23487691294360039), (5269, 0.0), (5270, 0.0), (5271, 0.863110309093865), (5272, 0.0), (5273, 0.0), (5274, 0.23785168203110515), (5275, 0.687440204432026), (5276, 0.3051102416251604), (5277, 0.5050154397005037), (5278, 0.5050154397005037), (5279, 0.8845713988516402), (5280, 0.0), (5281, 0.17793227800448835), (5282, 0.46640480307738325), (5283, 0.5050154397005037), (5284, 0.18270473677057544), (5285, 0.46640480307738325), (5286, 0.15801071420419827), (5287, 0.6626838105759573), (5288, 0.0), (5289, 0.5050154397005037), (5290, 0.0), (5291, 0.46640480307738325), (5292, 0.0), (5293, 0.0), (5294, 0.0), (5295, 0.2632847110277334), (5296, 0.0), (5297, 0.0), (5298, 0.0), (5299, 0.0), (5300, 0.0), (5301, 0.16861365988500507), (5302, 1.0), (5303, 0.13719060319258147), (5304, 0.20604218961865275), (5305, 0.1621128175904444), (5306, 0.8845713988516402), (5307, 0.47103494112640965), (5308, 0.46640480307738325), (5309, 0.2728125996896554), (5310, 0.8845713988516402), (5311, 0.8845713988516402), (5312, 0.0), (5313, 0.46640480307738325), (5314, 0.5050154397005037), (5315, 0.0), (5316, 0.21737754821761618), (5317, 0.1310549062039), (5318, 0.0), (5319, 0.189758947568857), (5320, 0.863110309093865), (5321, 0.2632847110277334), (5322, 0.6772133860215244), (5323, 0.863110309093865), (5324, 0.46640480307738325), (5325, 0.46640480307738325), (5326, 0.46640480307738325), (5327, 0.13041207350833756), (5328, 0.0), (5329, 0.687440204432026), (5330, 0.0), (5331, 0.8845713988516402), (5332, 0.8845713988516402), (5333, 0.14068788535327179), (5334, 0.23785168203110515), (5335, 0.25733057159885575), (5336, 0.46640480307738325), (5337, 0.0), (5338, 0.46640480307738325), (5339, 0.15833271077101568), (5340, 0.23785168203110515), (5341, 0.0), (5342, 0.17549148260719827), (5343, 0.20194315216349354), (5344, 0.5050154397005037), (5345, 0.726240982959826), (5346, 0.2979419414724567), (5347, 0.22390766139708893), (5348, 0.46640480307738325), (5349, 0.8845713988516402), (5350, 0.16813700476173377), (5351, 0.44798040769664355), (5352, 0.7390361780003906), (5353, 0.46640480307738325), (5354, 0.863110309093865), (5355, 0.25733057159885575), (5356, 0.687440204432026), (5357, 0.17549148260719827), (5358, 0.26089035422357426), (5359, 0.0), (5360, 0.0), (5361, 0.687440204432026), (5362, 0.5050154397005037), (5363, 0.0), (5364, 1.0), (5365, 1.0), (5366, 0.16861365988500507), (5367, 0.46640480307738325), (5368, 0.46640480307738325), (5369, 0.0), (5370, 0.18913149622231354), (5371, 0.0), (5372, 0.46640480307738325), (5373, 0.19863681334206054), (5374, 0.14237892718411294), (5375, 0.46640480307738325), (5376, 0.0), (5377, 0.46640480307738325), (5378, 0.25733057159885575), (5379, 0.16270641092827842), (5380, 1.0), (5381, 0.46640480307738325), (5382, 0.13091464781548304), (5383, 0.2632847110277334), (5384, 0.15432997064574216), (5385, 0.13719060319258147), (5386, 0.23650819876873833), (5387, 0.0), (5388, 0.863110309093865), (5389, 0.46640480307738325), (5390, 0.6737182900877672), (5391, 0.1881151827358861), (5392, 0.0), (5393, 0.0), (5394, 0.20604218961865275), (5395, 0.0), (5396, 0.0), (5397, 0.1567605966368783), (5398, 0.0), (5399, 0.863110309093865), (5400, 0.0), (5401, 0.22380100877926673), (5402, 0.6160231082433065), (5403, 0.5050154397005037), (5404, 0.46640480307738325), (5405, 0.5238811096416001), (5406, 0.8845713988516402), (5407, 0.0), (5408, 0.23487691294360039), (5409, 0.5050154397005037), (5410, 0.23487691294360039), (5411, 1.0), (5412, 0.0), (5413, 1.0), (5414, 0.1405496018667457), (5415, 0.8845713988516402), (5416, 0.8845713988516402), (5417, 0.863110309093865), (5418, 0.23785168203110515), (5419, 0.46640480307738325), (5420, 1.0), (5421, 0.18913149622231354), (5422, 0.863110309093865), (5423, 0.1405496018667457), (5424, 0.6160231082433065), (5425, 0.863110309093865), (5426, 0.687440204432026), (5427, 0.46640480307738325), (5428, 0.8845713988516402), (5429, 0.863110309093865), (5430, 0.46640480307738325), (5431, 0.1286166786072644), (5432, 0.39262384658413746), (5433, 0.11837056129019836), (5434, 0.5489551504515829), (5435, 0.5050154397005037), (5436, 0.687440204432026), (5437, 0.40288617180053155), (5438, 0.41386791540689327), (5439, 0.23487691294360039), (5440, 0.17793227800448835), (5441, 0.46640480307738325), (5442, 0.1432918572988705), (5443, 0.0), (5444, 0.8845713988516402), (5445, 0.18270473677057544), (5446, 0.23487691294360039), (5447, 0.46640480307738325), (5448, 0.18270473677057544), (5449, 0.46640480307738325), (5450, 0.46640480307738325), (5451, 0.454231259500101), (5452, 0.637889255615152), (5453, 0.36540044689441414), (5454, 0.0), (5455, 0.1485350438400711), (5456, 0.0), (5457, 0.18270473677057544), (5458, 0.17549148260719827), (5459, 0.0), (5460, 1.0), (5461, 0.18270473677057544), (5462, 0.23487691294360039), (5463, 0.21936875901445776), (5464, 0.36540044689441414), (5465, 0.1882380394149203), (5466, 0.1882380394149203), (5467, 0.5050154397005037), (5468, 0.1621128175904444), (5469, 0.18798803123479452), (5470, 0.14237892718411294), (5471, 0.16270641092827842), (5472, 0.0), (5473, 0.23650819876873833), (5474, 0.8845713988516402), (5475, 0.18913149622231354), (5476, 0.5507584292255994), (5477, 0.863110309093865), (5478, 0.0), (5479, 0.1818287010558562), (5480, 0.0), (5481, 0.5363106325288699), (5482, 0.18913149622231354), (5483, 0.21205560801729728), (5484, 0.0), (5485, 0.863110309093865), (5486, 0.687440204432026), (5487, 0.863110309093865), (5488, 0.1882380394149203), (5489, 0.46640480307738325), (5490, 0.12689368001348947), (5491, 0.1621128175904444), (5492, 1.0), (5493, 0.46640480307738325), (5494, 0.0), (5495, 0.18270473677057544), (5496, 0.0), (5497, 0.0), (5498, 0.2176587496286038), (5499, 0.3005345463318173), (5500, 0.5238811096416001), (5501, 0.863110309093865), (5502, 0.0), (5503, 0.26089035422357426), (5504, 0.0), (5505, 0.2979419414724567), (5506, 0.3572628965246665), (5507, 0.636823997813255), (5508, 0.20160856684131845), (5509, 0.19863681334206054), (5510, 0.1882380394149203), (5511, 0.22390766139708893), (5512, 0.21737754821761618), (5513, 0.23785168203110515), (5514, 0.0), (5515, 0.46640480307738325), (5516, 0.0), (5517, 0.0), (5518, 0.0), (5519, 0.0), (5520, 0.687440204432026), (5521, 0.20506063431314472), (5522, 0.46640480307738325), (5523, 0.0), (5524, 0.1881151827358861), (5525, 0.1567605966368783), (5526, 0.5050154397005037), (5527, 0.46640480307738325), (5528, 0.17793227800448835), (5529, 0.5050154397005037), (5530, 0.46640480307738325), (5531, 0.18913149622231354), (5532, 0.6329608235453398), (5533, 0.0), (5534, 0.2111389077263953), (5535, 1.0), (5536, 0.0), (5537, 0.3294294856000836), (5538, 0.18913149622231354), (5539, 0.13091464781548304), (5540, 0.46640480307738325), (5541, 0.19511304391368006), (5542, 0.0), (5543, 0.0), (5544, 0.5050154397005037), (5545, 0.13625642568850038), (5546, 0.11587353161759939), (5547, 0.5050154397005037), (5548, 0.5452240563272389), (5549, 0.15801071420419827), (5550, 0.24473885545931087), (5551, 0.12117789755902793), (5552, 0.46640480307738325), (5553, 0.46640480307738325), (5554, 0.0), (5555, 0.26954439192295787), (5556, 0.08444559038076994), (5557, 0.18913149622231354), (5558, 0.0), (5559, 0.863110309093865), (5560, 0.22380100877926673), (5561, 0.5050154397005037), (5562, 0.0), (5563, 0.5050154397005037), (5564, 0.0), (5565, 0.6160231082433065), (5566, 0.20139066877048853), (5567, 1.0), (5568, 0.13625642568850038), (5569, 0.44266838840418343), (5570, 0.0), (5571, 0.6970281737714932), (5572, 0.43868174708011326), (5573, 0.46640480307738325), (5574, 0.5050154397005037), (5575, 0.17793227800448835), (5576, 0.4798563390413524), (5577, 0.16966995682864697), (5578, 0.863110309093865), (5579, 0.0), (5580, 0.46640480307738325), (5581, 0.46640480307738325), (5582, 0.0), (5583, 0.1991189281369784), (5584, 0.687440204432026), (5585, 0.37471428959503905), (5586, 0.12313536312456745), (5587, 0.0), (5588, 0.2574485170326601), (5589, 0.26089035422357426), (5590, 0.5050154397005037), (5591, 0.8845713988516402), (5592, 0.0), (5593, 0.1094677504321205), (5594, 0.687440204432026), (5595, 0.0), (5596, 0.5723410275915701), (5597, 0.0), (5598, 1.0), (5599, 0.5050154397005037), (5600, 0.0), (5601, 0.726240982959826), (5602, 0.2632847110277334), (5603, 0.46640480307738325), (5604, 0.0), (5605, 0.25492637906519955), (5606, 0.14400620183799853), (5607, 0.0), (5608, 0.46640480307738325), (5609, 0.20022321559984824), (5610, 0.863110309093865), (5611, 0.0), (5612, 0.1599283002018597), (5613, 0.455694413192055), (5614, 0.0), (5615, 0.18062231275585203), (5616, 0.0), (5617, 0.2632847110277334), (5618, 0.0), (5619, 0.0), (5620, 0.0), (5621, 0.12157252090033864), (5622, 0.0), (5623, 0.8845713988516402), (5624, 0.0), (5625, 0.2979419414724567), (5626, 0.863110309093865), (5627, 0.1953274461062404), (5628, 0.46640480307738325), (5629, 0.49097511319123577), (5630, 0.687440204432026), (5631, 0.0), (5632, 0.43602168046124673), (5633, 0.41391948422992275), (5634, 0.15611083401423628), (5635, 0.0), (5636, 0.1953274461062404), (5637, 0.2324084132899214), (5638, 0.5050154397005037), (5639, 0.46640480307738325), (5640, 0.11619795920620335), (5641, 0.2632847110277334), (5642, 1.0), (5643, 0.7610912491590632), (5644, 0.23302605192993817), (5645, 0.0), (5646, 0.0), (5647, 0.0), (5648, 0.14557312354249735), (5649, 0.5050154397005037), (5650, 0.0), (5651, 0.0), (5652, 0.0), (5653, 0.46640480307738325), (5654, 0.8845713988516402), (5655, 0.15257734731268913), (5656, 0.8845713988516402), (5657, 0.31131701987404337), (5658, 0.5050154397005037), (5659, 0.16967268945928954), (5660, 0.16363617251041307), (5661, 0.23487691294360039), (5662, 0.15415678124869192), (5663, 0.0), (5664, 0.14856621109143875), (5665, 0.13742586293197015), (5666, 0.15432997064574216), (5667, 0.863110309093865), (5668, 1.0), (5669, 0.14127968431679402), (5670, 0.46640480307738325), (5671, 0.0), (5672, 0.29537538105385763), (5673, 0.12208887979866756), (5674, 0.5050154397005037), (5675, 0.0), (5676, 0.32226695730076604), (5677, 0.4847786269508534), (5678, 0.1415894529847499), (5679, 0.20194315216349354), (5680, 0.15778489461076317), (5681, 0.5489551504515829), (5682, 0.7808122424209898), (5683, 0.4354476716966489), (5684, 0.863110309093865), (5685, 0.1291754371652576), (5686, 0.0), (5687, 0.863110309093865), (5688, 0.863110309093865), (5689, 0.0), (5690, 0.14066141726491047), (5691, 0.5050154397005037), (5692, 0.46640480307738325), (5693, 0.46640480307738325), (5694, 0.0), (5695, 0.0), (5696, 0.46640480307738325), (5697, 0.0), (5698, 0.0), (5699, 0.14068788535327179), (5700, 0.27985287399643266), (5701, 0.0), (5702, 0.0), (5703, 0.1621128175904444), (5704, 0.46640480307738325), (5705, 1.0), (5706, 0.46640480307738325), (5707, 0.13719060319258147), (5708, 0.18798803123479452), (5709, 0.2632847110277334), (5710, 0.2632847110277334), (5711, 1.0), (5712, 0.0), (5713, 0.46640480307738325), (5714, 0.18913149622231354), (5715, 0.46640480307738325), (5716, 0.0), (5717, 0.2632847110277334), (5718, 0.14066141726491047), (5719, 0.0), (5720, 0.0), (5721, 0.16308125643616964), (5722, 0.46640480307738325), (5723, 0.15801071420419827), (5724, 0.0), (5725, 0.0), (5726, 0.0), (5727, 0.0), (5728, 0.3742962823018339), (5729, 0.1190293709197683), (5730, 0.1449418049312368), (5731, 0.0), (5732, 0.46640480307738325), (5733, 0.28132237814262706), (5734, 0.18270473677057544), (5735, 0.12210701462864768), (5736, 0.863110309093865), (5737, 0.1953274461062404), (5738, 0.46640480307738325), (5739, 0.5238811096416001), (5740, 0.17793227800448835), (5741, 0.46640480307738325), (5742, 0.687440204432026), (5743, 0.5050154397005037), (5744, 0.18913149622231354), (5745, 0.46640480307738325), (5746, 0.46640480307738325), (5747, 0.24473885545931087), (5748, 0.46640480307738325), (5749, 0.0), (5750, 0.12319324724483528), (5751, 1.0), (5752, 0.687440204432026), (5753, 0.5050154397005037), (5754, 0.20506063431314472), (5755, 0.863110309093865), (5756, 0.3005345463318173), (5757, 0.8845713988516402), (5758, 0.23487691294360039), (5759, 0.1882380394149203), (5760, 0.687440204432026), (5761, 0.18270473677057544), (5762, 0.26954439192295787), (5763, 0.0), (5764, 0.687440204432026), (5765, 0.0), (5766, 0.0), (5767, 0.15560365868285192), (5768, 0.23650819876873833), (5769, 0.46640480307738325), (5770, 0.46640480307738325), (5771, 0.20604218961865275), (5772, 0.23487691294360039), (5773, 0.1432918572988705), (5774, 0.45293270236391847), (5775, 0.18270473677057544), (5776, 0.1621128175904444), (5777, 0.23650819876873833), (5778, 0.0), (5779, 0.0), (5780, 0.14066141726491047), (5781, 0.8845713988516402), (5782, 0.46640480307738325), (5783, 0.46640480307738325), (5784, 0.687440204432026), (5785, 0.46640480307738325), (5786, 0.0), (5787, 0.0), (5788, 0.18913149622231354), (5789, 0.46640480307738325), (5790, 0.4271478810965542), (5791, 0.3083116772825124), (5792, 0.14127968431679402), (5793, 0.6970281737714932), (5794, 0.8845713988516402), (5795, 0.5050154397005037), (5796, 0.5452240563272389), (5797, 0.0), (5798, 0.15778489461076317), (5799, 0.40222487175206034), (5800, 0.18270473677057544), (5801, 0.0), (5802, 0.0), (5803, 0.5050154397005037), (5804, 0.2979419414724567), (5805, 0.2979419414724567), (5806, 0.863110309093865), (5807, 0.25733057159885575), (5808, 0.265063549039357), (5809, 0.21936875901445776), (5810, 0.6609786922047318), (5811, 0.32652783233507954), (5812, 0.18270473677057544), (5813, 1.0), (5814, 0.0), (5815, 0.2979419414724567), (5816, 0.1730369609090866), (5817, 0.0), (5818, 0.1621128175904444), (5819, 0.10379117190572738), (5820, 0.46640480307738325), (5821, 0.0), (5822, 0.5050154397005037), (5823, 0.46640480307738325), (5824, 0.5050154397005037), (5825, 0.18913149622231354), (5826, 0.0), (5827, 0.46640480307738325), (5828, 0.2176587496286038), (5829, 0.40222487175206034), (5830, 0.687440204432026), (5831, 0.46640480307738325), (5832, 0.20726145575042415), (5833, 0.8845713988516402), (5834, 0.2979419414724567), (5835, 0.0), (5836, 0.18054609922891354), (5837, 0.12485192304710026), (5838, 0.26089035422357426), (5839, 0.2811558362112081), (5840, 0.2979419414724567), (5841, 0.5050154397005037), (5842, 0.31486081603929783), (5843, 0.37471428959503905), (5844, 0.44798040769664355), (5845, 0.0), (5846, 0.11235062412304418), (5847, 0.0), (5848, 0.0), (5849, 0.46640480307738325), (5850, 0.0), (5851, 0.5050154397005037), (5852, 0.21936875901445776), (5853, 0.8845713988516402), (5854, 0.46640480307738325), (5855, 0.5452240563272389), (5856, 0.0), (5857, 0.18270473677057544), (5858, 0.20139066877048853), (5859, 0.5050154397005037), (5860, 0.5050154397005037), (5861, 0.16861365988500507), (5862, 0.18320303459782844), (5863, 0.46640480307738325), (5864, 0.863110309093865), (5865, 0.8845713988516402), (5866, 0.5050154397005037), (5867, 0.18270473677057544), (5868, 0.0), (5869, 0.18270473677057544), (5870, 0.18320303459782844), (5871, 0.6160231082433065), (5872, 0.20160856684131845), (5873, 0.0), (5874, 0.18355437032847274), (5875, 0.18270473677057544), (5876, 0.1818287010558562), (5877, 0.1882380394149203), (5878, 0.45233480272016197), (5879, 1.0), (5880, 0.26954439192295787), (5881, 0.0), (5882, 0.0), (5883, 0.4786081185015104), (5884, 0.0), (5885, 0.23487691294360039), (5886, 0.19863681334206054), (5887, 0.8845713988516402), (5888, 0.5031832987899141), (5889, 0.5238811096416001), (5890, 0.0), (5891, 0.863110309093865), (5892, 0.20604218961865275), (5893, 0.46640480307738325), (5894, 0.0), (5895, 0.1621128175904444), (5896, 0.0), (5897, 0.5050154397005037), (5898, 0.8845713988516402), (5899, 0.23785168203110515), (5900, 0.5050154397005037), (5901, 0.15432997064574216), (5902, 0.2728125996896554), (5903, 0.0), (5904, 0.0), (5905, 0.687440204432026), (5906, 1.0), (5907, 0.863110309093865), (5908, 0.45233480272016197), (5909, 0.4847786269508534), (5910, 0.0), (5911, 0.5708104095238273), (5912, 0.0), (5913, 0.0), (5914, 0.3572628965246665), (5915, 0.5050154397005037), (5916, 0.863110309093865), (5917, 0.0), (5918, 0.0), (5919, 1.0), (5920, 0.687440204432026), (5921, 0.6609786922047318), (5922, 0.0), (5923, 0.6160231082433065), (5924, 0.0), (5925, 0.687440204432026), (5926, 0.21866343162925583), (5927, 0.0), (5928, 0.7808122424209898), (5929, 0.5050154397005037), (5930, 0.20604218961865275), (5931, 0.0), (5932, 0.0), (5933, 0.5050154397005037), (5934, 0.18320303459782844), (5935, 0.46640480307738325), (5936, 0.0), (5937, 0.0), (5938, 0.8845713988516402), (5939, 0.687440204432026), (5940, 0.23487691294360039), (5941, 0.0), (5942, 0.5050154397005037), (5943, 0.0), (5944, 0.23650819876873833), (5945, 0.0), (5946, 0.46640480307738325), (5947, 0.19863681334206054), (5948, 0.16966995682864697), (5949, 0.0), (5950, 0.8845713988516402), (5951, 0.21737754821761618), (5952, 0.5050154397005037), (5953, 0.16308125643616964), (5954, 0.0), (5955, 0.687440204432026), (5956, 0.37471428959503905), (5957, 0.46640480307738325), (5958, 0.21936875901445776), (5959, 0.687440204432026), (5960, 0.687440204432026), (5961, 0.5050154397005037), (5962, 0.14066141726491047), (5963, 0.1882380394149203), (5964, 0.15801071420419827), (5965, 0.687440204432026), (5966, 0.0), (5967, 0.5050154397005037), (5968, 0.1621128175904444), (5969, 0.23785168203110515), (5970, 0.20139066877048853), (5971, 0.5050154397005037), (5972, 0.8845713988516402), (5973, 0.0), (5974, 0.16861365988500507), (5975, 0.15778489461076317), (5976, 0.4315942827227188), (5977, 0.1168736489214247), (5978, 0.16896706701763797), (5979, 1.0), (5980, 0.0), (5981, 0.2632847110277334), (5982, 0.0), (5983, 0.6160231082433065), (5984, 0.46640480307738325), (5985, 0.1255791173869911), (5986, 0.14066141726491047), (5987, 0.687440204432026), (5988, 0.687440204432026), (5989, 0.1888847063516037), (5990, 0.1881151827358861), (5991, 0.1882380394149203), (5992, 0.14159022695235654), (5993, 0.0), (5994, 0.0), (5995, 0.18913149622231354), (5996, 0.5050154397005037), (5997, 0.0), (5998, 0.636823997813255), (5999, 0.46640480307738325), (6000, 0.2176587496286038), (6001, 0.3149026023407289), (6002, 0.46640480307738325), (6003, 0.15192703519111642), (6004, 0.20194315216349354), (6005, 0.3993156080867768), (6006, 0.23487691294360039), (6007, 0.1621128175904444), (6008, 0.46640480307738325), (6009, 0.46640480307738325), (6010, 0.23487691294360039), (6011, 0.0), (6012, 1.0), (6013, 0.0), (6014, 0.1355570307926159), (6015, 0.15432997064574216), (6016, 0.16664769139292154), (6017, 0.1882380394149203), (6018, 0.863110309093865), (6019, 0.863110309093865), (6020, 0.0), (6021, 0.1485268009893424), (6022, 0.0), (6023, 0.46640480307738325), (6024, 0.0), (6025, 0.687440204432026), (6026, 0.687440204432026), (6027, 0.46640480307738325), (6028, 0.863110309093865), (6029, 1.0), (6030, 0.46640480307738325), (6031, 0.23487691294360039), (6032, 0.20506063431314472), (6033, 0.13569005781478355), (6034, 0.0), (6035, 1.0), (6036, 0.0), (6037, 0.12504147829676354), (6038, 0.687440204432026), (6039, 0.0), (6040, 1.0), (6041, 0.46640480307738325), (6042, 0.5050154397005037), (6043, 0.16353750291957012), (6044, 0.46640480307738325), (6045, 0.18913149622231354), (6046, 0.15801071420419827), (6047, 0.12856876560944583), (6048, 0.0), (6049, 0.18270473677057544), (6050, 0.0), (6051, 0.687440204432026), (6052, 0.26089035422357426), (6053, 0.8845713988516402), (6054, 0.2632847110277334), (6055, 0.687440204432026), (6056, 0.2632847110277334), (6057, 0.0), (6058, 0.863110309093865), (6059, 0.0), (6060, 0.0), (6061, 0.15272328810094338), (6062, 0.0), (6063, 0.5238811096416001), (6064, 0.5238811096416001), (6065, 0.0), (6066, 0.46640480307738325), (6067, 0.20604218961865275), (6068, 0.687440204432026), (6069, 0.1881151827358861), (6070, 0.8845713988516402), (6071, 0.46640480307738325), (6072, 0.0), (6073, 0.6329608235453398), (6074, 0.13695293292212316), (6075, 0.0), (6076, 0.13464477957788365), (6077, 0.863110309093865), (6078, 1.0), (6079, 0.6329608235453398), (6080, 0.26089035422357426), (6081, 0.687440204432026), (6082, 0.488021662308456), (6083, 0.0), (6084, 1.0), (6085, 0.2114279692355524), (6086, 0.179011865298965), (6087, 0.1621128175904444), (6088, 0.20604218961865275), (6089, 0.45233480272016197), (6090, 1.0), (6091, 0.2728125996896554), (6092, 0.26954439192295787), (6093, 0.5050154397005037), (6094, 0.6906208443034574), (6095, 0.687440204432026), (6096, 0.2632847110277334), (6097, 0.0), (6098, 0.0), (6099, 0.637889255615152), (6100, 0.4788280985397679), (6101, 0.0), (6102, 0.189758947568857), (6103, 0.0), (6104, 0.1432918572988705), (6105, 0.687440204432026), (6106, 0.0), (6107, 0.0), (6108, 0.5050154397005037), (6109, 0.863110309093865), (6110, 0.46640480307738325), (6111, 0.5050154397005037), (6112, 0.17549148260719827), (6113, 0.0), (6114, 0.5050154397005037), (6115, 0.15778489461076317), (6116, 0.1524342552180089), (6117, 0.2979419414724567), (6118, 0.3408373881077627), (6119, 0.863110309093865), (6120, 0.18270473677057544), (6121, 0.46640480307738325), (6122, 0.14519678969629307), (6123, 0.687440204432026), (6124, 0.15146275647389798), (6125, 0.46640480307738325), (6126, 0.2176587496286038), (6127, 0.18062231275585203), (6128, 0.18270473677057544), (6129, 0.0), (6130, 1.0), (6131, 0.21737754821761618), (6132, 1.0), (6133, 0.20726145575042415), (6134, 0.15432997064574216), (6135, 0.18913149622231354), (6136, 0.0), (6137, 0.46640480307738325), (6138, 0.23487691294360039), (6139, 0.46640480307738325), (6140, 0.5489551504515829), (6141, 0.8845713988516402), (6142, 0.0), (6143, 0.0), (6144, 0.8845713988516402), (6145, 0.10339246545133353), (6146, 0.0), (6147, 0.8845713988516402), (6148, 0.0), (6149, 0.15432997064574216), (6150, 0.863110309093865), (6151, 0.0), (6152, 0.8845713988516402), (6153, 0.687440204432026), (6154, 0.44798040769664355), (6155, 0.18913149622231354), (6156, 0.23487691294360039), (6157, 0.18062231275585203), (6158, 0.18940293034657674), (6159, 0.18940293034657674), (6160, 0.16004123024382574), (6161, 0.23487691294360039), (6162, 0.18320303459782844), (6163, 0.15778489461076317), (6164, 0.0), (6165, 0.6772133860215244), (6166, 0.0), (6167, 0.46640480307738325), (6168, 0.0), (6169, 0.46640480307738325), (6170, 0.16038736164582842), (6171, 0.687440204432026), (6172, 0.46640480307738325), (6173, 0.46640480307738325), (6174, 0.0), (6175, 0.1432918572988705), (6176, 0.10852958741672727), (6177, 0.25733057159885575), (6178, 0.19511304391368006), (6179, 0.0), (6180, 0.19511304391368006), (6181, 0.5050154397005037), (6182, 0.0), (6183, 0.5050154397005037), (6184, 1.0), (6185, 0.3572628965246665), (6186, 0.863110309093865), (6187, 0.46640480307738325), (6188, 0.23487691294360039), (6189, 0.0), (6190, 0.25733057159885575), (6191, 0.2632847110277334), (6192, 0.3572628965246665), (6193, 0.18913149622231354), (6194, 0.13513530228521914), (6195, 0.0), (6196, 0.687440204432026), (6197, 0.687440204432026), (6198, 0.1881151827358861), (6199, 0.0), (6200, 0.19106589617835537), (6201, 0.23487691294360039), (6202, 0.5050154397005037), (6203, 0.14066141726491047), (6204, 0.863110309093865), (6205, 0.15432997064574216), (6206, 0.687440204432026), (6207, 0.0), (6208, 0.16861365988500507), (6209, 0.0), (6210, 1.0), (6211, 0.46640480307738325), (6212, 0.17549148260719827), (6213, 0.46640480307738325), (6214, 0.687440204432026), (6215, 0.46640480307738325), (6216, 0.0), (6217, 0.5050154397005037), (6218, 0.5934328222694809), (6219, 0.6388983934184699), (6220, 0.687440204432026), (6221, 0.0), (6222, 0.5050154397005037), (6223, 0.5050154397005037), (6224, 0.15266990024648835), (6225, 0.6160231082433065), (6226, 0.863110309093865), (6227, 0.0), (6228, 0.0), (6229, 0.8845713988516402), (6230, 0.5603368022398092), (6231, 0.5670691817113327), (6232, 0.46640480307738325), (6233, 0.26089035422357426), (6234, 0.1621128175904444), (6235, 0.17549148260719827), (6236, 0.0), (6237, 0.0), (6238, 0.0), (6239, 0.18270473677057544), (6240, 0.2632847110277334), (6241, 0.5050154397005037), (6242, 0.45233480272016197), (6243, 0.16861365988500507), (6244, 0.2632847110277334), (6245, 0.5050154397005037), (6246, 0.0), (6247, 0.1415894529847499), (6248, 0.46640480307738325), (6249, 0.5050154397005037), (6250, 0.0), (6251, 0.18381522018664181), (6252, 0.17736244202113455), (6253, 0.2979419414724567), (6254, 0.14010901193991845), (6255, 0.46640480307738325), (6256, 0.7390361780003906), (6257, 0.1621128175904444), (6258, 0.46640480307738325), (6259, 0.8845713988516402), (6260, 0.1106602252121853), (6261, 0.0), (6262, 0.863110309093865), (6263, 0.1621128175904444), (6264, 0.0), (6265, 0.863110309093865), (6266, 0.3408373881077627), (6267, 0.3958194608442288), (6268, 0.46640480307738325), (6269, 0.16861365988500507), (6270, 0.17681724995926185), (6271, 0.687440204432026), (6272, 0.40222487175206034), (6273, 0.5050154397005037), (6274, 0.1807071179500178), (6275, 0.12485192304710026), (6276, 0.4658129473755852), (6277, 0.46640480307738325), (6278, 0.5050154397005037), (6279, 0.46640480307738325), (6280, 0.14888037092645268), (6281, 0.0), (6282, 0.7390361780003906), (6283, 0.5050154397005037), (6284, 0.24473885545931087), (6285, 0.863110309093865), (6286, 0.0), (6287, 0.18270473677057544), (6288, 0.2119896822491645), (6289, 0.1432918572988705), (6290, 0.0), (6291, 0.687440204432026), (6292, 0.46640480307738325), (6293, 0.17746198314898956), (6294, 0.18798803123479452), (6295, 0.863110309093865), (6296, 0.6741902949672678), (6297, 0.5934328222694809), (6298, 0.5050154397005037), (6299, 0.7390361780003906), (6300, 0.1432918572988705), (6301, 0.0), (6302, 0.46640480307738325), (6303, 0.46640480307738325), (6304, 0.0), (6305, 0.19067434234290018), (6306, 0.13719060319258147), (6307, 0.21737754821761618), (6308, 0.46640480307738325), (6309, 1.0), (6310, 0.5050154397005037), (6311, 0.17681724995926185), (6312, 0.189758947568857), (6313, 0.12048449666319166), (6314, 0.26954439192295787), (6315, 0.18913149622231354), (6316, 0.0), (6317, 0.5050154397005037), (6318, 0.687440204432026), (6319, 0.3005345463318173), (6320, 0.20194315216349354), (6321, 0.46640480307738325), (6322, 0.863110309093865), (6323, 0.18270473677057544), (6324, 0.18381522018664181), (6325, 0.863110309093865), (6326, 0.0), (6327, 0.2632847110277334), (6328, 0.0), (6329, 1.0), (6330, 0.13742586293197015), (6331, 0.14068788535327179), (6332, 0.18270473677057544), (6333, 0.0), (6334, 0.0), (6335, 0.2632847110277334), (6336, 0.1432918572988705), (6337, 0.2324084132899214), (6338, 0.18913149622231354), (6339, 0.24473885545931087), (6340, 0.2574485170326601), (6341, 1.0), (6342, 0.0), (6343, 0.5050154397005037), (6344, 0.21737754821761618), (6345, 0.13651689942034664), (6346, 0.0), (6347, 0.12048449666319166), (6348, 0.5050154397005037), (6349, 0.0), (6350, 0.46640480307738325), (6351, 1.0), (6352, 0.8845713988516402), (6353, 0.1882380394149203), (6354, 0.46640480307738325), (6355, 0.0), (6356, 0.17389242830560198), (6357, 0.46640480307738325), (6358, 0.11433969174419638), (6359, 0.31779374025247975), (6360, 0.0), (6361, 0.26089035422357426), (6362, 0.5934328222694809), (6363, 0.15801071420419827), (6364, 0.5050154397005037), (6365, 0.863110309093865), (6366, 0.46640480307738325), (6367, 0.2632847110277334), (6368, 0.17793227800448835), (6369, 0.46640480307738325), (6370, 0.0), (6371, 0.16861365988500507), (6372, 0.687440204432026), (6373, 0.46640480307738325), (6374, 0.0), (6375, 0.26089035422357426), (6376, 0.16861365988500507), (6377, 0.18270473677057544), (6378, 0.0), (6379, 0.17793227800448835), (6380, 0.46640480307738325), (6381, 0.8845713988516402), (6382, 0.863110309093865), (6383, 0.5050154397005037), (6384, 0.5050154397005037), (6385, 0.0), (6386, 0.23487691294360039), (6387, 0.0), (6388, 0.46640480307738325), (6389, 0.0), (6390, 0.5050154397005037), (6391, 0.0), (6392, 0.0), (6393, 1.0), (6394, 0.0), (6395, 1.0), (6396, 0.1621128175904444), (6397, 0.4908791923378437), (6398, 0.2728125996896554), (6399, 0.18320303459782844), (6400, 1.0), (6401, 0.18320303459782844), (6402, 0.8845713988516402), (6403, 0.687440204432026), (6404, 0.0), (6405, 0.1510301423372874), (6406, 0.726240982959826), (6407, 0.46640480307738325), (6408, 0.5050154397005037), (6409, 0.8845713988516402), (6410, 0.2324084132899214), (6411, 0.16846533643358064), (6412, 0.16861365988500507), (6413, 0.0), (6414, 0.2632847110277334), (6415, 0.8845713988516402), (6416, 0.8845713988516402), (6417, 0.16861365988500507), (6418, 0.5050154397005037), (6419, 0.46640480307738325), (6420, 0.46640480307738325), (6421, 0.46640480307738325), (6422, 0.16620167277539225), (6423, 0.637889255615152), (6424, 0.18913149622231354), (6425, 0.0), (6426, 0.863110309093865), (6427, 0.25733057159885575), (6428, 0.18913149622231354), (6429, 0.32284557776898365), (6430, 0.0), (6431, 0.0), (6432, 0.2728125996896554), (6433, 0.0), (6434, 0.0), (6435, 0.863110309093865), (6436, 0.0), (6437, 0.8845713988516402), (6438, 0.30560114445885644), (6439, 0.863110309093865), (6440, 0.863110309093865), (6441, 1.0), (6442, 0.13770833833776408), (6443, 0.0), (6444, 0.46640480307738325), (6445, 0.46640480307738325), (6446, 0.20194315216349354), (6447, 0.0), (6448, 0.12689368001348947), (6449, 0.15853806235337925), (6450, 0.18913149622231354), (6451, 0.8845713988516402), (6452, 0.5050154397005037), (6453, 0.0), (6454, 0.0), (6455, 0.12856876560944583), (6456, 0.0), (6457, 0.13719060319258147), (6458, 0.15275716747147253), (6459, 0.23487691294360039), (6460, 0.14013454004889536), (6461, 0.2632847110277334), (6462, 0.11592865803114454), (6463, 0.17793227800448835), (6464, 0.1432918572988705), (6465, 0.0), (6466, 1.0), (6467, 0.5050154397005037), (6468, 0.12284755359567825), (6469, 0.5050154397005037), (6470, 0.0), (6471, 0.687440204432026), (6472, 0.23650819876873833), (6473, 0.0), (6474, 0.0), (6475, 0.0), (6476, 0.8845713988516402), (6477, 0.0), (6478, 0.0), (6479, 0.46640480307738325), (6480, 0.46640480307738325), (6481, 1.0), (6482, 0.3572628965246665), (6483, 0.0), (6484, 0.5675992540705019), (6485, 0.0), (6486, 0.13513530228521914), (6487, 0.5238811096416001), (6488, 0.17263309261006643), (6489, 0.18320303459782844), (6490, 0.18913149622231354), (6491, 0.0), (6492, 0.4753139071061484), (6493, 0.0), (6494, 0.7610912491590632), (6495, 0.0), (6496, 1.0), (6497, 0.0), (6498, 0.0), (6499, 0.8845713988516402), (6500, 0.0), (6501, 0.23487691294360039), (6502, 0.18940293034657674), (6503, 0.0), (6504, 0.17549148260719827), (6505, 0.0), (6506, 0.0), (6507, 0.2119896822491645), (6508, 0.0), (6509, 0.13719060319258147), (6510, 0.687440204432026), (6511, 0.5050154397005037), (6512, 0.5050154397005037), (6513, 0.0), (6514, 0.18798803123479452), (6515, 0.2632847110277334), (6516, 0.18320303459782844), (6517, 0.5050154397005037), (6518, 0.0), (6519, 0.8845713988516402), (6520, 0.24473885545931087), (6521, 0.0), (6522, 0.1176768575362464), (6523, 0.8845713988516402), (6524, 0.2632847110277334), (6525, 0.47522734372800146), (6526, 0.0), (6527, 0.4410435449883992), (6528, 0.5050154397005037), (6529, 0.5237084594922088), (6530, 0.2324084132899214), (6531, 0.18913149622231354), (6532, 1.0), (6533, 0.687440204432026), (6534, 0.0), (6535, 0.0), (6536, 0.1432918572988705), (6537, 0.5050154397005037), (6538, 0.5050154397005037), (6539, 0.1881151827358861), (6540, 0.0), (6541, 0.5050154397005037), (6542, 0.5050154397005037), (6543, 0.20194315216349354), (6544, 0.687440204432026), (6545, 0.23650819876873833), (6546, 0.13454819171871174), (6547, 1.0), (6548, 0.0), (6549, 0.2632847110277334), (6550, 1.0), (6551, 0.0), (6552, 0.2979419414724567), (6553, 0.2119896822491645), (6554, 0.5050154397005037), (6555, 0.19863681334206054), (6556, 0.0), (6557, 0.12460333416593722), (6558, 0.2176587496286038), (6559, 0.5050154397005037), (6560, 0.23487691294360039), (6561, 0.5341587733715428), (6562, 0.22390766139708893), (6563, 0.2632847110277334), (6564, 0.46640480307738325), (6565, 0.0), (6566, 0.18913149622231354), (6567, 0.19863681334206054), (6568, 0.46640480307738325), (6569, 1.0), (6570, 0.33132965310454715), (6571, 0.18913149622231354), (6572, 0.0), (6573, 0.0), (6574, 0.8845713988516402), (6575, 0.46640480307738325), (6576, 0.687440204432026), (6577, 0.0), (6578, 0.5050154397005037), (6579, 0.8845713988516402), (6580, 0.189758947568857), (6581, 0.5050154397005037), (6582, 0.4798563390413524), (6583, 0.1485268009893424), (6584, 1.0), (6585, 1.0), (6586, 0.45233480272016197), (6587, 0.23487691294360039), (6588, 0.46640480307738325), (6589, 0.2632847110277334), (6590, 0.16861365988500507), (6591, 0.687440204432026), (6592, 0.0), (6593, 0.16038736164582842), (6594, 0.5050154397005037), (6595, 0.44798040769664355), (6596, 0.13569005781478355), (6597, 0.18913149622231354), (6598, 0.20139066877048853), (6599, 0.46640480307738325), (6600, 1.0), (6601, 0.0), (6602, 0.25733057159885575), (6603, 0.46640480307738325), (6604, 0.0), (6605, 0.0), (6606, 0.0), (6607, 0.1621128175904444), (6608, 0.5050154397005037), (6609, 0.18913149622231354), (6610, 0.2324084132899214), (6611, 0.18913149622231354), (6612, 0.46640480307738325), (6613, 0.23487691294360039), (6614, 0.5050154397005037), (6615, 1.0), (6616, 0.46640480307738325), (6617, 0.17793227800448835), (6618, 0.22390766139708893), (6619, 0.15853806235337925), (6620, 0.0), (6621, 0.366343545113433), (6622, 0.21737754821761618), (6623, 0.22390766139708893), (6624, 0.6741902949672678), (6625, 0.0), (6626, 0.33777100078077366), (6627, 0.0), (6628, 0.2632847110277334), (6629, 0.0), (6630, 0.0), (6631, 0.23650819876873833), (6632, 0.18355437032847274), (6633, 0.46640480307738325), (6634, 0.46640480307738325), (6635, 0.687440204432026), (6636, 0.0), (6637, 0.14066141726491047), (6638, 1.0), (6639, 0.0), (6640, 0.863110309093865), (6641, 0.0), (6642, 0.687440204432026), (6643, 0.46640480307738325), (6644, 0.0), (6645, 0.5934328222694809), (6646, 0.13270595659386877), (6647, 0.0), (6648, 0.15658814440976404), (6649, 0.36540044689441414), (6650, 0.0), (6651, 0.20604218961865275), (6652, 1.0), (6653, 0.5050154397005037), (6654, 1.0), (6655, 0.0), (6656, 0.1583704629730746), (6657, 1.0), (6658, 0.8845713988516402), (6659, 0.18913149622231354), (6660, 0.46640480307738325), (6661, 0.687440204432026), (6662, 0.18320303459782844), (6663, 0.0), (6664, 0.0), (6665, 0.25733057159885575), (6666, 0.13719060319258147), (6667, 0.13722678744738728), (6668, 0.6113555127114588), (6669, 0.26954439192295787), (6670, 0.0), (6671, 0.1415894529847499), (6672, 0.5050154397005037), (6673, 0.5050154397005037), (6674, 0.0), (6675, 0.0), (6676, 0.3762059441419113), (6677, 0.0), (6678, 0.1882380394149203), (6679, 0.25733057159885575), (6680, 0.5708104095238273), (6681, 0.13742586293197015), (6682, 1.0), (6683, 0.5476580086145145), (6684, 0.20194315216349354), (6685, 0.1046001590128664), (6686, 0.5238811096416001), (6687, 0.863110309093865), (6688, 0.5050154397005037), (6689, 0.8845713988516402), (6690, 0.0), (6691, 0.2632847110277334), (6692, 0.5050154397005037), (6693, 0.41548121811030125), (6694, 0.0), (6695, 0.1583704629730746), (6696, 0.15432997064574216), (6697, 0.2632847110277334), (6698, 0.1516424911729116), (6699, 0.18270473677057544), (6700, 0.0), (6701, 0.5050154397005037), (6702, 0.0), (6703, 0.6160231082433065), (6704, 0.46640480307738325), (6705, 0.0), (6706, 0.0), (6707, 0.0), (6708, 0.46640480307738325), (6709, 0.46640480307738325), (6710, 0.12384447262738406), (6711, 0.0), (6712, 0.5050154397005037), (6713, 0.6141606046464241), (6714, 0.5476580086145145), (6715, 1.0), (6716, 0.0), (6717, 1.0), (6718, 0.15801071420419827), (6719, 0.5050154397005037), (6720, 0.18270473677057544), (6721, 0.0), (6722, 0.0), (6723, 0.1953274461062404), (6724, 0.0), (6725, 0.8845713988516402), (6726, 0.2111389077263953), (6727, 0.18913149622231354), (6728, 0.863110309093865), (6729, 0.2728125996896554), (6730, 0.5050154397005037), (6731, 0.0), (6732, 0.17263309261006643), (6733, 0.687440204432026), (6734, 0.21737754821761618), (6735, 0.0), (6736, 0.0), (6737, 0.40222487175206034), (6738, 0.21737754821761618), (6739, 0.8845713988516402), (6740, 0.5050154397005037), (6741, 0.0), (6742, 0.0), (6743, 0.0), (6744, 0.8845713988516402), (6745, 0.26089035422357426), (6746, 0.1621128175904444), (6747, 0.16846533643358064), (6748, 0.8845713988516402), (6749, 0.5050154397005037), (6750, 0.863110309093865), (6751, 0.0), (6752, 0.863110309093865), (6753, 0.15192703519111642), (6754, 0.17692366660102257), (6755, 0.5050154397005037), (6756, 0.8845713988516402), (6757, 0.0), (6758, 0.0), (6759, 0.0), (6760, 0.12242904107228249), (6761, 0.46640480307738325), (6762, 0.3483812471772525), (6763, 0.5050154397005037), (6764, 0.0), (6765, 0.39721875011120844), (6766, 1.0), (6767, 0.23487691294360039), (6768, 0.18320303459782844), (6769, 0.1832615245105313), (6770, 0.0), (6771, 0.18270473677057544), (6772, 0.2731016708919325), (6773, 0.0), (6774, 0.1517985996983558), (6775, 0.2979419414724567), (6776, 0.5050154397005037), (6777, 0.23650819876873833), (6778, 0.4566762498565333), (6779, 0.307478174276252), (6780, 0.0), (6781, 1.0), (6782, 0.0), (6783, 0.0), (6784, 0.25733057159885575), (6785, 0.12415026999498031), (6786, 0.0), (6787, 0.5452240563272389), (6788, 0.5050154397005037), (6789, 0.0), (6790, 0.17549148260719827), (6791, 0.0), (6792, 0.44910495877195966), (6793, 0.15362699955964879), (6794, 0.0), (6795, 0.18913149622231354), (6796, 0.0), (6797, 0.10122419203070192), (6798, 0.2632847110277334), (6799, 0.8845713988516402), (6800, 0.23487691294360039), (6801, 0.5050154397005037), (6802, 0.14068788535327179), (6803, 0.0), (6804, 0.0), (6805, 0.0), (6806, 0.0), (6807, 0.46640480307738325), (6808, 0.2632847110277334), (6809, 0.5341587733715428), (6810, 0.4315942827227188), (6811, 0.0), (6812, 0.0), (6813, 0.46640480307738325), (6814, 1.0), (6815, 0.0), (6816, 0.19863681334206054), (6817, 0.2176587496286038), (6818, 0.13719060319258147), (6819, 0.7859372377808418), (6820, 0.20194315216349354), (6821, 0.6626838105759573), (6822, 0.15965854611736113), (6823, 0.0), (6824, 0.19863681334206054), (6825, 0.0), (6826, 0.11647133076223011), (6827, 0.4908791923378437), (6828, 0.5050154397005037), (6829, 0.0), (6830, 0.5050154397005037), (6831, 0.5050154397005037), (6832, 0.0), (6833, 0.0), (6834, 0.0), (6835, 0.46640480307738325), (6836, 0.44798040769664355), (6837, 0.5050154397005037), (6838, 0.0), (6839, 0.18913149622231354), (6840, 0.5050154397005037), (6841, 0.1790569223555842), (6842, 0.46640480307738325), (6843, 0.0), (6844, 0.46640480307738325), (6845, 0.0), (6846, 0.0), (6847, 0.2632847110277334), (6848, 0.6160231082433065), (6849, 0.0), (6850, 0.0), (6851, 0.16431355206186693), (6852, 0.0), (6853, 0.5050154397005037), (6854, 1.0), (6855, 0.46640480307738325), (6856, 0.23487691294360039), (6857, 0.863110309093865), (6858, 0.0), (6859, 0.15347461971180493), (6860, 0.863110309093865), (6861, 0.20194315216349354), (6862, 0.0), (6863, 0.0), (6864, 0.1621128175904444), (6865, 1.0), (6866, 0.46640480307738325), (6867, 0.8845713988516402), (6868, 0.687440204432026), (6869, 0.46640480307738325), (6870, 0.24473885545931087), (6871, 0.46640480307738325), (6872, 0.0), (6873, 0.8845713988516402), (6874, 0.23487691294360039), (6875, 0.46640480307738325), (6876, 0.0), (6877, 0.0), (6878, 0.0), (6879, 0.12984374689321784), (6880, 0.0), (6881, 0.11453374150237162), (6882, 0.5031832987899141), (6883, 0.16038736164582842), (6884, 0.19067434234290018), (6885, 0.6329608235453398), (6886, 0.0), (6887, 0.5050154397005037), (6888, 0.46640480307738325), (6889, 0.20194315216349354), (6890, 0.28019372191935193), (6891, 0.0), (6892, 0.21244774373372832), (6893, 0.5452240563272389), (6894, 0.0), (6895, 0.0), (6896, 0.5050154397005037), (6897, 0.19863681334206054), (6898, 0.19106589617835537), (6899, 0.23487691294360039), (6900, 0.46640480307738325), (6901, 0.0), (6902, 0.11235062412304418), (6903, 0.14237892718411294), (6904, 0.46640480307738325), (6905, 0.5214485091026304), (6906, 0.0), (6907, 0.0), (6908, 0.5050154397005037), (6909, 0.18270473677057544), (6910, 0.863110309093865), (6911, 0.2324084132899214), (6912, 0.0), (6913, 0.46640480307738325), (6914, 0.1621128175904444), (6915, 0.15654978876907463), (6916, 0.0), (6917, 0.2324084132899214), (6918, 0.12239487156719343), (6919, 0.18270473677057544), (6920, 0.18270473677057544), (6921, 0.19863681334206054), (6922, 0.23487691294360039), (6923, 0.46640480307738325), (6924, 0.863110309093865), (6925, 0.0), (6926, 0.46640480307738325), (6927, 0.46640480307738325), (6928, 0.4658129473755852), (6929, 0.5050154397005037), (6930, 0.15853806235337925), (6931, 0.5723410275915701), (6932, 0.0), (6933, 0.46640480307738325), (6934, 0.19106589617835537), (6935, 0.687440204432026), (6936, 0.863110309093865), (6937, 0.5050154397005037), (6938, 0.5050154397005037), (6939, 0.0), (6940, 0.863110309093865), (6941, 0.15853806235337925), (6942, 0.0), (6943, 0.687440204432026), (6944, 0.0), (6945, 0.0), (6946, 0.16846533643358064), (6947, 0.15801071420419827), (6948, 0.13513530228521914), (6949, 0.8845713988516402), (6950, 0.17263309261006643), (6951, 0.1621128175904444), (6952, 0.0), (6953, 0.26089035422357426), (6954, 0.0), (6955, 0.0), (6956, 0.0), (6957, 0.0), (6958, 0.5050154397005037), (6959, 0.8845713988516402), (6960, 0.2176587496286038), (6961, 0.17793227800448835), (6962, 0.14066141726491047), (6963, 0.0), (6964, 0.0), (6965, 0.0), (6966, 0.0), (6967, 0.2632847110277334), (6968, 1.0), (6969, 0.24473885545931087), (6970, 0.16434424583672172), (6971, 0.18320303459782844), (6972, 0.0), (6973, 0.0), (6974, 0.46640480307738325), (6975, 0.25733057159885575), (6976, 0.687440204432026), (6977, 0.687440204432026), (6978, 0.18270473677057544), (6979, 1.0), (6980, 0.46640480307738325), (6981, 0.0), (6982, 0.14570110785492602), (6983, 0.1872195539731687), (6984, 0.0), (6985, 0.30032456189927403), (6986, 0.17651496977284759), (6987, 0.5050154397005037), (6988, 0.20155191000487405), (6989, 0.0), (6990, 0.4127595106134456), (6991, 0.12843987269695306), (6992, 0.1432918572988705), (6993, 0.687440204432026), (6994, 0.1584815523688967), (6995, 0.0), (6996, 0.0), (6997, 0.1621128175904444), (6998, 0.5050154397005037), (6999, 1.0), (7000, 0.0), (7001, 0.2979419414724567), (7002, 0.687440204432026), (7003, 0.8845713988516402), (7004, 0.14534850460988516), (7005, 0.5050154397005037), (7006, 0.1621128175904444), (7007, 0.5050154397005037), (7008, 0.687440204432026), (7009, 0.687440204432026), (7010, 0.15801071420419827), (7011, 0.18913149622231354), (7012, 0.46640480307738325), (7013, 0.2176587496286038), (7014, 0.14068788535327179), (7015, 0.863110309093865), (7016, 0.0), (7017, 0.18913149622231354), (7018, 0.0), (7019, 0.5050154397005037), (7020, 0.2176587496286038), (7021, 0.15801071420419827), (7022, 0.0), (7023, 0.0), (7024, 0.46640480307738325), (7025, 0.1432918572988705), (7026, 0.20194315216349354), (7027, 0.5050154397005037), (7028, 0.46640480307738325), (7029, 0.45233480272016197), (7030, 0.0), (7031, 0.1618667814837697), (7032, 0.2923660872789717), (7033, 0.5476187742530692), (7034, 0.18270473677057544), (7035, 0.8845713988516402), (7036, 0.17793227800448835), (7037, 0.0), (7038, 0.25733057159885575), (7039, 0.1325470151624232), (7040, 0.14459356755872735), (7041, 0.5050154397005037), (7042, 0.19863681334206054), (7043, 0.26954439192295787), (7044, 0.1621128175904444), (7045, 0.21244774373372832), (7046, 0.15192703519111642), (7047, 0.25733057159885575), (7048, 1.0), (7049, 0.23650819876873833), (7050, 0.21244774373372832), (7051, 0.1768853730843214), (7052, 0.17692366660102257), (7053, 0.41391948422992275), (7054, 0.18913149622231354), (7055, 0.23487691294360039), (7056, 0.8845713988516402), (7057, 0.2728125996896554), (7058, 0.0), (7059, 0.0), (7060, 0.1415894529847499), (7061, 0.863110309093865), (7062, 0.12485192304710026), (7063, 0.0), (7064, 0.0), (7065, 0.0), (7066, 0.8845713988516402), (7067, 0.6160231082433065), (7068, 0.18913149622231354), (7069, 0.4048143105985691), (7070, 0.20194315216349354), (7071, 0.2324084132899214), (7072, 0.46640480307738325), (7073, 0.4314324113477006), (7074, 0.0), (7075, 1.0), (7076, 0.5050154397005037), (7077, 0.0), (7078, 0.2430542526528127), (7079, 0.18270473677057544), (7080, 0.18270473677057544), (7081, 0.2632847110277334), (7082, 0.21244774373372832), (7083, 0.0), (7084, 0.5050154397005037), (7085, 0.23487691294360039), (7086, 0.14066141726491047), (7087, 1.0), (7088, 0.0), (7089, 0.0), (7090, 0.0), (7091, 1.0), (7092, 0.18913149622231354), (7093, 0.0), (7094, 0.6626838105759573), (7095, 0.0), (7096, 0.0), (7097, 0.15801071420419827), (7098, 0.0), (7099, 0.49097511319123577), (7100, 0.0), (7101, 0.5050154397005037), (7102, 0.5050154397005037), (7103, 0.6141606046464241), (7104, 0.863110309093865), (7105, 0.5050154397005037), (7106, 0.8845713988516402), (7107, 0.6865598589243775), (7108, 0.0), (7109, 0.0), (7110, 0.19863681334206054), (7111, 0.39721875011120844), (7112, 0.0), (7113, 0.5050154397005037), (7114, 0.0), (7115, 0.5050154397005037), (7116, 0.46640480307738325), (7117, 0.0), (7118, 0.44266838840418343), (7119, 0.0), (7120, 0.2574485170326601), (7121, 0.19863681334206054), (7122, 0.0), (7123, 0.0), (7124, 0.0), (7125, 0.46640480307738325), (7126, 0.4847786269508534), (7127, 0.0), (7128, 0.17298371819648856), (7129, 0.3762059441419113), (7130, 0.5050154397005037), (7131, 0.0), (7132, 0.0), (7133, 0.0), (7134, 0.687440204432026), (7135, 0.0), (7136, 0.2574485170326601), (7137, 0.22380100877926673), (7138, 0.863110309093865), (7139, 0.0), (7140, 0.0), (7141, 0.687440204432026), (7142, 0.46640480307738325), (7143, 0.18798803123479452), (7144, 0.0), (7145, 0.687440204432026), (7146, 0.687440204432026), (7147, 0.0), (7148, 0.0), (7149, 0.15043265262822378), (7150, 0.2119896822491645), (7151, 0.687440204432026), (7152, 0.5050154397005037), (7153, 0.0), (7154, 0.21107383298208196), (7155, 0.3918635210279682), (7156, 0.863110309093865), (7157, 0.46640480307738325), (7158, 0.0), (7159, 0.8845713988516402), (7160, 0.25733057159885575), (7161, 0.1046001590128664), (7162, 0.13719060319258147), (7163, 0.863110309093865), (7164, 0.2632847110277334), (7165, 0.46640480307738325), (7166, 0.3963271822720151), (7167, 0.863110309093865), (7168, 0.0), (7169, 0.6609786922047318), (7170, 0.37897989770975576), (7171, 0.863110309093865), (7172, 0.1190293709197683), (7173, 0.0), (7174, 0.8226320064757275), (7175, 0.13882768385890049), (7176, 0.1621128175904444), (7177, 0.2979419414724567), (7178, 0.36540044689441414), (7179, 0.5050154397005037), (7180, 0.13890442992123747), (7181, 0.10082126231771167), (7182, 0.15228526029037429), (7183, 0.46640480307738325), (7184, 0.1486674157583613), (7185, 0.1583704629730746), (7186, 0.46640480307738325), (7187, 0.23487691294360039), (7188, 0.44774518672024155), (7189, 0.0), (7190, 0.5341587733715428), (7191, 0.1621128175904444), (7192, 0.26089035422357426), (7193, 0.0), (7194, 0.15335006968806816), (7195, 0.0), (7196, 0.15853806235337925), (7197, 0.46640480307738325), (7198, 0.46640480307738325), (7199, 0.17877624871608866), (7200, 0.46640480307738325), (7201, 0.5050154397005037), (7202, 0.1371638432540087), (7203, 0.0), (7204, 0.46640480307738325), (7205, 0.12815946492240005), (7206, 0.46640480307738325), (7207, 0.24883869485572782), (7208, 0.0), (7209, 0.7808122424209898), (7210, 0.45253984573272954), (7211, 0.0), (7212, 0.0), (7213, 0.8845713988516402), (7214, 0.0), (7215, 0.863110309093865), (7216, 0.13853561856744584), (7217, 0.5050154397005037), (7218, 0.25733057159885575), (7219, 0.0), (7220, 1.0), (7221, 0.15833271077101568), (7222, 0.46640480307738325), (7223, 0.8845713988516402), (7224, 0.189758947568857), (7225, 0.0), (7226, 0.23487691294360039), (7227, 0.23487691294360039), (7228, 0.26954439192295787), (7229, 0.0), (7230, 0.0), (7231, 0.5050154397005037), (7232, 0.8845713988516402), (7233, 0.2176587496286038), (7234, 0.4847786269508534), (7235, 0.687440204432026), (7236, 0.1621128175904444), (7237, 0.15778489461076317), (7238, 0.18913149622231354), (7239, 0.687440204432026), (7240, 0.0), (7241, 0.5050154397005037), (7242, 0.1882380394149203), (7243, 1.0), (7244, 0.0), (7245, 0.25733057159885575), (7246, 0.0), (7247, 0.0), (7248, 0.8845713988516402), (7249, 0.18798803123479452), (7250, 0.14066141726491047), (7251, 1.0), (7252, 0.5794629392918036), (7253, 0.46640480307738325), (7254, 0.36540044689441414), (7255, 0.0), (7256, 0.8845713988516402), (7257, 0.0), (7258, 0.16861365988500507), (7259, 0.863110309093865), (7260, 0.13041207350833756), (7261, 0.0), (7262, 0.2176587496286038), (7263, 0.16861365988500507), (7264, 0.0), (7265, 0.1991189281369784), (7266, 0.637889255615152), (7267, 0.5050154397005037), (7268, 0.0), (7269, 0.0), (7270, 0.5050154397005037), (7271, 0.13454819171871174), (7272, 0.5341587733715428), (7273, 0.18798803123479452), (7274, 0.24473885545931087), (7275, 0.32652783233507954), (7276, 0.0), (7277, 1.0), (7278, 0.0), (7279, 0.0), (7280, 0.1415894529847499), (7281, 0.0), (7282, 0.16827626689866138), (7283, 0.687440204432026), (7284, 0.5050154397005037), (7285, 0.18913149622231354), (7286, 0.863110309093865), (7287, 0.0), (7288, 0.18320303459782844), (7289, 0.0), (7290, 0.46640480307738325), (7291, 0.5050154397005037), (7292, 0.6970281737714932), (7293, 0.3762059441419113), (7294, 0.5050154397005037), (7295, 0.0), (7296, 0.0), (7297, 0.0), (7298, 0.18798803123479452), (7299, 0.5050154397005037), (7300, 0.2574485170326601), (7301, 0.1432918572988705), (7302, 0.0), (7303, 0.0), (7304, 0.26954439192295787), (7305, 0.1485268009893424), (7306, 0.2979419414724567), (7307, 0.6970281737714932), (7308, 0.4816216411105172), (7309, 0.0), (7310, 0.21936875901445776), (7311, 0.0), (7312, 0.17793227800448835), (7313, 0.0), (7314, 0.5050154397005037), (7315, 0.15801071420419827), (7316, 0.23650819876873833), (7317, 0.21737754821761618), (7318, 0.46640480307738325), (7319, 0.13091464781548304), (7320, 0.863110309093865), (7321, 1.0), (7322, 0.0), (7323, 0.21737754821761618), (7324, 0.0), (7325, 0.2979419414724567), (7326, 0.5050154397005037), (7327, 0.1627898736432852), (7328, 0.0), (7329, 0.0), (7330, 0.687440204432026), (7331, 0.2728125996896554), (7332, 0.23487691294360039), (7333, 0.4271478810965542), (7334, 0.863110309093865), (7335, 0.26089035422357426), (7336, 0.12798713570520562), (7337, 1.0), (7338, 0.863110309093865), (7339, 0.2979419414724567), (7340, 0.0), (7341, 0.18270473677057544), (7342, 0.2572106618637423), (7343, 0.687440204432026), (7344, 0.36540044689441414), (7345, 0.5050154397005037), (7346, 1.0), (7347, 0.5050154397005037), (7348, 0.2632847110277334), (7349, 0.8845713988516402), (7350, 0.0), (7351, 0.863110309093865), (7352, 0.0), (7353, 0.12834496679347182), (7354, 0.23302605192993817), (7355, 0.1106602252121853), (7356, 0.5050154397005037), (7357, 0.2632847110277334), (7358, 0.1818287010558562), (7359, 0.25733057159885575), (7360, 0.1106602252121853), (7361, 0.7390361780003906), (7362, 0.0), (7363, 0.27901473720656267), (7364, 0.46640480307738325), (7365, 0.0), (7366, 0.46640480307738325), (7367, 0.0), (7368, 0.17877624871608866), (7369, 0.0), (7370, 0.0), (7371, 0.15373101825694907), (7372, 0.09486215229527475), (7373, 0.5050154397005037), (7374, 0.14507818363290273), (7375, 0.6970281737714932), (7376, 0.17181116603968116), (7377, 0.687440204432026), (7378, 0.0), (7379, 0.2632847110277334), (7380, 0.0), (7381, 0.0), (7382, 0.18615318816334525), (7383, 0.6560070104292905), (7384, 0.49097511319123577), (7385, 0.5050154397005037), (7386, 0.18913149622231354), (7387, 0.0), (7388, 0.0), (7389, 0.23650819876873833), (7390, 0.8845713988516402), (7391, 0.2979419414724567), (7392, 0.0), (7393, 0.687440204432026), (7394, 0.0), (7395, 0.42634936734608997), (7396, 0.46640480307738325), (7397, 0.0), (7398, 0.0), (7399, 0.0), (7400, 0.3918635210279682), (7401, 0.687440204432026), (7402, 0.0), (7403, 0.0), (7404, 0.1882380394149203), (7405, 0.2632847110277334), (7406, 0.21737754821761618), (7407, 0.0), (7408, 0.8845713988516402), (7409, 0.16270641092827842), (7410, 0.8845713988516402), (7411, 0.0), (7412, 0.46640480307738325), (7413, 0.46640480307738325), (7414, 0.14279265772853786), (7415, 0.18913149622231354), (7416, 0.8845713988516402), (7417, 0.863110309093865), (7418, 0.46640480307738325), (7419, 0.687440204432026), (7420, 1.0), (7421, 1.0), (7422, 0.46640480307738325), (7423, 0.0), (7424, 0.687440204432026), (7425, 0.44798040769664355), (7426, 0.0), (7427, 0.15672398378202507), (7428, 0.0), (7429, 0.23785168203110515), (7430, 0.0), (7431, 0.5050154397005037), (7432, 0.8845713988516402), (7433, 0.0), (7434, 0.8845713988516402), (7435, 0.2632847110277334), (7436, 0.0), (7437, 0.22390766139708893), (7438, 0.6141606046464241), (7439, 0.0), (7440, 0.46640480307738325), (7441, 0.16429146310995035), (7442, 0.18729456722841287), (7443, 0.0), (7444, 0.0), (7445, 0.2979419414724567), (7446, 0.46640480307738325), (7447, 0.8845713988516402), (7448, 0.0), (7449, 0.863110309093865), (7450, 0.21244774373372832), (7451, 0.1882380394149203), (7452, 0.0), (7453, 0.5050154397005037), (7454, 0.19067434234290018), (7455, 0.11331287103880076), (7456, 0.2632847110277334), (7457, 0.47522734372800146), (7458, 0.20194315216349354), (7459, 1.0), (7460, 0.46640480307738325), (7461, 0.5476580086145145), (7462, 0.46640480307738325), (7463, 0.46640480307738325), (7464, 0.687440204432026), (7465, 0.0), (7466, 0.46640480307738325), (7467, 0.30697094327905916), (7468, 0.0), (7469, 0.46640480307738325), (7470, 1.0), (7471, 0.0), (7472, 0.26954439192295787), (7473, 0.46640480307738325), (7474, 0.48809306353175624), (7475, 0.0), (7476, 0.5934328222694809), (7477, 1.0), (7478, 0.0), (7479, 0.2632847110277334), (7480, 0.2979419414724567), (7481, 0.2119896822491645), (7482, 0.16861365988500507), (7483, 0.0), (7484, 0.0), (7485, 1.0), (7486, 0.46640480307738325), (7487, 0.46640480307738325), (7488, 0.26089035422357426), (7489, 0.0), (7490, 0.46640480307738325), (7491, 0.1882380394149203), (7492, 0.2839801085157886), (7493, 0.46640480307738325), (7494, 0.5050154397005037), (7495, 0.5050154397005037), (7496, 0.1953274461062404), (7497, 0.0), (7498, 0.5238811096416001), (7499, 0.0), (7500, 0.25733057159885575), (7501, 0.23650819876873833), (7502, 0.687440204432026), (7503, 0.1213261603137273), (7504, 0.46640480307738325), (7505, 0.0), (7506, 0.16846533643358064), (7507, 0.22380100877926673), (7508, 0.0), (7509, 0.18913149622231354), (7510, 0.0), (7511, 0.0), (7512, 0.687440204432026), (7513, 1.0), (7514, 0.687440204432026), (7515, 0.0), (7516, 0.0), (7517, 0.14127968431679402), (7518, 0.0), (7519, 0.46640480307738325), (7520, 0.8845713988516402), (7521, 0.0), (7522, 0.8845713988516402), (7523, 0.18913149622231354), (7524, 0.0), (7525, 0.5050154397005037), (7526, 0.4847786269508534), (7527, 0.5050154397005037), (7528, 0.16861365988500507), (7529, 0.5050154397005037), (7530, 0.38693698265981125), (7531, 0.3005345463318173), (7532, 1.0), (7533, 0.20160856684131845), (7534, 0.0), (7535, 0.23487691294360039), (7536, 1.0), (7537, 0.0), (7538, 0.11496891113606639), (7539, 0.687440204432026), (7540, 0.22380100877926673), (7541, 0.40228864151512295), (7542, 0.20194315216349354), (7543, 0.5050154397005037), (7544, 0.23785168203110515), (7545, 0.0), (7546, 0.0), (7547, 0.15972821695851558), (7548, 0.46640480307738325), (7549, 0.0), (7550, 0.10696693263066333), (7551, 0.15341770158425355), (7552, 0.0), (7553, 0.2979419414724567), (7554, 0.1882380394149203), (7555, 0.0), (7556, 0.8845713988516402), (7557, 0.0), (7558, 0.0), (7559, 0.5050154397005037), (7560, 0.4847786269508534), (7561, 0.0), (7562, 0.12843987269695306), (7563, 0.863110309093865), (7564, 0.0), (7565, 0.8845713988516402), (7566, 0.0), (7567, 0.0), (7568, 0.18355437032847274), (7569, 0.0), (7570, 0.0), (7571, 0.687440204432026), (7572, 0.863110309093865), (7573, 0.687440204432026), (7574, 0.5050154397005037), (7575, 0.26954439192295787), (7576, 0.17549148260719827), (7577, 0.5050154397005037), (7578, 0.0), (7579, 0.0), (7580, 0.0), (7581, 0.0), (7582, 0.0), (7583, 0.1513573495473827), (7584, 0.21737754821761618), (7585, 0.5050154397005037), (7586, 0.16363617251041307), (7587, 0.15432997064574216), (7588, 0.22390766139708893), (7589, 0.11022436321697998), (7590, 0.5050154397005037), (7591, 0.5050154397005037), (7592, 0.1567605966368783), (7593, 0.5050154397005037), (7594, 0.46640480307738325), (7595, 0.0), (7596, 0.863110309093865), (7597, 0.0), (7598, 0.0), (7599, 0.11544775882910288), (7600, 0.0), (7601, 0.15390963303899036), (7602, 0.14043550312921002), (7603, 0.26089035422357426), (7604, 1.0), (7605, 0.5050154397005037), (7606, 0.0), (7607, 0.0), (7608, 0.0), (7609, 0.6160231082433065), (7610, 0.0), (7611, 0.46640480307738325), (7612, 0.5050154397005037), (7613, 0.5050154397005037), (7614, 0.0), (7615, 0.2632847110277334), (7616, 0.2111389077263953), (7617, 0.45233480272016197), (7618, 0.2979419414724567), (7619, 0.11453374150237162), (7620, 0.0), (7621, 1.0), (7622, 0.0), (7623, 0.687440204432026), (7624, 0.46640480307738325), (7625, 0.0), (7626, 0.687440204432026), (7627, 0.0), (7628, 0.5050154397005037), (7629, 0.5050154397005037), (7630, 0.5050154397005037), (7631, 0.0), (7632, 1.0), (7633, 0.17263309261006643), (7634, 0.46640480307738325), (7635, 0.0), (7636, 0.3963271822720151), (7637, 0.5050154397005037), (7638, 0.26954439192295787), (7639, 0.12048449666319166), (7640, 0.0), (7641, 0.26954439192295787), (7642, 0.0), (7643, 0.6609786922047318), (7644, 0.0985062293328838), (7645, 0.11626256607063784), (7646, 0.0), (7647, 1.0), (7648, 0.863110309093865), (7649, 0.26954439192295787), (7650, 0.17549148260719827), (7651, 0.0), (7652, 0.15801071420419827), (7653, 0.2324084132899214), (7654, 0.17549148260719827), (7655, 0.8845713988516402), (7656, 0.687440204432026), (7657, 0.0), (7658, 0.18913149622231354), (7659, 0.5050154397005037), (7660, 0.46640480307738325), (7661, 0.0), (7662, 0.1583704629730746), (7663, 0.5050154397005037), (7664, 0.5050154397005037), (7665, 0.46640480307738325), (7666, 0.2176587496286038), (7667, 0.5050154397005037), (7668, 0.0), (7669, 0.5050154397005037), (7670, 0.0), (7671, 0.25733057159885575), (7672, 0.6141606046464241), (7673, 0.46640480307738325), (7674, 0.0), (7675, 0.2632847110277334), (7676, 0.16308125643616964), (7677, 0.0), (7678, 0.46640480307738325), (7679, 0.0), (7680, 0.0), (7681, 0.529402542604805), (7682, 0.2728125996896554), (7683, 0.0), (7684, 0.0), (7685, 0.5050154397005037), (7686, 0.0), (7687, 0.0), (7688, 0.46640480307738325), (7689, 0.46640480307738325), (7690, 0.2632847110277334), (7691, 0.0), (7692, 0.863110309093865), (7693, 0.0), (7694, 0.1286166786072644), (7695, 0.46640480307738325), (7696, 0.2632847110277334), (7697, 0.46640480307738325), (7698, 0.46640480307738325), (7699, 0.0), (7700, 0.0), (7701, 0.6737182900877672), (7702, 0.687440204432026), (7703, 0.4315942827227188), (7704, 1.0), (7705, 0.5050154397005037), (7706, 0.0), (7707, 0.46640480307738325), (7708, 0.26089035422357426), (7709, 0.0), (7710, 0.12215172846831937), (7711, 0.3572628965246665), (7712, 0.0), (7713, 0.46640480307738325), (7714, 0.46640480307738325), (7715, 0.2632847110277334), (7716, 0.2632847110277334), (7717, 0.0), (7718, 0.0), (7719, 0.0), (7720, 0.46640480307738325), (7721, 0.687440204432026), (7722, 0.2632847110277334), (7723, 0.0), (7724, 0.46640480307738325), (7725, 0.22039741954526756), (7726, 0.14862841764515874), (7727, 0.18913149622231354), (7728, 0.46640480307738325), (7729, 0.8845713988516402), (7730, 0.0), (7731, 0.0), (7732, 0.0), (7733, 0.1215318718728964), (7734, 0.2176587496286038), (7735, 0.46640480307738325), (7736, 0.13041207350833756), (7737, 0.0), (7738, 0.0), (7739, 0.46640480307738325), (7740, 0.0), (7741, 0.14985817471426974), (7742, 0.17608654311760313), (7743, 0.5050154397005037), (7744, 0.0), (7745, 0.179011865298965), (7746, 0.687440204432026), (7747, 0.863110309093865), (7748, 0.1632735486052865), (7749, 0.5028470699739411), (7750, 0.18270473677057544), (7751, 0.488021662308456), (7752, 0.18355437032847274), (7753, 0.5238811096416001), (7754, 0.454231259500101), (7755, 0.17608654311760313), (7756, 0.5050154397005037), (7757, 0.46640480307738325), (7758, 0.8845713988516402), (7759, 0.15432997064574216), (7760, 0.13513530228521914), (7761, 0.12978044734697602), (7762, 0.30962046525929976), (7763, 0.26089035422357426), (7764, 0.0), (7765, 0.0), (7766, 0.0), (7767, 0.13742586293197015), (7768, 0.0), (7769, 0.11579598390045291), (7770, 0.13753260192107392), (7771, 0.2632847110277334), (7772, 0.687440204432026), (7773, 0.8845713988516402), (7774, 0.0), (7775, 0.687440204432026), (7776, 0.2632847110277334), (7777, 0.0), (7778, 1.0), (7779, 0.2324084132899214), (7780, 0.3005345463318173), (7781, 0.5050154397005037), (7782, 0.41391948422992275), (7783, 0.1621128175904444), (7784, 0.0), (7785, 0.0), (7786, 0.20604218961865275), (7787, 0.46640480307738325), (7788, 0.46640480307738325), (7789, 0.25733057159885575), (7790, 0.0), (7791, 0.26089035422357426), (7792, 0.0), (7793, 0.46640480307738325), (7794, 0.0), (7795, 0.5050154397005037), (7796, 0.2632847110277334), (7797, 0.46640480307738325), (7798, 0.0), (7799, 0.20194315216349354), (7800, 0.13719060319258147), (7801, 0.18270473677057544), (7802, 0.687440204432026), (7803, 0.2176587496286038), (7804, 0.0), (7805, 0.38693698265981125), (7806, 0.0), (7807, 0.0), (7808, 0.18320303459782844), (7809, 0.5050154397005037), (7810, 0.863110309093865), (7811, 0.0), (7812, 0.21737754821761618), (7813, 0.0), (7814, 0.863110309093865), (7815, 0.5050154397005037), (7816, 0.1673984144289352), (7817, 0.40222487175206034), (7818, 1.0), (7819, 0.17793227800448835), (7820, 0.13035648548866063), (7821, 0.6141606046464241), (7822, 0.0), (7823, 0.0), (7824, 0.0), (7825, 0.46640480307738325), (7826, 0.20604218961865275), (7827, 0.20604218961865275), (7828, 0.26954439192295787), (7829, 0.0), (7830, 0.687440204432026), (7831, 0.5050154397005037), (7832, 0.0), (7833, 0.0), (7834, 0.0), (7835, 0.2632847110277334), (7836, 0.5050154397005037), (7837, 0.0), (7838, 0.5050154397005037), (7839, 0.0), (7840, 0.26954439192295787), (7841, 0.6970281737714932), (7842, 0.0), (7843, 0.687440204432026), (7844, 0.2632847110277334), (7845, 0.2176587496286038), (7846, 0.687440204432026), (7847, 0.0), (7848, 0.18913149622231354), (7849, 0.189758947568857), (7850, 0.0), (7851, 0.8845713988516402), (7852, 1.0), (7853, 0.0), (7854, 0.46640480307738325), (7855, 0.2111389077263953), (7856, 0.0), (7857, 0.5050154397005037), (7858, 0.0), (7859, 0.17298371819648856), (7860, 0.687440204432026), (7861, 0.5050154397005037), (7862, 0.0), (7863, 0.863110309093865), (7864, 0.0), (7865, 0.1953274461062404), (7866, 0.0), (7867, 0.687440204432026), (7868, 0.0), (7869, 0.0), (7870, 0.8845713988516402), (7871, 0.0), (7872, 0.0), (7873, 0.8845713988516402), (7874, 0.5050154397005037), (7875, 0.46640480307738325), (7876, 0.0), (7877, 0.15429792931042613), (7878, 0.2632847110277334), (7879, 0.8845713988516402), (7880, 0.687440204432026), (7881, 0.5050154397005037), (7882, 0.0), (7883, 0.14237372433667064), (7884, 0.189758947568857), (7885, 0.1567605966368783), (7886, 0.1632873024466789), (7887, 0.15432997064574216), (7888, 0.0), (7889, 0.0), (7890, 0.44798040769664355), (7891, 0.2632847110277334), (7892, 0.863110309093865), (7893, 0.5050154397005037), (7894, 1.0), (7895, 0.1621128175904444), (7896, 0.0), (7897, 0.687440204432026), (7898, 0.687440204432026), (7899, 0.12048449666319166), (7900, 0.687440204432026), (7901, 0.0), (7902, 0.0), (7903, 0.0), (7904, 0.0), (7905, 0.0), (7906, 0.0), (7907, 0.0), (7908, 0.46640480307738325), (7909, 0.0), (7910, 0.0), (7911, 1.0), (7912, 0.5050154397005037), (7913, 0.0), (7914, 0.0), (7915, 0.25261835575862995), (7916, 1.0), (7917, 0.1486674157583613), (7918, 0.15432997064574216), (7919, 0.16190614857797536), (7920, 0.24473885545931087), (7921, 0.863110309093865), (7922, 0.0), (7923, 0.0), (7924, 0.0), (7925, 0.0), (7926, 0.18913149622231354), (7927, 0.0), (7928, 0.0), (7929, 0.1888847063516037), (7930, 0.21244774373372832), (7931, 0.18913149622231354), (7932, 0.46640480307738325), (7933, 0.0), (7934, 0.0), (7935, 0.3005345463318173), (7936, 0.0), (7937, 0.2574485170326601), (7938, 0.0), (7939, 0.5050154397005037), (7940, 0.0), (7941, 0.0), (7942, 0.0), (7943, 0.0), (7944, 0.21244774373372832), (7945, 0.6160231082433065), (7946, 0.17549148260719827), (7947, 0.6160231082433065), (7948, 0.0), (7949, 0.687440204432026), (7950, 0.5050154397005037), (7951, 0.0), (7952, 0.0), (7953, 0.0), (7954, 0.46640480307738325), (7955, 0.0), (7956, 0.46640480307738325), (7957, 0.5050154397005037), (7958, 0.0), (7959, 0.687440204432026), (7960, 0.0), (7961, 0.1888847063516037), (7962, 0.23650819876873833), (7963, 0.46640480307738325), (7964, 0.0), (7965, 0.0), (7966, 0.41391948422992275), (7967, 0.23487691294360039), (7968, 0.25733057159885575), (7969, 0.16038736164582842), (7970, 0.0), (7971, 0.2632847110277334), (7972, 0.19863681334206054), (7973, 0.8845713988516402), (7974, 0.0), (7975, 0.863110309093865), (7976, 0.20604218961865275), (7977, 0.0), (7978, 0.18355437032847274), (7979, 0.0), (7980, 0.5050154397005037), (7981, 0.4315942827227188), (7982, 0.0), (7983, 0.8845713988516402), (7984, 0.46640480307738325), (7985, 0.0), (7986, 0.18913149622231354), (7987, 0.0), (7988, 0.863110309093865), (7989, 0.46640480307738325), (7990, 0.1083114443577441), (7991, 0.1621128175904444), (7992, 0.0), (7993, 0.6160231082433065), (7994, 1.0), (7995, 0.16038736164582842), (7996, 1.0), (7997, 0.863110309093865), (7998, 0.0), (7999, 0.13292533142417182), (8000, 0.0), (8001, 0.0), (8002, 0.17549148260719827), (8003, 0.0), (8004, 0.0), (8005, 0.2632847110277334), (8006, 0.26954439192295787), (8007, 0.687440204432026), (8008, 0.20194315216349354), (8009, 0.0), (8010, 0.2728125996896554), (8011, 0.0), (8012, 0.0), (8013, 0.13254124516242236), (8014, 0.14030846432527708), (8015, 0.0), (8016, 0.2979419414724567), (8017, 0.687440204432026), (8018, 0.18913149622231354), (8019, 0.0), (8020, 0.46640480307738325), (8021, 0.687440204432026), (8022, 0.2324084132899214), (8023, 0.687440204432026), (8024, 0.46640480307738325), (8025, 0.46640480307738325), (8026, 0.13526588990310306), (8027, 0.0), (8028, 0.0), (8029, 0.16371234810188892), (8030, 0.21737754821761618), (8031, 0.0), (8032, 0.0), (8033, 0.18270473677057544), (8034, 0.5050154397005037), (8035, 0.636823997813255), (8036, 0.3750851713074931), (8037, 1.0), (8038, 0.0), (8039, 0.0), (8040, 0.5050154397005037), (8041, 0.18913149622231354), (8042, 0.17681724995926185), (8043, 0.59461117986911), (8044, 0.2979419414724567), (8045, 0.2979419414724567), (8046, 0.46640480307738325), (8047, 0.5723410275915701), (8048, 0.0), (8049, 0.2176587496286038), (8050, 0.2979419414724567), (8051, 0.2728125996896554), (8052, 0.2324084132899214), (8053, 0.0), (8054, 0.687440204432026), (8055, 0.8845713988516402), (8056, 0.20194315216349354), (8057, 0.1882380394149203), (8058, 0.636823997813255), (8059, 0.687440204432026), (8060, 0.8845713988516402), (8061, 0.5050154397005037), (8062, 0.0), (8063, 0.14019524685108573), (8064, 0.46640480307738325), (8065, 0.25733057159885575), (8066, 0.25733057159885575), (8067, 0.2632847110277334), (8068, 0.3835761122419837), (8069, 0.0), (8070, 0.5050154397005037), (8071, 0.18940293034657674), (8072, 0.863110309093865), (8073, 0.46640480307738325), (8074, 0.687440204432026), (8075, 0.5050154397005037), (8076, 0.0), (8077, 0.1882380394149203), (8078, 0.18913149622231354), (8079, 0.2737990650947479), (8080, 0.0), (8081, 0.0), (8082, 0.6370138641534469), (8083, 0.0), (8084, 0.40228864151512295), (8085, 0.18913149622231354), (8086, 0.0), (8087, 0.5050154397005037), (8088, 0.5050154397005037), (8089, 0.0), (8090, 0.5050154397005037), (8091, 0.0), (8092, 0.5050154397005037), (8093, 0.687440204432026), (8094, 0.863110309093865), (8095, 0.6141606046464241), (8096, 0.0), (8097, 0.22380100877926673), (8098, 0.26954439192295787), (8099, 0.1432918572988705), (8100, 0.26954439192295787), (8101, 0.0), (8102, 0.5934328222694809), (8103, 0.0), (8104, 0.5050154397005037), (8105, 0.5669166999338728), (8106, 0.0), (8107, 0.0), (8108, 0.0), (8109, 0.15972821695851558), (8110, 0.863110309093865), (8111, 0.20194315216349354), (8112, 0.0), (8113, 0.687440204432026), (8114, 0.3921101631473456), (8115, 0.0), (8116, 0.0), (8117, 0.46640480307738325), (8118, 0.5050154397005037), (8119, 0.1423805419149193), (8120, 0.0), (8121, 0.16861365988500507), (8122, 0.0), (8123, 0.1888847063516037), (8124, 0.5050154397005037), (8125, 0.2632847110277334), (8126, 0.0), (8127, 1.0), (8128, 0.196653771737861), (8129, 0.23487691294360039), (8130, 0.20478232692415882), (8131, 0.46640480307738325), (8132, 0.41386791540689327), (8133, 0.8845713988516402), (8134, 0.0), (8135, 0.0), (8136, 0.6609786922047318), (8137, 0.0), (8138, 0.19067434234290018), (8139, 0.46640480307738325), (8140, 0.0), (8141, 0.2632847110277334), (8142, 0.0), (8143, 0.0), (8144, 0.2176587496286038), (8145, 0.0), (8146, 0.0), (8147, 0.19511304391368006), (8148, 0.0), (8149, 0.13911699034013922), (8150, 0.2979419414724567), (8151, 0.0), (8152, 0.687440204432026), (8153, 0.179011865298965), (8154, 0.5050154397005037), (8155, 0.0), (8156, 0.189758947568857), (8157, 0.687440204432026), (8158, 0.46640480307738325), (8159, 0.0), (8160, 0.5050154397005037), (8161, 0.0), (8162, 0.5050154397005037), (8163, 0.2728125996896554), (8164, 0.2632847110277334), (8165, 0.5050154397005037), (8166, 0.0), (8167, 0.0), (8168, 0.26089035422357426), (8169, 0.0), (8170, 0.5050154397005037), (8171, 0.0), (8172, 0.44798040769664355), (8173, 0.687440204432026), (8174, 0.0), (8175, 0.46640480307738325), (8176, 0.0), (8177, 0.0), (8178, 0.0), (8179, 0.0), (8180, 0.0), (8181, 0.687440204432026), (8182, 1.0), (8183, 0.0), (8184, 0.5050154397005037), (8185, 0.0), (8186, 0.24473885545931087), (8187, 0.0), (8188, 0.23487691294360039), (8189, 0.1888847063516037), (8190, 0.5050154397005037), (8191, 0.0), (8192, 0.0), (8193, 0.8845713988516402), (8194, 0.0), (8195, 0.0), (8196, 0.0), (8197, 1.0), (8198, 0.12213440313945441), (8199, 0.12215172846831937), (8200, 0.12978044734697602), (8201, 0.12751613041848833), (8202, 0.2111389077263953), (8203, 0.0), (8204, 0.2176587496286038), (8205, 0.0), (8206, 0.1432918572988705), (8207, 0.0), (8208, 0.8845713988516402), (8209, 1.0), (8210, 0.687440204432026), (8211, 0.0), (8212, 0.21737754821761618), (8213, 1.0), (8214, 0.5050154397005037), (8215, 0.46640480307738325), (8216, 0.20395639329836301), (8217, 0.1320536587104481), (8218, 0.0), (8219, 0.13513530228521914), (8220, 0.0), (8221, 1.0), (8222, 0.1881151827358861), (8223, 0.5050154397005037), (8224, 0.687440204432026), (8225, 0.2176587496286038), (8226, 0.46640480307738325), (8227, 0.687440204432026), (8228, 0.0), (8229, 0.5050154397005037), (8230, 0.0), (8231, 0.17549148260719827), (8232, 0.5050154397005037), (8233, 0.0), (8234, 0.0), (8235, 0.26954439192295787), (8236, 0.5050154397005037), (8237, 0.2176587496286038), (8238, 0.0), (8239, 0.1888847063516037), (8240, 0.0), (8241, 0.5723410275915701), (8242, 0.46640480307738325), (8243, 0.46640480307738325), (8244, 0.5050154397005037), (8245, 0.5934328222694809), (8246, 0.0), (8247, 0.0), (8248, 0.5050154397005037), (8249, 0.0), (8250, 0.0), (8251, 0.0), (8252, 0.0), (8253, 1.0), (8254, 0.15035135695304133), (8255, 0.16861365988500507), (8256, 0.8845713988516402), (8257, 0.0), (8258, 0.26089035422357426), (8259, 0.2176587496286038), (8260, 0.46640480307738325), (8261, 0.23302605192993817), (8262, 0.5050154397005037), (8263, 0.15801071420419827), (8264, 0.23785168203110515), (8265, 1.0), (8266, 1.0), (8267, 0.21244774373372832), (8268, 0.0), (8269, 0.2728125996896554), (8270, 0.25733057159885575), (8271, 0.18913149622231354), (8272, 0.863110309093865), (8273, 0.1486674157583613), (8274, 0.12453070108930589), (8275, 0.13853561856744584), (8276, 0.0), (8277, 0.44798040769664355), (8278, 0.0), (8279, 0.44798040769664355), (8280, 0.22380100877926673), (8281, 0.0), (8282, 0.18913149622231354), (8283, 0.16324592466708485), (8284, 0.488021662308456), (8285, 0.46640480307738325), (8286, 0.189758947568857), (8287, 0.0), (8288, 0.5050154397005037), (8289, 0.0), (8290, 0.46640480307738325), (8291, 0.46640480307738325), (8292, 1.0), (8293, 0.687440204432026), (8294, 0.14265141015878505), (8295, 0.0), (8296, 0.0), (8297, 0.0), (8298, 0.5050154397005037), (8299, 0.6970281737714932), (8300, 1.0), (8301, 0.1740105995239713), (8302, 0.17278649231246115), (8303, 0.3705655350804725), (8304, 0.46640480307738325), (8305, 0.44798040769664355), (8306, 0.0), (8307, 0.46640480307738325), (8308, 0.1696352622363277), (8309, 0.687440204432026), (8310, 0.0), (8311, 0.23487691294360039), (8312, 0.45233480272016197), (8313, 0.6141606046464241), (8314, 0.2111389077263953), (8315, 0.21244774373372832), (8316, 0.1415894529847499), (8317, 0.687440204432026), (8318, 0.26089035422357426), (8319, 0.16797965689963948), (8320, 0.26954439192295787), (8321, 0.5050154397005037), (8322, 0.18244835013414828), (8323, 0.36540044689441414), (8324, 0.1740105995239713), (8325, 0.8845713988516402), (8326, 0.0), (8327, 0.26954439192295787), (8328, 0.23650819876873833), (8329, 0.0), (8330, 0.5050154397005037), (8331, 0.5050154397005037), (8332, 0.5050154397005037), (8333, 0.0), (8334, 0.6139728854880695), (8335, 0.0), (8336, 0.0), (8337, 0.0), (8338, 0.26954439192295787), (8339, 0.0), (8340, 0.0), (8341, 0.14066141726491047), (8342, 0.0), (8343, 0.8845713988516402), (8344, 0.0), (8345, 0.2979419414724567), (8346, 0.12751613041848833), (8347, 0.2771127668632737), (8348, 0.46640480307738325), (8349, 0.5363695016970931), (8350, 0.46640480307738325), (8351, 0.0), (8352, 0.687440204432026), (8353, 0.46640480307738325), (8354, 0.0), (8355, 0.0), (8356, 0.15801071420419827), (8357, 0.12689368001348947), (8358, 0.0), (8359, 0.0), (8360, 0.19863681334206054), (8361, 0.1953274461062404), (8362, 0.46640480307738325), (8363, 0.5050154397005037), (8364, 0.1632873024466789), (8365, 0.15266990024648835), (8366, 0.2176587496286038), (8367, 0.0), (8368, 0.18913149622231354), (8369, 0.5050154397005037), (8370, 0.5050154397005037), (8371, 0.8845713988516402), (8372, 0.687440204432026), (8373, 0.7162609641752329), (8374, 0.5050154397005037), (8375, 0.8845713988516402), (8376, 0.0), (8377, 0.1882380394149203), (8378, 0.5050154397005037), (8379, 0.0), (8380, 0.20139066877048853), (8381, 0.4340358229644783), (8382, 0.11393816840947814), (8383, 0.0), (8384, 0.18913149622231354), (8385, 0.1888847063516037), (8386, 0.0), (8387, 0.12384447262738406), (8388, 1.0), (8389, 0.44798040769664355), (8390, 0.5050154397005037), (8391, 0.46640480307738325), (8392, 0.2324084132899214), (8393, 0.26089035422357426), (8394, 0.5050154397005037), (8395, 0.0), (8396, 0.13526588990310306), (8397, 0.15432997064574216), (8398, 1.0), (8399, 0.0), (8400, 0.20726145575042415), (8401, 0.46640480307738325), (8402, 0.0), (8403, 0.0), (8404, 0.0), (8405, 0.2979419414724567), (8406, 0.0), (8407, 0.687440204432026), (8408, 0.0), (8409, 0.46640480307738325), (8410, 0.2632847110277334), (8411, 0.15432997064574216), (8412, 0.21737754821761618), (8413, 0.5050154397005037), (8414, 0.13254124516242236), (8415, 0.25733057159885575), (8416, 0.8845713988516402), (8417, 0.25733057159885575), (8418, 0.1296964246243408), (8419, 0.1882380394149203), (8420, 0.46640480307738325), (8421, 0.5050154397005037), (8422, 0.14237892718411294), (8423, 0.5050154397005037), (8424, 0.0), (8425, 0.0), (8426, 0.0), (8427, 0.5050154397005037), (8428, 0.0), (8429, 0.5050154397005037), (8430, 0.0), (8431, 0.5050154397005037), (8432, 0.8845713988516402), (8433, 0.0), (8434, 0.21107383298208196), (8435, 0.8845713988516402), (8436, 0.21244774373372832), (8437, 0.1818287010558562), (8438, 0.0), (8439, 0.0), (8440, 0.0), (8441, 0.687440204432026), (8442, 0.5050154397005037), (8443, 0.46640480307738325), (8444, 0.26089035422357426), (8445, 0.46640480307738325), (8446, 0.863110309093865), (8447, 0.0), (8448, 0.46640480307738325), (8449, 0.2176587496286038), (8450, 0.0), (8451, 0.0), (8452, 0.687440204432026), (8453, 0.46640480307738325), (8454, 0.8845713988516402), (8455, 0.17793227800448835), (8456, 0.0), (8457, 0.0), (8458, 0.0), (8459, 0.3918635210279682), (8460, 0.8845713988516402), (8461, 0.46640480307738325), (8462, 0.1888847063516037), (8463, 0.5050154397005037), (8464, 0.12602569678843215), (8465, 0.18320303459782844), (8466, 0.46640480307738325), (8467, 0.2632847110277334), (8468, 0.687440204432026), (8469, 0.0), (8470, 0.0), (8471, 1.0), (8472, 0.5050154397005037), (8473, 0.22390766139708893), (8474, 0.0), (8475, 0.0), (8476, 0.0), (8477, 0.0), (8478, 0.0), (8479, 0.0), (8480, 0.636823997813255), (8481, 0.0), (8482, 0.17793227800448835), (8483, 1.0), (8484, 0.2119896822491645), (8485, 0.687440204432026), (8486, 0.0), (8487, 0.46640480307738325), (8488, 0.0), (8489, 0.0), (8490, 0.21936875901445776), (8491, 0.1567605966368783), (8492, 0.2324084132899214), (8493, 0.22390766139708893), (8494, 0.687440204432026), (8495, 0.1882380394149203), (8496, 0.26954439192295787), (8497, 0.5050154397005037), (8498, 0.0), (8499, 0.0), (8500, 0.46640480307738325), (8501, 0.46640480307738325), (8502, 0.14068788535327179), (8503, 0.0), (8504, 1.0), (8505, 0.18913149622231354), (8506, 0.0), (8507, 0.687440204432026), (8508, 0.0), (8509, 0.18913149622231354), (8510, 0.1344911694982416), (8511, 0.46640480307738325), (8512, 0.0), (8513, 0.0), (8514, 0.46640480307738325), (8515, 0.0), (8516, 0.8845713988516402), (8517, 0.0), (8518, 0.46640480307738325), (8519, 0.0), (8520, 0.15390963303899036), (8521, 0.687440204432026), (8522, 0.15390963303899036), (8523, 0.0), (8524, 0.4314324113477006), (8525, 0.45233480272016197), (8526, 0.0), (8527, 0.0), (8528, 0.8845713988516402), (8529, 0.17608654311760313), (8530, 0.2176587496286038), (8531, 0.0), (8532, 0.18913149622231354), (8533, 0.0), (8534, 0.0), (8535, 0.16431355206186693), (8536, 0.25733057159885575), (8537, 0.0), (8538, 0.0), (8539, 0.46640480307738325), (8540, 0.0), (8541, 0.15801071420419827), (8542, 0.15658814440976404), (8543, 0.5050154397005037), (8544, 0.8845713988516402), (8545, 0.18913149622231354), (8546, 0.196653771737861), (8547, 0.3643450419457429), (8548, 0.8845713988516402), (8549, 0.15196038729391428), (8550, 0.1832615245105313), (8551, 0.0), (8552, 0.2324084132899214), (8553, 0.637889255615152), (8554, 0.2324084132899214), (8555, 0.18270473677057544), (8556, 0.8845713988516402), (8557, 0.46640480307738325), (8558, 0.0), (8559, 0.18913149622231354), (8560, 0.46640480307738325), (8561, 0.8845713988516402), (8562, 0.2176587496286038), (8563, 0.2979419414724567), (8564, 0.11393816840947814), (8565, 0.21107383298208196), (8566, 0.20604218961865275), (8567, 1.0), (8568, 0.20155191000487405), (8569, 0.15853806235337925), (8570, 0.617564359205713), (8571, 0.687440204432026), (8572, 0.0), (8573, 0.8845713988516402), (8574, 0.189758947568857), (8575, 0.488021662308456), (8576, 0.1257177094976576), (8577, 0.5050154397005037), (8578, 0.5050154397005037), (8579, 0.687440204432026), (8580, 0.46640480307738325), (8581, 0.5050154397005037), (8582, 0.20194315216349354), (8583, 0.863110309093865), (8584, 0.23785168203110515), (8585, 0.0), (8586, 0.2324084132899214), (8587, 0.0), (8588, 0.189758947568857), (8589, 0.5050154397005037), (8590, 0.13742586293197015), (8591, 0.0), (8592, 0.0), (8593, 0.0), (8594, 0.6560070104292905), (8595, 0.26954439192295787), (8596, 0.5675992540705019), (8597, 0.27918344240626936), (8598, 0.5050154397005037), (8599, 0.15432997064574216), (8600, 0.1415894529847499), (8601, 0.0), (8602, 0.46640480307738325), (8603, 0.23650819876873833), (8604, 0.0), (8605, 0.0), (8606, 0.21866343162925583), (8607, 1.0), (8608, 0.1619530430502548), (8609, 0.2632847110277334), (8610, 0.2119896822491645), (8611, 0.0), (8612, 0.18913149622231354), (8613, 0.1432918572988705), (8614, 0.5050154397005037), (8615, 0.5050154397005037), (8616, 0.44798040769664355), (8617, 0.0), (8618, 0.46640480307738325), (8619, 0.18270473677057544), (8620, 0.0), (8621, 0.0), (8622, 0.8845713988516402), (8623, 0.5050154397005037), (8624, 0.687440204432026), (8625, 0.40218338549955723), (8626, 0.5050154397005037), (8627, 0.0), (8628, 0.46640480307738325), (8629, 0.46640480307738325), (8630, 0.5050154397005037), (8631, 0.5050154397005037), (8632, 0.46640480307738325), (8633, 0.141018351771515), (8634, 0.687440204432026), (8635, 0.2979419414724567), (8636, 0.1807071179500178), (8637, 0.5050154397005037), (8638, 0.15778489461076317), (8639, 0.0), (8640, 0.1882380394149203), (8641, 0.0), (8642, 0.5050154397005037), (8643, 0.12834496679347182), (8644, 0.5050154397005037), (8645, 0.15390963303899036), (8646, 0.5962639723535696), (8647, 0.0), (8648, 0.0), (8649, 0.46640480307738325), (8650, 0.0), (8651, 0.13041207350833756), (8652, 0.46640480307738325), (8653, 0.1882380394149203), (8654, 0.0), (8655, 0.5050154397005037), (8656, 0.5050154397005037), (8657, 0.1357784171270491), (8658, 0.2979419414724567), (8659, 0.0), (8660, 0.46640480307738325), (8661, 0.19106589617835537), (8662, 0.0), (8663, 0.5050154397005037), (8664, 0.46640480307738325), (8665, 0.0), (8666, 0.0), (8667, 0.0), (8668, 0.6609786922047318), (8669, 0.8845713988516402), (8670, 0.5050154397005037), (8671, 0.5050154397005037), (8672, 0.16363617251041307), (8673, 0.5050154397005037), (8674, 0.1486674157583613), (8675, 0.2114279692355524), (8676, 0.23650819876873833), (8677, 0.18270473677057544), (8678, 0.0), (8679, 0.20194315216349354), (8680, 0.0), (8681, 0.0), (8682, 0.0), (8683, 0.0), (8684, 0.0), (8685, 0.0), (8686, 0.0), (8687, 0.0), (8688, 0.0), (8689, 0.0), (8690, 0.0), (8691, 0.17692366660102257), (8692, 0.0), (8693, 0.0), (8694, 0.0), (8695, 0.0), (8696, 0.0), (8697, 0.0), (8698, 0.0), (8699, 0.0), (8700, 0.6018470129914483), (8701, 0.5050154397005037), (8702, 0.0), (8703, 0.863110309093865), (8704, 0.1485268009893424), (8705, 0.46640480307738325), (8706, 0.5050154397005037), (8707, 0.15432997064574216), (8708, 0.687440204432026), (8709, 0.38541571301395816), (8710, 0.0), (8711, 0.18913149622231354), (8712, 0.0), (8713, 0.5068611440850479), (8714, 0.863110309093865), (8715, 0.15778489461076317), (8716, 0.15778489461076317), (8717, 0.17549148260719827), (8718, 0.0), (8719, 0.0), (8720, 0.0), (8721, 0.22390766139708893), (8722, 0.13719060319258147), (8723, 0.0), (8724, 0.5050154397005037), (8725, 0.17877624871608866), (8726, 0.15432997064574216), (8727, 0.6560070104292905), (8728, 0.0), (8729, 0.5050154397005037), (8730, 0.863110309093865), (8731, 0.46640480307738325), (8732, 0.46640480307738325), (8733, 0.5050154397005037), (8734, 0.2632847110277334), (8735, 0.45233480272016197), (8736, 0.16861365988500507), (8737, 0.0), (8738, 0.0), (8739, 0.0), (8740, 0.0), (8741, 0.0), (8742, 0.46640480307738325), (8743, 0.5050154397005037), (8744, 0.687440204432026), (8745, 0.46640480307738325), (8746, 0.5050154397005037), (8747, 0.2632847110277334), (8748, 0.687440204432026), (8749, 0.0), (8750, 0.0), (8751, 0.2324084132899214), (8752, 0.1818287010558562), (8753, 0.5050154397005037), (8754, 0.5050154397005037), (8755, 0.5050154397005037), (8756, 0.8845713988516402), (8757, 0.0), (8758, 0.5050154397005037), (8759, 0.1621128175904444), (8760, 0.5669166999338728), (8761, 0.5050154397005037), (8762, 0.0), (8763, 0.0), (8764, 1.0), (8765, 0.6329608235453398), (8766, 0.0), (8767, 0.46640480307738325), (8768, 0.6626838105759573), (8769, 0.0), (8770, 0.0), (8771, 0.5050154397005037), (8772, 0.0), (8773, 0.0), (8774, 0.45233480272016197), (8775, 0.5050154397005037), (8776, 0.1475969405423537), (8777, 0.17549148260719827), (8778, 0.2574485170326601), (8779, 0.18355437032847274), (8780, 0.5050154397005037), (8781, 0.0), (8782, 0.0), (8783, 0.5050154397005037), (8784, 0.0), (8785, 0.7808122424209898), (8786, 0.0), (8787, 0.687440204432026), (8788, 0.5050154397005037), (8789, 0.0), (8790, 0.46640480307738325), (8791, 0.5050154397005037), (8792, 0.0), (8793, 0.1621128175904444), (8794, 0.12117789755902793), (8795, 0.22380100877926673), (8796, 0.4726979389978867), (8797, 0.1621128175904444), (8798, 0.41391948422992275), (8799, 0.0), (8800, 0.0), (8801, 0.687440204432026), (8802, 0.10274485606377283), (8803, 0.0), (8804, 0.5050154397005037), (8805, 0.14658448460672677), (8806, 0.12316009993734599), (8807, 0.22390766139708893), (8808, 0.0), (8809, 0.0), (8810, 0.25733057159885575), (8811, 0.37472999013281194), (8812, 0.0), (8813, 0.5050154397005037), (8814, 0.46640480307738325), (8815, 0.8845713988516402), (8816, 0.26954439192295787), (8817, 0.0), (8818, 0.17549148260719827), (8819, 0.26954439192295787), (8820, 0.2324084132899214), (8821, 0.5050154397005037), (8822, 0.0), (8823, 0.0), (8824, 0.5050154397005037), (8825, 0.24473885545931087), (8826, 0.15432997064574216), (8827, 0.0), (8828, 0.0), (8829, 0.0), (8830, 0.5050154397005037), (8831, 0.46640480307738325), (8832, 0.5050154397005037), (8833, 0.687440204432026), (8834, 0.5050154397005037), (8835, 0.0), (8836, 0.0), (8837, 0.4314324113477006), (8838, 0.2176587496286038), (8839, 0.18798803123479452), (8840, 0.46640480307738325), (8841, 0.0), (8842, 0.700535756981705), (8843, 0.863110309093865), (8844, 0.44798040769664355), (8845, 0.189758947568857), (8846, 0.8845713988516402), (8847, 0.687440204432026), (8848, 0.23650819876873833), (8849, 0.13041207350833756), (8850, 0.8845713988516402), (8851, 0.20194315216349354), (8852, 0.687440204432026), (8853, 0.5050154397005037), (8854, 0.0), (8855, 0.0), (8856, 0.20027875899920553), (8857, 0.687440204432026), (8858, 0.2632847110277334), (8859, 0.0), (8860, 0.5050154397005037), (8861, 0.687440204432026), (8862, 0.863110309093865), (8863, 0.8845713988516402), (8864, 0.26954439192295787), (8865, 0.6370138641534469), (8866, 0.687440204432026), (8867, 0.18320303459782844), (8868, 0.2979419414724567), (8869, 0.0), (8870, 0.0), (8871, 0.21936875901445776), (8872, 0.5050154397005037), (8873, 0.8845713988516402), (8874, 0.0), (8875, 1.0), (8876, 1.0), (8877, 0.20139066877048853), (8878, 0.5050154397005037), (8879, 0.1740105995239713), (8880, 0.0), (8881, 0.16853531935236465), (8882, 0.5050154397005037), (8883, 0.46640480307738325), (8884, 0.0), (8885, 0.0), (8886, 0.41391948422992275), (8887, 0.5050154397005037), (8888, 0.5050154397005037), (8889, 0.2176587496286038), (8890, 0.8845713988516402), (8891, 0.179011865298965), (8892, 0.0), (8893, 1.0), (8894, 0.189758947568857), (8895, 0.5050154397005037), (8896, 0.0), (8897, 0.5050154397005037), (8898, 0.5050154397005037), (8899, 0.17549148260719827), (8900, 0.24308426690525012), (8901, 0.0), (8902, 0.0), (8903, 0.46640480307738325), (8904, 0.0), (8905, 0.2111389077263953), (8906, 0.0), (8907, 0.687440204432026), (8908, 0.16104072835290925), (8909, 0.19863681334206054), (8910, 0.2324084132899214), (8911, 0.0), (8912, 0.0), (8913, 0.0), (8914, 0.18940293034657674), (8915, 0.0), (8916, 0.0), (8917, 0.0), (8918, 0.23650819876873833), (8919, 0.0), (8920, 0.0), (8921, 0.26089035422357426), (8922, 0.5050154397005037), (8923, 0.2574485170326601), (8924, 0.15432997064574216), (8925, 0.3005345463318173), (8926, 0.0), (8927, 0.13513530228521914), (8928, 0.23487691294360039), (8929, 0.0), (8930, 0.0), (8931, 0.0), (8932, 0.0), (8933, 0.17549148260719827), (8934, 0.17549148260719827), (8935, 0.17549148260719827), (8936, 0.17549148260719827), (8937, 0.5050154397005037), (8938, 0.5050154397005037), (8939, 0.5050154397005037), (8940, 0.0), (8941, 0.5050154397005037), (8942, 0.21737754821761618), (8943, 0.17549148260719827), (8944, 0.5050154397005037), (8945, 0.5050154397005037), (8946, 0.0), (8947, 0.46640480307738325), (8948, 0.46640480307738325), (8949, 0.2728125996896554), (8950, 0.0), (8951, 0.46640480307738325), (8952, 0.23487691294360039), (8953, 0.5050154397005037), (8954, 0.687440204432026), (8955, 0.0), (8956, 0.0), (8957, 0.2979419414724567), (8958, 0.0), (8959, 0.8845713988516402), (8960, 1.0), (8961, 0.18913149622231354), (8962, 0.344026130251286), (8963, 0.0), (8964, 0.0), (8965, 0.0), (8966, 0.46640480307738325), (8967, 0.0), (8968, 0.0), (8969, 0.21244774373372832), (8970, 0.687440204432026), (8971, 0.16846533643358064), (8972, 0.0), (8973, 0.0), (8974, 0.21936875901445776), (8975, 0.17278649231246115), (8976, 0.5050154397005037), (8977, 0.19067434234290018), (8978, 0.46640480307738325), (8979, 0.687440204432026), (8980, 0.5050154397005037), (8981, 0.0), (8982, 0.15149580367843513), (8983, 0.5916206158844481), (8984, 0.5050154397005037), (8985, 0.1888847063516037), (8986, 0.0), (8987, 0.16861365988500507), (8988, 0.12366485046709184), (8989, 0.2119896822491645), (8990, 0.23785168203110515), (8991, 0.23487691294360039), (8992, 0.0), (8993, 0.0), (8994, 0.26089035422357426), (8995, 0.16038736164582842), (8996, 0.14531931851970054), (8997, 0.0), (8998, 0.726240982959826), (8999, 0.17877624871608866), (9000, 0.0), (9001, 0.0), (9002, 0.8845713988516402), (9003, 0.25733057159885575), (9004, 0.0), (9005, 0.5050154397005037), (9006, 0.5050154397005037), (9007, 0.25733057159885575), (9008, 0.863110309093865), (9009, 0.46640480307738325), (9010, 0.46640480307738325), (9011, 0.22380100877926673), (9012, 0.5050154397005037), (9013, 0.0), (9014, 0.687440204432026), (9015, 0.8845713988516402), (9016, 0.0), (9017, 0.18355437032847274), (9018, 0.25733057159885575), (9019, 0.16038736164582842), (9020, 0.18355437032847274), (9021, 0.21737754821761618), (9022, 0.5341587733715428), (9023, 0.1838581941253468), (9024, 0.46640480307738325), (9025, 0.0), (9026, 0.0), (9027, 0.687440204432026), (9028, 0.1432918572988705), (9029, 0.0), (9030, 0.687440204432026), (9031, 0.0), (9032, 0.16827626689866138), (9033, 0.0), (9034, 0.0), (9035, 0.21107383298208196), (9036, 0.46640480307738325), (9037, 0.5050154397005037), (9038, 0.0), (9039, 0.687440204432026), (9040, 0.46640480307738325), (9041, 0.0), (9042, 0.25733057159885575), (9043, 0.46640480307738325), (9044, 0.25733057159885575), (9045, 0.687440204432026), (9046, 0.2728125996896554), (9047, 0.7390361780003906), (9048, 0.5050154397005037), (9049, 0.2728125996896554), (9050, 0.5050154397005037), (9051, 0.2728125996896554), (9052, 0.0), (9053, 0.0), (9054, 0.18270473677057544), (9055, 0.25733057159885575), (9056, 0.23650819876873833), (9057, 0.5050154397005037), (9058, 0.0), (9059, 0.0), (9060, 0.0), (9061, 0.25733057159885575), (9062, 0.46640480307738325), (9063, 0.0), (9064, 0.687440204432026), (9065, 0.18244835013414828), (9066, 0.5050154397005037), (9067, 0.22390766139708893), (9068, 0.1819834255238648), (9069, 0.19067434234290018), (9070, 0.0), (9071, 0.0), (9072, 0.46640480307738325), (9073, 0.0), (9074, 0.46640480307738325), (9075, 0.2979419414724567), (9076, 0.5050154397005037), (9077, 0.0), (9078, 0.5050154397005037), (9079, 0.5050154397005037), (9080, 0.21866343162925583), (9081, 0.2324084132899214), (9082, 0.0), (9083, 1.0), (9084, 0.0), (9085, 0.0), (9086, 0.687440204432026), (9087, 0.0), (9088, 0.1832615245105313), (9089, 0.2632847110277334), (9090, 0.2632847110277334), (9091, 0.0), (9092, 0.16861365988500507), (9093, 0.0), (9094, 0.0), (9095, 0.687440204432026), (9096, 0.19411736398320284), (9097, 0.5050154397005037), (9098, 0.0), (9099, 0.5050154397005037), (9100, 0.0), (9101, 0.5050154397005037), (9102, 0.8845713988516402), (9103, 0.1882380394149203), (9104, 0.687440204432026), (9105, 0.0), (9106, 0.6891868471630882), (9107, 0.20155191000487405), (9108, 0.2632847110277334), (9109, 0.5050154397005037), (9110, 0.19511304391368006), (9111, 0.0), (9112, 0.0), (9113, 0.488021662308456), (9114, 0.0), (9115, 0.46640480307738325), (9116, 0.40222487175206034), (9117, 0.0), (9118, 0.23487691294360039), (9119, 0.46640480307738325), (9120, 0.15432997064574216), (9121, 0.0), (9122, 0.5050154397005037), (9123, 0.4953877133925828), (9124, 0.0), (9125, 0.5050154397005037), (9126, 1.0), (9127, 0.0), (9128, 0.46640480307738325), (9129, 0.1888847063516037), (9130, 0.0), (9131, 0.17549148260719827), (9132, 0.0), (9133, 0.20194315216349354), (9134, 0.5050154397005037), (9135, 0.863110309093865), (9136, 0.23650819876873833), (9137, 0.8845713988516402), (9138, 0.0), (9139, 0.5050154397005037), (9140, 0.0), (9141, 0.0), (9142, 0.0), (9143, 0.0), (9144, 0.0), (9145, 0.1406016916078383), (9146, 0.23785168203110515), (9147, 0.0), (9148, 0.1383962298567651), (9149, 0.1383962298567651), (9150, 0.0), (9151, 0.0), (9152, 0.687440204432026), (9153, 0.0), (9154, 0.0), (9155, 0.687440204432026), (9156, 0.0), (9157, 0.0), (9158, 0.5050154397005037), (9159, 0.687440204432026), (9160, 0.46640480307738325), (9161, 0.5050154397005037), (9162, 0.46640480307738325), (9163, 0.5050154397005037), (9164, 0.1818287010558562), (9165, 0.5050154397005037), (9166, 0.0), (9167, 0.0), (9168, 0.0), (9169, 0.2505847080713374), (9170, 0.2324084132899214), (9171, 0.5050154397005037), (9172, 0.8845713988516402), (9173, 0.0), (9174, 0.0), (9175, 0.4314324113477006), (9176, 0.0), (9177, 0.0), (9178, 0.0), (9179, 0.2632847110277334), (9180, 0.25733057159885575), (9181, 0.5050154397005037), (9182, 0.23650819876873833), (9183, 0.726240982959826), (9184, 0.0), (9185, 0.8845713988516402), (9186, 0.8845713988516402), (9187, 0.0), (9188, 0.20194315216349354), (9189, 0.5568024648517296), (9190, 0.0), (9191, 0.0), (9192, 0.0), (9193, 0.13041207350833756), (9194, 0.15778489461076317), (9195, 0.4315942827227188), (9196, 0.5050154397005037), (9197, 0.0), (9198, 0.2979419414724567), (9199, 0.5050154397005037), (9200, 0.2979419414724567), (9201, 0.5050154397005037), (9202, 0.5050154397005037), (9203, 0.0), (9204, 0.46640480307738325), (9205, 0.46640480307738325), (9206, 0.0), (9207, 0.41391948422992275), (9208, 0.20506063431314472), (9209, 0.1832615245105313), (9210, 0.5050154397005037), (9211, 0.0), (9212, 0.0), (9213, 0.0), (9214, 0.0), (9215, 0.2632847110277334), (9216, 0.0), (9217, 0.0), (9218, 0.0), (9219, 0.23785168203110515), (9220, 0.46640480307738325), (9221, 0.0), (9222, 0.0), (9223, 0.14237892718411294), (9224, 0.2114279692355524), (9225, 0.46640480307738325), (9226, 0.5050154397005037), (9227, 0.5050154397005037), (9228, 0.0), (9229, 0.46640480307738325), (9230, 0.863110309093865), (9231, 0.0), (9232, 0.0), (9233, 0.0), (9234, 0.0), (9235, 0.2728125996896554), (9236, 0.41391948422992275), (9237, 0.0), (9238, 0.18062231275585203), (9239, 0.41391948422992275), (9240, 0.5050154397005037), (9241, 0.0), (9242, 0.21737754821761618), (9243, 0.15672398378202507), (9244, 0.5050154397005037), (9245, 0.15853806235337925), (9246, 0.0), (9247, 0.6970281737714932), (9248, 0.0), (9249, 0.687440204432026), (9250, 0.5050154397005037), (9251, 0.0), (9252, 0.5050154397005037), (9253, 0.5050154397005037), (9254, 0.5050154397005037), (9255, 0.15432997064574216), (9256, 0.5050154397005037), (9257, 0.46640480307738325), (9258, 0.3963271822720151), (9259, 0.0), (9260, 0.1485268009893424), (9261, 0.5050154397005037), (9262, 0.0), (9263, 0.0), (9264, 0.0), (9265, 0.5050154397005037), (9266, 0.5050154397005037), (9267, 0.1818287010558562), (9268, 0.26954439192295787), (9269, 0.46640480307738325), (9270, 0.6772133860215244), (9271, 0.0), (9272, 0.2632847110277334), (9273, 0.5050154397005037), (9274, 0.1888847063516037), (9275, 0.5050154397005037), (9276, 0.2324084132899214), (9277, 0.687440204432026), (9278, 0.1621128175904444), (9279, 0.0), (9280, 0.2632847110277334), (9281, 0.2324084132899214), (9282, 0.12856876560944583), (9283, 0.5050154397005037), (9284, 0.22390766139708893), (9285, 0.196653771737861), (9286, 0.0), (9287, 0.2979419414724567), (9288, 0.0), (9289, 0.5050154397005037), (9290, 0.0), (9291, 0.2632847110277334), (9292, 0.23302605192993817), (9293, 0.6772133860215244), (9294, 0.0), (9295, 0.0), (9296, 0.0), (9297, 0.2324084132899214), (9298, 0.26089035422357426), (9299, 1.0), (9300, 0.0), (9301, 0.46640480307738325), (9302, 0.46640480307738325), (9303, 0.0), (9304, 0.5050154397005037), (9305, 0.687440204432026), (9306, 0.23302605192993817), (9307, 0.0), (9308, 1.0), (9309, 0.0), (9310, 1.0), (9311, 0.5050154397005037), (9312, 0.0), (9313, 0.21936875901445776), (9314, 0.46640480307738325), (9315, 0.5050154397005037), (9316, 0.0), (9317, 0.15390963303899036), (9318, 0.0), (9319, 0.5050154397005037), (9320, 0.0), (9321, 0.46640480307738325), (9322, 0.17248502228032686), (9323, 0.2979419414724567), (9324, 0.0), (9325, 0.0), (9326, 0.46640480307738325), (9327, 0.18270473677057544), (9328, 0.0), (9329, 0.0), (9330, 0.1882380394149203), (9331, 0.0), (9332, 0.0), (9333, 0.5050154397005037), (9334, 0.15432997064574216), (9335, 0.0), (9336, 0.0), (9337, 0.46640480307738325), (9338, 0.46640480307738325), (9339, 0.0), (9340, 0.0), (9341, 0.20194315216349354), (9342, 0.20194315216349354), (9343, 0.0), (9344, 0.0), (9345, 0.2632847110277334), (9346, 0.0), (9347, 0.46640480307738325), (9348, 0.0), (9349, 0.5050154397005037), (9350, 0.26089035422357426), (9351, 0.0), (9352, 0.23487691294360039), (9353, 0.5050154397005037), (9354, 0.0), (9355, 0.14391727643552518), (9356, 0.5050154397005037), (9357, 0.23487691294360039), (9358, 0.11129075839647053), (9359, 0.0), (9360, 0.18320303459782844), (9361, 0.0), (9362, 0.5050154397005037), (9363, 0.0), (9364, 0.0), (9365, 0.5050154397005037), (9366, 0.0), (9367, 0.46640480307738325), (9368, 0.2176587496286038), (9369, 0.0), (9370, 0.8845713988516402), (9371, 0.46640480307738325), (9372, 0.0), (9373, 0.0), (9374, 0.18913149622231354), (9375, 0.18913149622231354), (9376, 0.0), (9377, 0.15810356790157812), (9378, 0.0), (9379, 0.0), (9380, 0.0), (9381, 0.4688079499452775), (9382, 0.0), (9383, 0.5050154397005037), (9384, 0.0), (9385, 0.18270473677057544), (9386, 0.5050154397005037), (9387, 0.1627898736432852), (9388, 0.2324084132899214), (9389, 0.0), (9390, 0.0), (9391, 0.0), (9392, 0.0), (9393, 0.17549148260719827), (9394, 0.1388461945896151), (9395, 0.21244774373372832), (9396, 0.14883375665411094), (9397, 0.5050154397005037), (9398, 0.0), (9399, 0.8845713988516402), (9400, 0.0), (9401, 0.40222487175206034), (9402, 0.726240982959826), (9403, 0.0), (9404, 1.0), (9405, 0.0), (9406, 0.46640480307738325), (9407, 0.0), (9408, 0.5050154397005037), (9409, 0.5050154397005037), (9410, 0.17298371819648856), (9411, 0.13041207350833756), (9412, 0.5050154397005037), (9413, 0.0), (9414, 0.46640480307738325), (9415, 0.46640480307738325), (9416, 0.46640480307738325), (9417, 0.0), (9418, 0.18944994467494883), (9419, 0.5050154397005037), (9420, 0.0), (9421, 0.0), (9422, 0.2979419414724567), (9423, 0.3963271822720151), (9424, 0.0), (9425, 0.687440204432026), (9426, 0.0), (9427, 0.0), (9428, 0.0), (9429, 0.5723410275915701), (9430, 0.13513530228521914), (9431, 0.5050154397005037), (9432, 0.0), (9433, 0.0), (9434, 0.18320303459782844), (9435, 0.0), (9436, 0.0), (9437, 0.5152725625752248), (9438, 0.46640480307738325), (9439, 0.46640480307738325), (9440, 0.46640480307738325), (9441, 0.5050154397005037), (9442, 0.17549148260719827), (9443, 0.0), (9444, 0.46640480307738325), (9445, 0.0), (9446, 0.687440204432026), (9447, 0.0), (9448, 0.0), (9449, 0.5050154397005037), (9450, 0.0), (9451, 0.687440204432026), (9452, 0.196653771737861), (9453, 0.2324084132899214), (9454, 0.40222487175206034), (9455, 0.5050154397005037), (9456, 0.0), (9457, 0.0), (9458, 0.5050154397005037), (9459, 0.5050154397005037), (9460, 0.0), (9461, 0.0), (9462, 0.0), (9463, 0.0), (9464, 0.0), (9465, 0.23487691294360039), (9466, 0.8845713988516402), (9467, 0.46640480307738325), (9468, 0.0), (9469, 0.45253984573272954), (9470, 0.17549148260719827), (9471, 0.189758947568857), (9472, 0.863110309093865), (9473, 0.46640480307738325), (9474, 0.18244835013414828), (9475, 0.5050154397005037), (9476, 0.863110309093865), (9477, 0.5050154397005037), (9478, 0.0), (9479, 0.0), (9480, 0.0), (9481, 0.0), (9482, 0.5050154397005037), (9483, 0.19863681334206054), (9484, 0.0), (9485, 0.0), (9486, 0.1882380394149203), (9487, 0.0), (9488, 0.0), (9489, 0.5669166999338728), (9490, 0.5050154397005037), (9491, 0.4847786269508534), (9492, 0.687440204432026), (9493, 0.5050154397005037), (9494, 0.5050154397005037), (9495, 0.0), (9496, 0.46640480307738325), (9497, 0.15801071420419827), (9498, 0.17549148260719827), (9499, 0.2979419414724567), (9500, 0.2979419414724567), (9501, 0.0), (9502, 0.18062231275585203), (9503, 0.1621128175904444), (9504, 0.5050154397005037), (9505, 0.0), (9506, 0.5050154397005037), (9507, 0.1584815523688967), (9508, 0.0), (9509, 0.1888847063516037), (9510, 0.44798040769664355), (9511, 0.0), (9512, 0.46640480307738325), (9513, 0.0), (9514, 0.0), (9515, 0.0), (9516, 0.5050154397005037), (9517, 0.46640480307738325), (9518, 0.0), (9519, 0.5050154397005037), (9520, 0.14056318502719597), (9521, 0.0), (9522, 0.15228526029037429), (9523, 0.17267811159442212), (9524, 0.687440204432026), (9525, 0.0), (9526, 0.16861365988500507), (9527, 0.46640480307738325), (9528, 0.5050154397005037), (9529, 0.5240527477809331), (9530, 0.863110309093865), (9531, 0.5050154397005037), (9532, 0.5050154397005037), (9533, 0.0), (9534, 0.0), (9535, 0.15432997064574216), (9536, 0.1486674157583613), (9537, 0.0), (9538, 0.0), (9539, 0.0), (9540, 0.0), (9541, 0.0), (9542, 0.16813700476173377), (9543, 0.0), (9544, 0.0), (9545, 0.0), (9546, 0.0), (9547, 0.0), (9548, 0.0), (9549, 0.0), (9550, 0.15228526029037429), (9551, 0.46640480307738325), (9552, 0.5050154397005037), (9553, 0.36540044689441414), (9554, 0.0), (9555, 0.5050154397005037), (9556, 0.5050154397005037), (9557, 0.0), (9558, 0.0), (9559, 0.0), (9560, 0.1486674157583613), (9561, 0.0), (9562, 0.0), (9563, 0.26954439192295787), (9564, 0.0), (9565, 0.0), (9566, 0.0), (9567, 0.0), (9568, 0.5050154397005037), (9569, 0.5050154397005037), (9570, 0.12319324724483528), (9571, 0.1415894529847499), (9572, 0.15390963303899036), (9573, 0.0), (9574, 0.0), (9575, 0.5050154397005037), (9576, 0.5050154397005037), (9577, 0.23487691294360039), (9578, 0.5050154397005037), (9579, 0.5050154397005037), (9580, 0.5050154397005037), (9581, 0.0), (9582, 0.0), (9583, 0.0), (9584, 0.0), (9585, 0.0), (9586, 0.0), (9587, 0.0), (9588, 0.2324084132899214), (9589, 0.0), (9590, 0.17549148260719827), (9591, 0.0), (9592, 0.0), (9593, 0.5050154397005037), (9594, 0.1621128175904444), (9595, 0.2979419414724567), (9596, 0.26954439192295787), (9597, 0.25733057159885575), (9598, 0.0), (9599, 0.5050154397005037), (9600, 0.5050154397005037), (9601, 0.0), (9602, 0.21936875901445776), (9603, 0.5050154397005037), (9604, 0.0), (9605, 0.15432997064574216), (9606, 0.46640480307738325), (9607, 0.687440204432026), (9608, 0.14066141726491047), (9609, 0.0), (9610, 0.18320303459782844), (9611, 0.0), (9612, 0.4816216411105172), (9613, 0.0), (9614, 0.687440204432026), (9615, 0.0), (9616, 0.5050154397005037), (9617, 0.0), (9618, 0.23487691294360039), (9619, 0.5050154397005037), (9620, 0.16038736164582842), (9621, 0.0), (9622, 0.4340358229644783), (9623, 0.46640480307738325), (9624, 0.0), (9625, 0.0), (9626, 0.0), (9627, 0.5050154397005037), (9628, 1.0), (9629, 0.15432997064574216), (9630, 0.0), (9631, 0.5050154397005037), (9632, 0.5050154397005037), (9633, 0.16182658598094307), (9634, 0.0), (9635, 0.5050154397005037), (9636, 0.0), (9637, 0.5050154397005037), (9638, 0.0), (9639, 0.5028470699739411), (9640, 0.46640480307738325), (9641, 0.25733057159885575), (9642, 0.46640480307738325), (9643, 0.2632847110277334), (9644, 0.18270473677057544), (9645, 0.0), (9646, 0.5050154397005037), (9647, 0.16846533643358064), (9648, 0.46640480307738325), (9649, 0.46640480307738325), (9650, 0.687440204432026), (9651, 0.18320303459782844), (9652, 0.0), (9653, 0.687440204432026), (9654, 0.2632847110277334), (9655, 0.0), (9656, 0.46640480307738325), (9657, 0.17549148260719827), (9658, 0.5050154397005037), (9659, 0.5050154397005037), (9660, 0.863110309093865), (9661, 0.0), (9662, 0.5050154397005037), (9663, 0.0), (9664, 0.17549148260719827), (9665, 0.17877624871608866), (9666, 0.17549148260719827), (9667, 0.0), (9668, 0.0), (9669, 0.0), (9670, 0.1855541277310122), (9671, 0.5050154397005037), (9672, 0.46640480307738325), (9673, 0.0), (9674, 0.1432918572988705), (9675, 0.5050154397005037), (9676, 0.0), (9677, 0.5050154397005037), (9678, 0.0), (9679, 0.0), (9680, 0.687440204432026), (9681, 0.17598519974933385), (9682, 0.0), (9683, 0.2324084132899214), (9684, 0.5050154397005037), (9685, 0.5050154397005037), (9686, 0.5050154397005037), (9687, 0.0), (9688, 0.0), (9689, 0.0), (9690, 0.0), (9691, 1.0), (9692, 0.0), (9693, 0.0), (9694, 0.2632847110277334), (9695, 0.5050154397005037), (9696, 0.1621128175904444), (9697, 0.0), (9698, 0.687440204432026), (9699, 0.18320303459782844), (9700, 0.0), (9701, 0.17681724995926185), (9702, 0.0), (9703, 0.2979419414724567), (9704, 0.5050154397005037), (9705, 0.0), (9706, 0.0), (9707, 0.13742586293197015), (9708, 0.0), (9709, 0.2111389077263953), (9710, 0.0), (9711, 0.0), (9712, 0.18944994467494883), (9713, 0.1495351288186867), (9714, 0.23487691294360039), (9715, 0.8845713988516402), (9716, 0.5050154397005037), (9717, 0.1953274461062404), (9718, 0.687440204432026), (9719, 0.0), (9720, 0.0), (9721, 0.0), (9722, 0.0), (9723, 0.44798040769664355), (9724, 0.0), (9725, 0.863110309093865), (9726, 0.5050154397005037), (9727, 0.46640480307738325), (9728, 0.46640480307738325), (9729, 0.0), (9730, 0.0), (9731, 0.17692366660102257), (9732, 0.16434424583672172), (9733, 0.20139066877048853), (9734, 0.687440204432026), (9735, 0.0), (9736, 0.0), (9737, 0.1608882218258272), (9738, 0.17877624871608866), (9739, 0.46640480307738325), (9740, 0.0), (9741, 0.5050154397005037)]\n"
          ]
        }
      ],
      "source": [
        "print(cos_sim[3])\n",
        "print(\"\\nhello\\n\")\n",
        "cos_sim_scores=list(enumerate(cos_sim[3]))\n",
        "print(cos_sim_scores)"
      ]
    },
    {
      "cell_type": "markdown",
      "metadata": {
        "id": "atJ2AT2PwRua"
      },
      "source": [
        "#SVD matrix factorization model in collaborative filtering"
      ]
    },
    {
      "cell_type": "code",
      "execution_count": null,
      "metadata": {
        "id": "6tCAtk8UwTBN"
      },
      "outputs": [],
      "source": [
        "\n",
        "\n",
        "#Before we proceed to the modeling part, we need to convert our dataset into a Dataset object from the Surprise library.\n",
        "# In order to do this, we need to define a Reader object to be able to parse the DataFrame. We also need to follow this\n",
        "# specific column order: user ID, item ID, and rating.\n",
        "\n",
        "features=['userId','movieId','rating']\n",
        "reader = Reader(rating_scale=(min_rating, max_rating))\n",
        "data = Dataset.load_from_df(ratings[features], reader)\n",
        "\n",
        "#hyperparameter tuning using grdisearachcv\n",
        "#hyperparameter tuning is for finding out the most optimal parameters for a learning algorithm\n",
        "#It runs through all the different parameters that is fed into the parameter grid and produces the best combination\n",
        "# of parameters, based on a scoring metric of your choice\n",
        "param_grid = {'n_epochs': [5, 10], 'lr_all': [0.002, 0.005],\n",
        "              'reg_all': [0.4, 0.6]}\n",
        "\n",
        "#estimator: estimator object being used\n",
        "#param_grid: dictionary that contains all of the parameters to try\n",
        "#scoring: evaluation metric to use when ranking results\n",
        "#cv: cross-validation, the number of cv folds for each combination of parameters\n",
        "#metrics used for evaluation is root mean square and mean absolute error\n",
        "gs = GridSearchCV(SVD, param_grid, measures=['rmse', 'mae'], cv=3)"
      ]
    },
    {
      "cell_type": "code",
      "execution_count": null,
      "metadata": {
        "id": "w_WgbpJTQjxW"
      },
      "outputs": [],
      "source": [
        "gs.fit(data)"
      ]
    },
    {
      "cell_type": "code",
      "execution_count": null,
      "metadata": {
        "colab": {
          "base_uri": "https://localhost:8080/"
        },
        "id": "8Y4vALuFQyku",
        "outputId": "96a5cf78-7d52-4388-8c86-221a3811ce29"
      },
      "outputs": [
        {
          "output_type": "stream",
          "name": "stdout",
          "text": [
            "0.8941370314897473\n",
            "{'n_epochs': 10, 'lr_all': 0.005, 'reg_all': 0.4}\n"
          ]
        }
      ],
      "source": [
        "print(gs.best_score['rmse'])\n",
        "print(gs.best_params['rmse'])"
      ]
    },
    {
      "cell_type": "code",
      "execution_count": null,
      "metadata": {
        "colab": {
          "base_uri": "https://localhost:8080/"
        },
        "id": "4af6fAD7303Q",
        "outputId": "3f35ac0c-86c2-4905-a2c5-eb2acaec679a"
      },
      "outputs": [
        {
          "output_type": "stream",
          "name": "stdout",
          "text": [
            "0.6922187077764345\n",
            "{'n_epochs': 10, 'lr_all': 0.005, 'reg_all': 0.4}\n"
          ]
        }
      ],
      "source": [
        "print(gs.best_score['mae'])\n",
        "print(gs.best_params['mae'])"
      ]
    },
    {
      "cell_type": "code",
      "execution_count": null,
      "metadata": {
        "colab": {
          "base_uri": "https://localhost:8080/"
        },
        "id": "ebr9O_bbQ9wo",
        "outputId": "6fc9cfcf-c54b-4818-bf9d-41b6fa7d9daa"
      },
      "outputs": [
        {
          "output_type": "execute_result",
          "data": {
            "text/plain": [
              "<surprise.prediction_algorithms.matrix_factorization.SVD at 0x7fec7f2b4eb0>"
            ]
          },
          "metadata": {},
          "execution_count": 45
        }
      ],
      "source": [
        "#fitting the model over the whole dataset instead of cross validating the model\n",
        "best_params = gs.best_params['rmse']\n",
        "model_svd = gs.best_estimator['rmse']\n",
        "model_svd.fit(data.build_full_trainset())  #training the model on the data_trainset"
      ]
    },
    {
      "cell_type": "markdown",
      "source": [
        "#getting actual ratings from predictions"
      ],
      "metadata": {
        "id": "gI6BG1Nd9heP"
      }
    },
    {
      "cell_type": "code",
      "execution_count": null,
      "metadata": {
        "id": "PRG5Dy2cUBUi"
      },
      "outputs": [],
      "source": [
        "def get_rating_from_prediction( prediction, ratings_array ):\n",
        "    \"\"\"\n",
        "    return the closest rating number to the prediction value\n",
        "\n",
        "    Parameters\n",
        "    ----------\n",
        "    prediction: float, the prediction value from the model\n",
        "\n",
        "    ratings_array: the 1D array of the discrete rating number\n",
        "\n",
        "    Return\n",
        "    ------\n",
        "    the rating number corresponding to the prediction value\n",
        "    \"\"\"\n",
        "    rating = ratings_array[ np.argmin( [ np.abs(item - prediction) for item in ratings_array ] ) ]\n",
        "    return rating"
      ]
    },
    {
      "cell_type": "code",
      "execution_count": null,
      "metadata": {
        "colab": {
          "base_uri": "https://localhost:8080/"
        },
        "id": "VSvx8LkKVZp2",
        "outputId": "af267f3e-9041-440c-9613-138236003b96"
      },
      "outputs": [
        {
          "output_type": "stream",
          "name": "stdout",
          "text": [
            "rating 0    4.0\n",
            "Name: rating, dtype: float64\n",
            "prediction 4.379877964482093\n"
          ]
        }
      ],
      "source": [
        "prediction = model_svd.predict(1,1)\n",
        "print(\"rating\", ratings[(ratings.userId ==1 ) & (ratings.movieId ==1 ) ]['rating']  )\n",
        "print(\"prediction\",prediction.est)"
      ]
    },
    {
      "cell_type": "markdown",
      "metadata": {
        "id": "m8Gafy-vWOae"
      },
      "source": [
        "#make movie recommendation item based"
      ]
    },
    {
      "cell_type": "code",
      "execution_count": null,
      "metadata": {
        "id": "hS2gdR31WSVn"
      },
      "outputs": [],
      "source": [
        "def make_recommendation_item_based( similarity_matrix ,movieId_all_array, ratings_data, id_to_movie_map, \n",
        "                                   movieId_to_index_map, fav_movie_list, n_recommendations, userId=-99):\n",
        "    \"\"\"\n",
        "    return top n movie recommendation based on user's input list of favorite movies\n",
        "    Currently, fav_movie_list only support one input favorate movie\n",
        "\n",
        "    Parameters\n",
        "    ----------\n",
        "    similarity_matrix: 2d array, the pairwise similarity matrix\n",
        "\n",
        "    movieId_all_array: 1d array, the array of all movie Id\n",
        "\n",
        "    ratings_data: ratings data\n",
        "\n",
        "    id_to_movie_map: the map from movieId to movie title\n",
        "\n",
        "    movieId_to_index_map: the map from movieId to the index of the movie dataframe\n",
        "\n",
        "    fav_movie_list: list, user's list of favorite movies\n",
        "\n",
        "    n_recommendations: int, top n recommendations\n",
        "\n",
        "    userId: int optional (default=-99), the user Id\n",
        "            if userId = -99, the new user will be created\n",
        "            if userId = -1, the latest inserted user is chosen\n",
        "\n",
        "    Return\n",
        "    ------\n",
        "    list of top n movie recommendations\n",
        "\n",
        "    \"\"\"\n",
        "\n",
        "    if (userId == -99):\n",
        "      userId = np.amax( ratings_data['userId'].unique() ) + 1\n",
        "    elif (userId == -1):\n",
        "      userId = np.amax( ratings_data['userId'].unique() )\n",
        "   \n",
        "   #to store the id of all the movies that are currently in fav movielist\n",
        "    movieId_list = []\n",
        "    for movie_name in fav_movie_list:\n",
        "      movieId_list.append( get_movieId(movie_name) )    \n",
        "\n",
        "    # Get the movie id which is corresponding to the movie the user didn't watch before\n",
        "\n",
        "    #creat a list of all the unique movieIds corresponding to our particulr user\n",
        "    movieId_user_exist = list( ratings_data[ ratings_data.userId==userId ]['movieId'].unique() )\n",
        "\n",
        "    #add teh previous movies where the user exists to \n",
        "    movieId_user_exist = movieId_user_exist + movieId_list\n",
        "    movieId_input = []\n",
        "\n",
        "    # if a particular movie the user has not watched, we append the movieid in movieId.input\n",
        "    for movieId in movieId_all_array:\n",
        "      if (movieId not in movieId_user_exist):\n",
        "         movieId_input.append( movieId )\n",
        "\n",
        "     #we find the index of the first movie in the movieId_to_index_map\n",
        "    index = movieId_to_index_map[movieId_list[0]]\n",
        "\n",
        "    #\n",
        "    cos_sim_scores=list(enumerate(similarity_matrix[index]))\n",
        "    cos_sim_scores=sorted(cos_sim_scores,key=lambda x:x[1],reverse=True) \n",
        "\n",
        "   #to store the index of the top movies\n",
        "    topn_movieIndex = []\n",
        "    icount = 0\n",
        "\n",
        "    #traversing the similarity matrix\n",
        "\n",
        "    #we find the index of all the movies the user has not watched yet and append the cosine similarity  corresponding to those indexes to the resultant list\n",
        "    for i in range(len(cos_sim_scores)):\n",
        "      if( cos_sim_scores[i][0] in [movieId_to_index_map[ids] for ids in movieId_input ]  ):\n",
        "        icount += 1\n",
        "        topn_movieIndex.append( cos_sim_scores[i][0] )\n",
        "        #if we have found the top n recommendatins we will break\n",
        "        if( icount == n_recommendations ):\n",
        "          break\n",
        "    \n",
        "    topn_movie = [ movies.loc[index].title for index in topn_movieIndex ]\n",
        "    return topn_movie"
      ]
    },
    {
      "cell_type": "markdown",
      "metadata": {
        "id": "qRiSt3iw1X8D"
      },
      "source": [
        "#movie recommendation using user based approach"
      ]
    },
    {
      "cell_type": "code",
      "execution_count": null,
      "metadata": {
        "id": "sIgtga5q1Zo-"
      },
      "outputs": [],
      "source": [
        "def make_recommendation_user_based(best_model_params, movieId_all_array, ratings_data, id_to_movie_map,\n",
        "                        fav_movie_list, n_recommendations, userId=-99 ):\n",
        "    \"\"\"\n",
        "    return top n movie recommendation based on user's input list of favorite movies\n",
        "    Currently, fav_movie_list only support one input favorate movie\n",
        "\n",
        "\n",
        "    Parameters\n",
        "    ----------\n",
        "    best_model_params: dict, {'iterations': iter, 'rank': rank, 'lambda_': reg}\n",
        "\n",
        "    movieId_all_array: the array of all movie Id\n",
        "\n",
        "    ratings_data: ratings data\n",
        "\n",
        "    id_to_movie_map: the map from movieId to movie title\n",
        "\n",
        "    fav_movie_list: list, user's list of favorite movies\n",
        "\n",
        "    n_recommendations: int, top n recommendations\n",
        "\n",
        "    userId: int optional (default=-99), the user Id\n",
        "            if userId = -99, the new user will be created\n",
        "            if userId = -1, the latest inserted user is chosen\n",
        "\n",
        "    Return\n",
        "    ------\n",
        "    list of top n movie recommendations\n",
        "    \"\"\"\n",
        "    movieId_list = []\n",
        "    for movie_name in fav_movie_list:\n",
        "      movieId_list.append( get_movieId(movie_name) )\n",
        "\n",
        "    if (userId == -99):\n",
        "      userId = np.amax( ratings_data['userId'].unique() ) + 1\n",
        "    elif (userId == -1):\n",
        "      userId = np.amax( ratings_data['userId'].unique() )\n",
        "\n",
        "    ratings_array = ratings['rating'].unique()\n",
        "    max_rating = np.amax( ratings_array )\n",
        "    min_rating = np.amin( ratings_array )\n",
        "\n",
        "    \n",
        "    # create a new trainset by adding the movies in the fav list into the previous ratings list\n",
        "    user_rows = [[userId, movieId, max_rating] for movieId in movieId_list]\n",
        "    df = pd.DataFrame(user_rows, columns =['userId', 'movieId', 'rating']) \n",
        "    train_data = pd.concat([ratings_data, df], ignore_index=True, sort=False)\n",
        "\n",
        "    # Get the movie id corresponding to the movie the user didn't watch before\n",
        "    movieId_user_exist = train_data[ train_data.userId==userId ]['movieId'].unique()\n",
        "    movieId_input = []\n",
        "    for movieId in movieId_all_array:\n",
        "      if (movieId not in movieId_user_exist):\n",
        "         movieId_input.append( movieId )\n",
        "    \n",
        "  \n",
        "    reader = Reader(rating_scale=(min_rating, max_rating))\n",
        "#loading the new dataset with a new user into the  dataset object\n",
        "    data = Dataset.load_from_df(train_data, reader)\n",
        "\n",
        "#training the model on the new trainset with a new user and previous set of best params generated.\n",
        "    model = SVD(**best_model_params)\n",
        "    model.fit(data.build_full_trainset())\n",
        "\n",
        "#store the prediction for ratings given for all the movies the user has not watched yet\n",
        "    predictions = []\n",
        "    for movieId in movieId_input:\n",
        "      predictions.append( model.predict(userId,movieId) )\n",
        "\n",
        "    #sort the estimated ratings in reverse order\n",
        "    sort_index = sorted(range(len(predictions)), key=lambda k: predictions[k].est, reverse=True)\n",
        "\n",
        "    topn_predictions = [ predictions[i].est for i in sort_index[0:min(n_recommendations,len(predictions))] ]\n",
        "    topn_movieIds = [ movieId_input[i] for i in sort_index[0:min(n_recommendations,len(predictions))] ]\n",
        "    topn_rating = [ get_rating_from_prediction( pre, ratings_array ) for pre in topn_predictions ]\n",
        "\n",
        "    topn_movie = [ id_to_movie_map[ ids ] for ids in topn_movieIds ]\n",
        "    return topn_movie"
      ]
    },
    {
      "cell_type": "markdown",
      "metadata": {
        "id": "3wpQDzgl1nOW"
      },
      "source": [
        "#make a movie recommendation"
      ]
    },
    {
      "cell_type": "code",
      "execution_count": null,
      "metadata": {
        "colab": {
          "base_uri": "https://localhost:8080/"
        },
        "id": "Snb7wcZ4gVed",
        "outputId": "47eb62f1-0902-40fc-9f15-4cc85831d475"
      },
      "outputs": [
        {
          "output_type": "stream",
          "name": "stdout",
          "text": [
            "The matched item might be: Othello (1995) , ratio= 67\n",
            "The matched item might be: Othello (1995) , ratio= 67\n",
            "-------------Search based on item's content similarity--------------------\n",
            "The movies similar to ['Othello'] :\n",
            "1 Nixon (1995)\n",
            "2 Dangerous Minds (1995)\n",
            "3 Cry, the Beloved Country (1995)\n",
            "4 Restoration (1995)\n",
            "5 Georgia (1995)\n",
            "6 Home for the Holidays (1995)\n",
            "7 Mr. Holland's Opus (1995)\n",
            "8 Boys of St. Vincent, The (1992)\n",
            "9 Basketball Diaries, The (1995)\n",
            "10 Awfully Big Adventure, An (1995)\n",
            "--------------Search based on similarity between user's preference--------------------------------------\n",
            "The users like ['Othello'] also like:\n",
            "1 Shawshank Redemption, The (1994)\n",
            "2 Dr. Strangelove or: How I Learned to Stop Worrying and Love the Bomb (1964)\n",
            "3 Godfather, The (1972)\n",
            "4 Rear Window (1954)\n",
            "5 Lawrence of Arabia (1962)\n",
            "6 Fight Club (1999)\n",
            "7 Pulp Fiction (1994)\n",
            "8 In the Name of the Father (1993)\n",
            "9 Goodfellas (1990)\n",
            "10 Apocalypse Now (1979)\n"
          ]
        }
      ],
      "source": [
        "my_favorite_movies = ['Othello']\n",
        "\n",
        "# get recommends\n",
        "n_recommendations = 10\n",
        "\n",
        "recommends_item_based = make_recommendation_item_based( \n",
        "    similarity_matrix = cos_sim,\n",
        "    movieId_all_array = movieId_all_array,\n",
        "    ratings_data = ratings[features], \n",
        "    id_to_movie_map = reverse_movie_map, \n",
        "    movieId_to_index_map = movieId_to_index_map,\n",
        "    fav_movie_list = my_favorite_movies, \n",
        "    n_recommendations = n_recommendations)\n",
        "\n",
        "recommends_user_based = make_recommendation_user_based(\n",
        "    best_model_params = best_params, \n",
        "    movieId_all_array = movieId_all_array,\n",
        "    ratings_data = ratings[features], \n",
        "    id_to_movie_map = reverse_movie_map, \n",
        "    fav_movie_list = my_favorite_movies, \n",
        "    n_recommendations = n_recommendations)\n",
        "\n",
        "print(\"-------------Search based on item's content similarity--------------------\")\n",
        "print('The movies similar to' , my_favorite_movies , ':' )\n",
        "for i, title in enumerate(recommends_item_based):\n",
        "    print(i+1, title)  \n",
        "if( len(recommends_item_based) < n_recommendations ):\n",
        "  print(\"Sadly, we couldn't offer so many recommendations :(\")    \n",
        "\n",
        "print(\"--------------Search based on similarity between user's preference--------------------------------------\")\n",
        "print('The users like' , my_favorite_movies , 'also like:')\n",
        "for i, title in enumerate(recommends_user_based):\n",
        "    print(i+1, title)\n",
        "if( len(recommends_user_based) < n_recommendations ):\n",
        "  print(\"Sadly, we couldn't offer so many recommendations :(\")"
      ]
    },
    {
      "cell_type": "markdown",
      "metadata": {
        "id": "2Am0YnyxIkJ5"
      },
      "source": [
        "#creating the database"
      ]
    },
    {
      "cell_type": "code",
      "execution_count": null,
      "metadata": {
        "id": "KR_OjVVM1qtA"
      },
      "outputs": [],
      "source": [
        "#function returning the resultant movie list\n",
        "def findMovie(currMovie):\n",
        "    my_favorite_movies = [currMovie]\n",
        "\n",
        "    #get recommends item based\n",
        "    recommends_item_based = make_recommendation_item_based( \n",
        "    similarity_matrix = cos_sim,\n",
        "    movieId_all_array = movieId_all_array,\n",
        "    ratings_data = ratings[features], \n",
        "    id_to_movie_map = reverse_movie_map, \n",
        "    movieId_to_index_map = movieId_to_index_map,\n",
        "    fav_movie_list = my_favorite_movies, \n",
        "    n_recommendations = n_recommendations)\n",
        "\n",
        "    # get recommends user based\n",
        "    ''' n_recommendations = 10\n",
        "    recommends_user_based = make_recommendation_user_based(\n",
        "    best_model_params = best_params, \n",
        "    movieId_all_array = movieId_all_array,\n",
        "    ratings_data = ratings[features], \n",
        "    id_to_movie_map = reverse_movie_map, \n",
        "    fav_movie_list = my_favorite_movies, \n",
        "    n_recommendations = n_recommendations)'''\n",
        "\n",
        "    return recommends_item_based"
      ]
    },
    {
      "cell_type": "code",
      "execution_count": null,
      "metadata": {
        "colab": {
          "base_uri": "https://localhost:8080/",
          "height": 1000
        },
        "id": "pDfm94HDDoLY",
        "outputId": "74bb98a0-aa19-4c93-c558-53408eb4887f"
      },
      "outputs": [
        {
          "output_type": "display_data",
          "data": {
            "text/plain": [
              "                                    Toy Story (1995)  \\\n",
              "0                                        Antz (1998)   \n",
              "1                                 Toy Story 2 (1999)   \n",
              "2     Adventures of Rocky and Bullwinkle, The (2000)   \n",
              "3                   Emperor's New Groove, The (2000)   \n",
              "4                              Monsters, Inc. (2001)   \n",
              "5                                   Wild, The (2006)   \n",
              "6                             Shrek the Third (2007)   \n",
              "7                     Tale of Despereaux, The (2008)   \n",
              "8  Asterix and the Vikings (Astérix et les Viking...   \n",
              "9                                       Turbo (2013)   \n",
              "\n",
              "                                      Jumanji (1995)  \\\n",
              "0                 Indian in the Cupboard, The (1995)   \n",
              "1                  NeverEnding Story III, The (1994)   \n",
              "2                    Escape to Witch Mountain (1975)   \n",
              "3          Darby O'Gill and the Little People (1959)   \n",
              "4                                Return to Oz (1985)   \n",
              "5                      NeverEnding Story, The (1984)   \n",
              "6  NeverEnding Story II: The Next Chapter, The (1...   \n",
              "7                      Santa Claus: The Movie (1985)   \n",
              "8  Harry Potter and the Sorcerer's Stone (a.k.a. ...   \n",
              "9  Chronicles of Narnia: The Lion, the Witch and ...   \n",
              "\n",
              "              Grumpier Old Men (1995)  \\\n",
              "0                      Sabrina (1995)   \n",
              "1                     Clueless (1995)   \n",
              "2                Two if by Sea (1996)   \n",
              "3  French Twist (Gazon maudit) (1995)   \n",
              "4                 If Lucy Fell (1996)   \n",
              "5                    Boomerang (1992)   \n",
              "6               Pie in the Sky (1996)   \n",
              "7                     Mallrats (1995)   \n",
              "8                  Nine Months (1995)   \n",
              "9                 Forget Paris (1995)   \n",
              "\n",
              "                      Waiting to Exhale (1995)  \\\n",
              "0               American President, The (1995)   \n",
              "1                      Mighty Aphrodite (1995)   \n",
              "2            Postman, The (Postino, Il) (1994)   \n",
              "3                       Beautiful Girls (1996)   \n",
              "4               Something to Talk About (1995)   \n",
              "5                      Don Juan DeMarco (1995)   \n",
              "6  Eat Drink Man Woman (Yin shi nan nu) (1994)   \n",
              "7                         Nobody's Fool (1994)   \n",
              "8                      Corrina, Corrina (1994)   \n",
              "9                   I Like It Like That (1994)   \n",
              "\n",
              "      Father of the Bride Part II (1995)                        Heat (1995)  \\\n",
              "0                      Four Rooms (1995)                   Assassins (1995)   \n",
              "1  Ace Ventura: When Nature Calls (1995)  Die Hard: With a Vengeance (1995)   \n",
              "2                        Bio-Dome (1996)                    Net, The (1995)   \n",
              "3                          Friday (1995)        Natural Born Killers (1994)   \n",
              "4                     Black Sheep (1996)              Judgment Night (1993)   \n",
              "5                       Mr. Wrong (1996)                      Batman (1989)   \n",
              "6                   Happy Gilmore (1996)                    Die Hard (1988)   \n",
              "7         Steal Big, Steal Little (1995)                   Hard Rain (1998)   \n",
              "8          Flirting With Disaster (1996)    Replacement Killers, The (1998)   \n",
              "9                  Down Periscope (1996)               U.S. Marshals (1998)   \n",
              "\n",
              "                       Sabrina (1995)  \\\n",
              "0             Grumpier Old Men (1995)   \n",
              "1                     Clueless (1995)   \n",
              "2                Two if by Sea (1996)   \n",
              "3  French Twist (Gazon maudit) (1995)   \n",
              "4                 If Lucy Fell (1996)   \n",
              "5                    Boomerang (1992)   \n",
              "6               Pie in the Sky (1996)   \n",
              "7                     Mallrats (1995)   \n",
              "8                  Nine Months (1995)   \n",
              "9                 Forget Paris (1995)   \n",
              "\n",
              "                                 Tom and Huck (1995)  \\\n",
              "0                Amazing Panda Adventure, The (1995)   \n",
              "1                                      Casper (1995)   \n",
              "2  Far From Home: The Adventures of Yellow Dog (1...   \n",
              "3                                      Lassie (1994)   \n",
              "4    Homeward Bound II: Lost in San Francisco (1996)   \n",
              "5                                     Flipper (1996)   \n",
              "6                                      Alaska (1996)   \n",
              "7                Adventures of Pinocchio, The (1996)   \n",
              "8                               Fly Away Home (1996)   \n",
              "9                       Swiss Family Robinson (1960)   \n",
              "\n",
              "                                 Sudden Death (1995)  \\\n",
              "0                                   Fair Game (1995)   \n",
              "1               Under Siege 2: Dark Territory (1995)   \n",
              "2                                 Hunted, The (1995)   \n",
              "3  Bloodsport 2 (a.k.a. Bloodsport II: The Next K...   \n",
              "4         Best of the Best 3: No Turning Back (1995)   \n",
              "5                                 Double Team (1997)   \n",
              "6                                       Steel (1997)   \n",
              "7                                   Knock Off (1998)   \n",
              "8                                   Avalanche (1978)   \n",
              "9                        Aces: Iron Eagle III (1992)   \n",
              "\n",
              "            GoldenEye (1995)  \n",
              "0        Broken Arrow (1996)  \n",
              "1         Cliffhanger (1993)  \n",
              "2  Executive Decision (1996)  \n",
              "3  Surviving the Game (1994)  \n",
              "4           Rock, The (1996)  \n",
              "5      Chain Reaction (1996)  \n",
              "6        Maximum Risk (1996)  \n",
              "7          Die Hard 2 (1990)  \n",
              "8            Anaconda (1997)  \n",
              "9             Con Air (1997)  "
            ],
            "text/html": [
              "\n",
              "  <div id=\"df-392466e2-faf3-4a25-9add-3e1f4978e2dd\">\n",
              "    <div class=\"colab-df-container\">\n",
              "      <div>\n",
              "<style scoped>\n",
              "    .dataframe tbody tr th:only-of-type {\n",
              "        vertical-align: middle;\n",
              "    }\n",
              "\n",
              "    .dataframe tbody tr th {\n",
              "        vertical-align: top;\n",
              "    }\n",
              "\n",
              "    .dataframe thead th {\n",
              "        text-align: right;\n",
              "    }\n",
              "</style>\n",
              "<table border=\"1\" class=\"dataframe\">\n",
              "  <thead>\n",
              "    <tr style=\"text-align: right;\">\n",
              "      <th></th>\n",
              "      <th>Toy Story (1995)</th>\n",
              "      <th>Jumanji (1995)</th>\n",
              "      <th>Grumpier Old Men (1995)</th>\n",
              "      <th>Waiting to Exhale (1995)</th>\n",
              "      <th>Father of the Bride Part II (1995)</th>\n",
              "      <th>Heat (1995)</th>\n",
              "      <th>Sabrina (1995)</th>\n",
              "      <th>Tom and Huck (1995)</th>\n",
              "      <th>Sudden Death (1995)</th>\n",
              "      <th>GoldenEye (1995)</th>\n",
              "    </tr>\n",
              "  </thead>\n",
              "  <tbody>\n",
              "    <tr>\n",
              "      <th>0</th>\n",
              "      <td>Antz (1998)</td>\n",
              "      <td>Indian in the Cupboard, The (1995)</td>\n",
              "      <td>Sabrina (1995)</td>\n",
              "      <td>American President, The (1995)</td>\n",
              "      <td>Four Rooms (1995)</td>\n",
              "      <td>Assassins (1995)</td>\n",
              "      <td>Grumpier Old Men (1995)</td>\n",
              "      <td>Amazing Panda Adventure, The (1995)</td>\n",
              "      <td>Fair Game (1995)</td>\n",
              "      <td>Broken Arrow (1996)</td>\n",
              "    </tr>\n",
              "    <tr>\n",
              "      <th>1</th>\n",
              "      <td>Toy Story 2 (1999)</td>\n",
              "      <td>NeverEnding Story III, The (1994)</td>\n",
              "      <td>Clueless (1995)</td>\n",
              "      <td>Mighty Aphrodite (1995)</td>\n",
              "      <td>Ace Ventura: When Nature Calls (1995)</td>\n",
              "      <td>Die Hard: With a Vengeance (1995)</td>\n",
              "      <td>Clueless (1995)</td>\n",
              "      <td>Casper (1995)</td>\n",
              "      <td>Under Siege 2: Dark Territory (1995)</td>\n",
              "      <td>Cliffhanger (1993)</td>\n",
              "    </tr>\n",
              "    <tr>\n",
              "      <th>2</th>\n",
              "      <td>Adventures of Rocky and Bullwinkle, The (2000)</td>\n",
              "      <td>Escape to Witch Mountain (1975)</td>\n",
              "      <td>Two if by Sea (1996)</td>\n",
              "      <td>Postman, The (Postino, Il) (1994)</td>\n",
              "      <td>Bio-Dome (1996)</td>\n",
              "      <td>Net, The (1995)</td>\n",
              "      <td>Two if by Sea (1996)</td>\n",
              "      <td>Far From Home: The Adventures of Yellow Dog (1...</td>\n",
              "      <td>Hunted, The (1995)</td>\n",
              "      <td>Executive Decision (1996)</td>\n",
              "    </tr>\n",
              "    <tr>\n",
              "      <th>3</th>\n",
              "      <td>Emperor's New Groove, The (2000)</td>\n",
              "      <td>Darby O'Gill and the Little People (1959)</td>\n",
              "      <td>French Twist (Gazon maudit) (1995)</td>\n",
              "      <td>Beautiful Girls (1996)</td>\n",
              "      <td>Friday (1995)</td>\n",
              "      <td>Natural Born Killers (1994)</td>\n",
              "      <td>French Twist (Gazon maudit) (1995)</td>\n",
              "      <td>Lassie (1994)</td>\n",
              "      <td>Bloodsport 2 (a.k.a. Bloodsport II: The Next K...</td>\n",
              "      <td>Surviving the Game (1994)</td>\n",
              "    </tr>\n",
              "    <tr>\n",
              "      <th>4</th>\n",
              "      <td>Monsters, Inc. (2001)</td>\n",
              "      <td>Return to Oz (1985)</td>\n",
              "      <td>If Lucy Fell (1996)</td>\n",
              "      <td>Something to Talk About (1995)</td>\n",
              "      <td>Black Sheep (1996)</td>\n",
              "      <td>Judgment Night (1993)</td>\n",
              "      <td>If Lucy Fell (1996)</td>\n",
              "      <td>Homeward Bound II: Lost in San Francisco (1996)</td>\n",
              "      <td>Best of the Best 3: No Turning Back (1995)</td>\n",
              "      <td>Rock, The (1996)</td>\n",
              "    </tr>\n",
              "    <tr>\n",
              "      <th>5</th>\n",
              "      <td>Wild, The (2006)</td>\n",
              "      <td>NeverEnding Story, The (1984)</td>\n",
              "      <td>Boomerang (1992)</td>\n",
              "      <td>Don Juan DeMarco (1995)</td>\n",
              "      <td>Mr. Wrong (1996)</td>\n",
              "      <td>Batman (1989)</td>\n",
              "      <td>Boomerang (1992)</td>\n",
              "      <td>Flipper (1996)</td>\n",
              "      <td>Double Team (1997)</td>\n",
              "      <td>Chain Reaction (1996)</td>\n",
              "    </tr>\n",
              "    <tr>\n",
              "      <th>6</th>\n",
              "      <td>Shrek the Third (2007)</td>\n",
              "      <td>NeverEnding Story II: The Next Chapter, The (1...</td>\n",
              "      <td>Pie in the Sky (1996)</td>\n",
              "      <td>Eat Drink Man Woman (Yin shi nan nu) (1994)</td>\n",
              "      <td>Happy Gilmore (1996)</td>\n",
              "      <td>Die Hard (1988)</td>\n",
              "      <td>Pie in the Sky (1996)</td>\n",
              "      <td>Alaska (1996)</td>\n",
              "      <td>Steel (1997)</td>\n",
              "      <td>Maximum Risk (1996)</td>\n",
              "    </tr>\n",
              "    <tr>\n",
              "      <th>7</th>\n",
              "      <td>Tale of Despereaux, The (2008)</td>\n",
              "      <td>Santa Claus: The Movie (1985)</td>\n",
              "      <td>Mallrats (1995)</td>\n",
              "      <td>Nobody's Fool (1994)</td>\n",
              "      <td>Steal Big, Steal Little (1995)</td>\n",
              "      <td>Hard Rain (1998)</td>\n",
              "      <td>Mallrats (1995)</td>\n",
              "      <td>Adventures of Pinocchio, The (1996)</td>\n",
              "      <td>Knock Off (1998)</td>\n",
              "      <td>Die Hard 2 (1990)</td>\n",
              "    </tr>\n",
              "    <tr>\n",
              "      <th>8</th>\n",
              "      <td>Asterix and the Vikings (Astérix et les Viking...</td>\n",
              "      <td>Harry Potter and the Sorcerer's Stone (a.k.a. ...</td>\n",
              "      <td>Nine Months (1995)</td>\n",
              "      <td>Corrina, Corrina (1994)</td>\n",
              "      <td>Flirting With Disaster (1996)</td>\n",
              "      <td>Replacement Killers, The (1998)</td>\n",
              "      <td>Nine Months (1995)</td>\n",
              "      <td>Fly Away Home (1996)</td>\n",
              "      <td>Avalanche (1978)</td>\n",
              "      <td>Anaconda (1997)</td>\n",
              "    </tr>\n",
              "    <tr>\n",
              "      <th>9</th>\n",
              "      <td>Turbo (2013)</td>\n",
              "      <td>Chronicles of Narnia: The Lion, the Witch and ...</td>\n",
              "      <td>Forget Paris (1995)</td>\n",
              "      <td>I Like It Like That (1994)</td>\n",
              "      <td>Down Periscope (1996)</td>\n",
              "      <td>U.S. Marshals (1998)</td>\n",
              "      <td>Forget Paris (1995)</td>\n",
              "      <td>Swiss Family Robinson (1960)</td>\n",
              "      <td>Aces: Iron Eagle III (1992)</td>\n",
              "      <td>Con Air (1997)</td>\n",
              "    </tr>\n",
              "  </tbody>\n",
              "</table>\n",
              "</div>\n",
              "      <button class=\"colab-df-convert\" onclick=\"convertToInteractive('df-392466e2-faf3-4a25-9add-3e1f4978e2dd')\"\n",
              "              title=\"Convert this dataframe to an interactive table.\"\n",
              "              style=\"display:none;\">\n",
              "        \n",
              "  <svg xmlns=\"http://www.w3.org/2000/svg\" height=\"24px\"viewBox=\"0 0 24 24\"\n",
              "       width=\"24px\">\n",
              "    <path d=\"M0 0h24v24H0V0z\" fill=\"none\"/>\n",
              "    <path d=\"M18.56 5.44l.94 2.06.94-2.06 2.06-.94-2.06-.94-.94-2.06-.94 2.06-2.06.94zm-11 1L8.5 8.5l.94-2.06 2.06-.94-2.06-.94L8.5 2.5l-.94 2.06-2.06.94zm10 10l.94 2.06.94-2.06 2.06-.94-2.06-.94-.94-2.06-.94 2.06-2.06.94z\"/><path d=\"M17.41 7.96l-1.37-1.37c-.4-.4-.92-.59-1.43-.59-.52 0-1.04.2-1.43.59L10.3 9.45l-7.72 7.72c-.78.78-.78 2.05 0 2.83L4 21.41c.39.39.9.59 1.41.59.51 0 1.02-.2 1.41-.59l7.78-7.78 2.81-2.81c.8-.78.8-2.07 0-2.86zM5.41 20L4 18.59l7.72-7.72 1.47 1.35L5.41 20z\"/>\n",
              "  </svg>\n",
              "      </button>\n",
              "      \n",
              "  <style>\n",
              "    .colab-df-container {\n",
              "      display:flex;\n",
              "      flex-wrap:wrap;\n",
              "      gap: 12px;\n",
              "    }\n",
              "\n",
              "    .colab-df-convert {\n",
              "      background-color: #E8F0FE;\n",
              "      border: none;\n",
              "      border-radius: 50%;\n",
              "      cursor: pointer;\n",
              "      display: none;\n",
              "      fill: #1967D2;\n",
              "      height: 32px;\n",
              "      padding: 0 0 0 0;\n",
              "      width: 32px;\n",
              "    }\n",
              "\n",
              "    .colab-df-convert:hover {\n",
              "      background-color: #E2EBFA;\n",
              "      box-shadow: 0px 1px 2px rgba(60, 64, 67, 0.3), 0px 1px 3px 1px rgba(60, 64, 67, 0.15);\n",
              "      fill: #174EA6;\n",
              "    }\n",
              "\n",
              "    [theme=dark] .colab-df-convert {\n",
              "      background-color: #3B4455;\n",
              "      fill: #D2E3FC;\n",
              "    }\n",
              "\n",
              "    [theme=dark] .colab-df-convert:hover {\n",
              "      background-color: #434B5C;\n",
              "      box-shadow: 0px 1px 3px 1px rgba(0, 0, 0, 0.15);\n",
              "      filter: drop-shadow(0px 1px 2px rgba(0, 0, 0, 0.3));\n",
              "      fill: #FFFFFF;\n",
              "    }\n",
              "  </style>\n",
              "\n",
              "      <script>\n",
              "        const buttonEl =\n",
              "          document.querySelector('#df-392466e2-faf3-4a25-9add-3e1f4978e2dd button.colab-df-convert');\n",
              "        buttonEl.style.display =\n",
              "          google.colab.kernel.accessAllowed ? 'block' : 'none';\n",
              "\n",
              "        async function convertToInteractive(key) {\n",
              "          const element = document.querySelector('#df-392466e2-faf3-4a25-9add-3e1f4978e2dd');\n",
              "          const dataTable =\n",
              "            await google.colab.kernel.invokeFunction('convertToInteractive',\n",
              "                                                     [key], {});\n",
              "          if (!dataTable) return;\n",
              "\n",
              "          const docLinkHtml = 'Like what you see? Visit the ' +\n",
              "            '<a target=\"_blank\" href=https://colab.research.google.com/notebooks/data_table.ipynb>data table notebook</a>'\n",
              "            + ' to learn more about interactive tables.';\n",
              "          element.innerHTML = '';\n",
              "          dataTable['output_type'] = 'display_data';\n",
              "          await google.colab.output.renderOutput(dataTable, element);\n",
              "          const docLink = document.createElement('div');\n",
              "          docLink.innerHTML = docLinkHtml;\n",
              "          element.appendChild(docLink);\n",
              "        }\n",
              "      </script>\n",
              "    </div>\n",
              "  </div>\n",
              "  "
            ]
          },
          "metadata": {}
        }
      ],
      "source": [
        "#storing the resultant list corrersponding to every movie in a dataframe\n",
        "resultDataframe=pd.DataFrame()\n",
        "for i in movies['title'][:10]:\n",
        "  col=findMovie(i)\n",
        "  tempDataframe=pd.DataFrame(col,columns=[i])\n",
        "  resultDataframe=pd.concat([resultDataframe,tempDataframe],axis=1)\n",
        "display(resultDataframe)"
      ]
    },
    {
      "cell_type": "markdown",
      "source": [
        "#converting the dataframe into a csv file"
      ],
      "metadata": {
        "id": "GiRIGqmc9p7X"
      }
    },
    {
      "cell_type": "code",
      "execution_count": null,
      "metadata": {
        "colab": {
          "base_uri": "https://localhost:8080/"
        },
        "id": "9tlqyXjaHqKS",
        "outputId": "cc75a2f1-ed00-4c03-e7c0-c3179dd389f4"
      },
      "outputs": [
        {
          "output_type": "stream",
          "name": "stdout",
          "text": [
            "movies.csv  movie_similarity.csv  ratings.csv  sample_data\n"
          ]
        }
      ],
      "source": [
        "#converting the dataframe into a csv file\n",
        "resultDataframe.to_csv('movie_similarity.csv',index=False)\n",
        "! ls"
      ]
    },
    {
      "cell_type": "code",
      "execution_count": null,
      "metadata": {
        "colab": {
          "base_uri": "https://localhost:8080/",
          "height": 667
        },
        "id": "6GhL_YCN5MLW",
        "outputId": "a1b59ea0-877e-410d-e286-645c04c67296"
      },
      "outputs": [
        {
          "output_type": "execute_result",
          "data": {
            "text/plain": [
              "                                 Toy Story (1995)  \\\n",
              "0                                     Antz (1998)   \n",
              "1                              Toy Story 2 (1999)   \n",
              "2  Adventures of Rocky and Bullwinkle, The (2000)   \n",
              "3                Emperor's New Groove, The (2000)   \n",
              "4                           Monsters, Inc. (2001)   \n",
              "\n",
              "                              Jumanji (1995)  \\\n",
              "0         Indian in the Cupboard, The (1995)   \n",
              "1          NeverEnding Story III, The (1994)   \n",
              "2            Escape to Witch Mountain (1975)   \n",
              "3  Darby O'Gill and the Little People (1959)   \n",
              "4                        Return to Oz (1985)   \n",
              "\n",
              "              Grumpier Old Men (1995)           Waiting to Exhale (1995)  \\\n",
              "0                      Sabrina (1995)     American President, The (1995)   \n",
              "1                     Clueless (1995)            Mighty Aphrodite (1995)   \n",
              "2                Two if by Sea (1996)  Postman, The (Postino, Il) (1994)   \n",
              "3  French Twist (Gazon maudit) (1995)             Beautiful Girls (1996)   \n",
              "4                 If Lucy Fell (1996)     Something to Talk About (1995)   \n",
              "\n",
              "      Father of the Bride Part II (1995)                        Heat (1995)  \\\n",
              "0                      Four Rooms (1995)                   Assassins (1995)   \n",
              "1  Ace Ventura: When Nature Calls (1995)  Die Hard: With a Vengeance (1995)   \n",
              "2                        Bio-Dome (1996)                    Net, The (1995)   \n",
              "3                          Friday (1995)        Natural Born Killers (1994)   \n",
              "4                     Black Sheep (1996)              Judgment Night (1993)   \n",
              "\n",
              "                       Sabrina (1995)  \\\n",
              "0             Grumpier Old Men (1995)   \n",
              "1                     Clueless (1995)   \n",
              "2                Two if by Sea (1996)   \n",
              "3  French Twist (Gazon maudit) (1995)   \n",
              "4                 If Lucy Fell (1996)   \n",
              "\n",
              "                                 Tom and Huck (1995)  \\\n",
              "0                Amazing Panda Adventure, The (1995)   \n",
              "1                                      Casper (1995)   \n",
              "2  Far From Home: The Adventures of Yellow Dog (1...   \n",
              "3                                      Lassie (1994)   \n",
              "4    Homeward Bound II: Lost in San Francisco (1996)   \n",
              "\n",
              "                                 Sudden Death (1995)  \\\n",
              "0                                   Fair Game (1995)   \n",
              "1               Under Siege 2: Dark Territory (1995)   \n",
              "2                                 Hunted, The (1995)   \n",
              "3  Bloodsport 2 (a.k.a. Bloodsport II: The Next K...   \n",
              "4         Best of the Best 3: No Turning Back (1995)   \n",
              "\n",
              "            GoldenEye (1995)  \n",
              "0        Broken Arrow (1996)  \n",
              "1         Cliffhanger (1993)  \n",
              "2  Executive Decision (1996)  \n",
              "3  Surviving the Game (1994)  \n",
              "4           Rock, The (1996)  "
            ],
            "text/html": [
              "\n",
              "  <div id=\"df-24b46db2-4460-48ae-a5c0-c34075d87f47\">\n",
              "    <div class=\"colab-df-container\">\n",
              "      <div>\n",
              "<style scoped>\n",
              "    .dataframe tbody tr th:only-of-type {\n",
              "        vertical-align: middle;\n",
              "    }\n",
              "\n",
              "    .dataframe tbody tr th {\n",
              "        vertical-align: top;\n",
              "    }\n",
              "\n",
              "    .dataframe thead th {\n",
              "        text-align: right;\n",
              "    }\n",
              "</style>\n",
              "<table border=\"1\" class=\"dataframe\">\n",
              "  <thead>\n",
              "    <tr style=\"text-align: right;\">\n",
              "      <th></th>\n",
              "      <th>Toy Story (1995)</th>\n",
              "      <th>Jumanji (1995)</th>\n",
              "      <th>Grumpier Old Men (1995)</th>\n",
              "      <th>Waiting to Exhale (1995)</th>\n",
              "      <th>Father of the Bride Part II (1995)</th>\n",
              "      <th>Heat (1995)</th>\n",
              "      <th>Sabrina (1995)</th>\n",
              "      <th>Tom and Huck (1995)</th>\n",
              "      <th>Sudden Death (1995)</th>\n",
              "      <th>GoldenEye (1995)</th>\n",
              "    </tr>\n",
              "  </thead>\n",
              "  <tbody>\n",
              "    <tr>\n",
              "      <th>0</th>\n",
              "      <td>Antz (1998)</td>\n",
              "      <td>Indian in the Cupboard, The (1995)</td>\n",
              "      <td>Sabrina (1995)</td>\n",
              "      <td>American President, The (1995)</td>\n",
              "      <td>Four Rooms (1995)</td>\n",
              "      <td>Assassins (1995)</td>\n",
              "      <td>Grumpier Old Men (1995)</td>\n",
              "      <td>Amazing Panda Adventure, The (1995)</td>\n",
              "      <td>Fair Game (1995)</td>\n",
              "      <td>Broken Arrow (1996)</td>\n",
              "    </tr>\n",
              "    <tr>\n",
              "      <th>1</th>\n",
              "      <td>Toy Story 2 (1999)</td>\n",
              "      <td>NeverEnding Story III, The (1994)</td>\n",
              "      <td>Clueless (1995)</td>\n",
              "      <td>Mighty Aphrodite (1995)</td>\n",
              "      <td>Ace Ventura: When Nature Calls (1995)</td>\n",
              "      <td>Die Hard: With a Vengeance (1995)</td>\n",
              "      <td>Clueless (1995)</td>\n",
              "      <td>Casper (1995)</td>\n",
              "      <td>Under Siege 2: Dark Territory (1995)</td>\n",
              "      <td>Cliffhanger (1993)</td>\n",
              "    </tr>\n",
              "    <tr>\n",
              "      <th>2</th>\n",
              "      <td>Adventures of Rocky and Bullwinkle, The (2000)</td>\n",
              "      <td>Escape to Witch Mountain (1975)</td>\n",
              "      <td>Two if by Sea (1996)</td>\n",
              "      <td>Postman, The (Postino, Il) (1994)</td>\n",
              "      <td>Bio-Dome (1996)</td>\n",
              "      <td>Net, The (1995)</td>\n",
              "      <td>Two if by Sea (1996)</td>\n",
              "      <td>Far From Home: The Adventures of Yellow Dog (1...</td>\n",
              "      <td>Hunted, The (1995)</td>\n",
              "      <td>Executive Decision (1996)</td>\n",
              "    </tr>\n",
              "    <tr>\n",
              "      <th>3</th>\n",
              "      <td>Emperor's New Groove, The (2000)</td>\n",
              "      <td>Darby O'Gill and the Little People (1959)</td>\n",
              "      <td>French Twist (Gazon maudit) (1995)</td>\n",
              "      <td>Beautiful Girls (1996)</td>\n",
              "      <td>Friday (1995)</td>\n",
              "      <td>Natural Born Killers (1994)</td>\n",
              "      <td>French Twist (Gazon maudit) (1995)</td>\n",
              "      <td>Lassie (1994)</td>\n",
              "      <td>Bloodsport 2 (a.k.a. Bloodsport II: The Next K...</td>\n",
              "      <td>Surviving the Game (1994)</td>\n",
              "    </tr>\n",
              "    <tr>\n",
              "      <th>4</th>\n",
              "      <td>Monsters, Inc. (2001)</td>\n",
              "      <td>Return to Oz (1985)</td>\n",
              "      <td>If Lucy Fell (1996)</td>\n",
              "      <td>Something to Talk About (1995)</td>\n",
              "      <td>Black Sheep (1996)</td>\n",
              "      <td>Judgment Night (1993)</td>\n",
              "      <td>If Lucy Fell (1996)</td>\n",
              "      <td>Homeward Bound II: Lost in San Francisco (1996)</td>\n",
              "      <td>Best of the Best 3: No Turning Back (1995)</td>\n",
              "      <td>Rock, The (1996)</td>\n",
              "    </tr>\n",
              "  </tbody>\n",
              "</table>\n",
              "</div>\n",
              "      <button class=\"colab-df-convert\" onclick=\"convertToInteractive('df-24b46db2-4460-48ae-a5c0-c34075d87f47')\"\n",
              "              title=\"Convert this dataframe to an interactive table.\"\n",
              "              style=\"display:none;\">\n",
              "        \n",
              "  <svg xmlns=\"http://www.w3.org/2000/svg\" height=\"24px\"viewBox=\"0 0 24 24\"\n",
              "       width=\"24px\">\n",
              "    <path d=\"M0 0h24v24H0V0z\" fill=\"none\"/>\n",
              "    <path d=\"M18.56 5.44l.94 2.06.94-2.06 2.06-.94-2.06-.94-.94-2.06-.94 2.06-2.06.94zm-11 1L8.5 8.5l.94-2.06 2.06-.94-2.06-.94L8.5 2.5l-.94 2.06-2.06.94zm10 10l.94 2.06.94-2.06 2.06-.94-2.06-.94-.94-2.06-.94 2.06-2.06.94z\"/><path d=\"M17.41 7.96l-1.37-1.37c-.4-.4-.92-.59-1.43-.59-.52 0-1.04.2-1.43.59L10.3 9.45l-7.72 7.72c-.78.78-.78 2.05 0 2.83L4 21.41c.39.39.9.59 1.41.59.51 0 1.02-.2 1.41-.59l7.78-7.78 2.81-2.81c.8-.78.8-2.07 0-2.86zM5.41 20L4 18.59l7.72-7.72 1.47 1.35L5.41 20z\"/>\n",
              "  </svg>\n",
              "      </button>\n",
              "      \n",
              "  <style>\n",
              "    .colab-df-container {\n",
              "      display:flex;\n",
              "      flex-wrap:wrap;\n",
              "      gap: 12px;\n",
              "    }\n",
              "\n",
              "    .colab-df-convert {\n",
              "      background-color: #E8F0FE;\n",
              "      border: none;\n",
              "      border-radius: 50%;\n",
              "      cursor: pointer;\n",
              "      display: none;\n",
              "      fill: #1967D2;\n",
              "      height: 32px;\n",
              "      padding: 0 0 0 0;\n",
              "      width: 32px;\n",
              "    }\n",
              "\n",
              "    .colab-df-convert:hover {\n",
              "      background-color: #E2EBFA;\n",
              "      box-shadow: 0px 1px 2px rgba(60, 64, 67, 0.3), 0px 1px 3px 1px rgba(60, 64, 67, 0.15);\n",
              "      fill: #174EA6;\n",
              "    }\n",
              "\n",
              "    [theme=dark] .colab-df-convert {\n",
              "      background-color: #3B4455;\n",
              "      fill: #D2E3FC;\n",
              "    }\n",
              "\n",
              "    [theme=dark] .colab-df-convert:hover {\n",
              "      background-color: #434B5C;\n",
              "      box-shadow: 0px 1px 3px 1px rgba(0, 0, 0, 0.15);\n",
              "      filter: drop-shadow(0px 1px 2px rgba(0, 0, 0, 0.3));\n",
              "      fill: #FFFFFF;\n",
              "    }\n",
              "  </style>\n",
              "\n",
              "      <script>\n",
              "        const buttonEl =\n",
              "          document.querySelector('#df-24b46db2-4460-48ae-a5c0-c34075d87f47 button.colab-df-convert');\n",
              "        buttonEl.style.display =\n",
              "          google.colab.kernel.accessAllowed ? 'block' : 'none';\n",
              "\n",
              "        async function convertToInteractive(key) {\n",
              "          const element = document.querySelector('#df-24b46db2-4460-48ae-a5c0-c34075d87f47');\n",
              "          const dataTable =\n",
              "            await google.colab.kernel.invokeFunction('convertToInteractive',\n",
              "                                                     [key], {});\n",
              "          if (!dataTable) return;\n",
              "\n",
              "          const docLinkHtml = 'Like what you see? Visit the ' +\n",
              "            '<a target=\"_blank\" href=https://colab.research.google.com/notebooks/data_table.ipynb>data table notebook</a>'\n",
              "            + ' to learn more about interactive tables.';\n",
              "          element.innerHTML = '';\n",
              "          dataTable['output_type'] = 'display_data';\n",
              "          await google.colab.output.renderOutput(dataTable, element);\n",
              "          const docLink = document.createElement('div');\n",
              "          docLink.innerHTML = docLinkHtml;\n",
              "          element.appendChild(docLink);\n",
              "        }\n",
              "      </script>\n",
              "    </div>\n",
              "  </div>\n",
              "  "
            ]
          },
          "metadata": {},
          "execution_count": 54
        }
      ],
      "source": [
        "resultDataframe.head()"
      ]
    }
  ],
  "metadata": {
    "colab": {
      "provenance": [],
      "include_colab_link": true
    },
    "kernelspec": {
      "display_name": "Python 3",
      "name": "python3"
    },
    "language_info": {
      "name": "python"
    }
  },
  "nbformat": 4,
  "nbformat_minor": 0
}